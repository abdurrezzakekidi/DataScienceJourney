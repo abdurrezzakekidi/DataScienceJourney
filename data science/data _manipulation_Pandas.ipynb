{
 "cells": [
  {
   "cell_type": "markdown",
   "id": "05e25678-9de6-4358-b5c6-3af50e53f456",
   "metadata": {},
   "source": [
    "### Pandas Serisi Oluşturmak"
   ]
  },
  {
   "cell_type": "code",
   "execution_count": 127,
   "id": "4a4dcb92-6079-4b33-a93f-cc2c09c17ff3",
   "metadata": {
    "tags": []
   },
   "outputs": [],
   "source": [
    "import pandas as pd"
   ]
  },
  {
   "cell_type": "code",
   "execution_count": 129,
   "id": "695fa7eb-aa71-4ff3-a966-21dd7a93c95d",
   "metadata": {
    "tags": []
   },
   "outputs": [
    {
     "data": {
      "text/plain": [
       "0    10\n",
       "1    88\n",
       "2     3\n",
       "3     4\n",
       "4     5\n",
       "dtype: int64"
      ]
     },
     "execution_count": 129,
     "metadata": {},
     "output_type": "execute_result"
    }
   ],
   "source": [
    "pd.Series([10, 88, 3, 4, 5,])"
   ]
  },
  {
   "cell_type": "code",
   "execution_count": 131,
   "id": "5891a0bb-23b0-431b-9a06-3a41723e3dae",
   "metadata": {
    "tags": []
   },
   "outputs": [
    {
     "data": {
      "text/plain": [
       "pandas.core.series.Series"
      ]
     },
     "execution_count": 131,
     "metadata": {},
     "output_type": "execute_result"
    }
   ],
   "source": [
    "seri = pd.Series([10, 88, 3, 4, 5])\n",
    "type(seri)"
   ]
  },
  {
   "cell_type": "code",
   "execution_count": 133,
   "id": "c7e13cdc-d46b-4903-bf2f-d882bd105fa3",
   "metadata": {
    "tags": []
   },
   "outputs": [
    {
     "data": {
      "text/plain": [
       "[RangeIndex(start=0, stop=5, step=1)]"
      ]
     },
     "execution_count": 133,
     "metadata": {},
     "output_type": "execute_result"
    }
   ],
   "source": [
    "# index bilgilerine erişiyoruz\n",
    "seri.axes"
   ]
  },
  {
   "cell_type": "code",
   "execution_count": 134,
   "id": "7d000e60-914a-4cc4-9849-687b5f9e6d52",
   "metadata": {
    "tags": []
   },
   "outputs": [
    {
     "data": {
      "text/plain": [
       "dtype('int64')"
      ]
     },
     "execution_count": 134,
     "metadata": {},
     "output_type": "execute_result"
    }
   ],
   "source": [
    "seri.dtype"
   ]
  },
  {
   "cell_type": "code",
   "execution_count": 137,
   "id": "2a05e969-53a9-411b-925a-bde013aaacc2",
   "metadata": {
    "tags": []
   },
   "outputs": [
    {
     "data": {
      "text/plain": [
       "5"
      ]
     },
     "execution_count": 137,
     "metadata": {},
     "output_type": "execute_result"
    }
   ],
   "source": [
    "seri.size"
   ]
  },
  {
   "cell_type": "code",
   "execution_count": 138,
   "id": "fd835dcb-98a2-4d4a-8ac1-aa369881dcb7",
   "metadata": {
    "tags": []
   },
   "outputs": [
    {
     "data": {
      "text/plain": [
       "1"
      ]
     },
     "execution_count": 138,
     "metadata": {},
     "output_type": "execute_result"
    }
   ],
   "source": [
    "seri.ndim"
   ]
  },
  {
   "cell_type": "code",
   "execution_count": 140,
   "id": "0ba30426-a7fd-40b3-8831-5096fc24d9be",
   "metadata": {
    "tags": []
   },
   "outputs": [
    {
     "data": {
      "text/plain": [
       "array([10, 88,  3,  4,  5], dtype=int64)"
      ]
     },
     "execution_count": 140,
     "metadata": {},
     "output_type": "execute_result"
    }
   ],
   "source": [
    "seri.values"
   ]
  },
  {
   "cell_type": "code",
   "execution_count": 142,
   "id": "92890bcb-6c9e-404a-836b-83b73e541d09",
   "metadata": {
    "tags": []
   },
   "outputs": [
    {
     "data": {
      "text/plain": [
       "0    10\n",
       "1    88\n",
       "2     3\n",
       "3     4\n",
       "4     5\n",
       "dtype: int64"
      ]
     },
     "execution_count": 142,
     "metadata": {},
     "output_type": "execute_result"
    }
   ],
   "source": [
    "seri.head()"
   ]
  },
  {
   "cell_type": "code",
   "execution_count": 143,
   "id": "7f4ba9f6-f907-4dd4-926f-2a209e5338e4",
   "metadata": {
    "tags": []
   },
   "outputs": [
    {
     "data": {
      "text/plain": [
       "0    10\n",
       "1    88\n",
       "2     3\n",
       "dtype: int64"
      ]
     },
     "execution_count": 143,
     "metadata": {},
     "output_type": "execute_result"
    }
   ],
   "source": [
    "seri.head(3)"
   ]
  },
  {
   "cell_type": "code",
   "execution_count": 145,
   "id": "2afdc2a1-bb45-44cc-8ee6-1c752e8cd8ca",
   "metadata": {
    "tags": []
   },
   "outputs": [
    {
     "data": {
      "text/plain": [
       "2    3\n",
       "3    4\n",
       "4    5\n",
       "dtype: int64"
      ]
     },
     "execution_count": 145,
     "metadata": {},
     "output_type": "execute_result"
    }
   ],
   "source": [
    "# sondan bakmak\n",
    "seri.tail(3)"
   ]
  },
  {
   "cell_type": "markdown",
   "id": "2cc2b635-55bf-4b1f-bb2c-b217d4b8a71e",
   "metadata": {},
   "source": [
    "### index isimlendirmesi"
   ]
  },
  {
   "cell_type": "code",
   "execution_count": 149,
   "id": "342d8b33-1a37-416a-91ea-8c8054fe9055",
   "metadata": {
    "tags": []
   },
   "outputs": [
    {
     "data": {
      "text/plain": [
       "0     99\n",
       "1     22\n",
       "2    332\n",
       "3     94\n",
       "4      5\n",
       "dtype: int64"
      ]
     },
     "execution_count": 149,
     "metadata": {},
     "output_type": "execute_result"
    }
   ],
   "source": [
    "pd.Series([99, 22, 332, 94, 5])"
   ]
  },
  {
   "cell_type": "code",
   "execution_count": 151,
   "id": "4d2b1868-ab13-44db-b8b6-8e7f0443935b",
   "metadata": {
    "tags": []
   },
   "outputs": [
    {
     "data": {
      "text/plain": [
       "1     99\n",
       "3     22\n",
       "5    332\n",
       "7     94\n",
       "9      5\n",
       "dtype: int64"
      ]
     },
     "execution_count": 151,
     "metadata": {},
     "output_type": "execute_result"
    }
   ],
   "source": [
    "pd.Series([99, 22, 332, 94, 5], index =[1, 3, 5, 7, 9])"
   ]
  },
  {
   "cell_type": "code",
   "execution_count": 152,
   "id": "9a401acc-3cc1-4654-81eb-3574f467733b",
   "metadata": {
    "tags": []
   },
   "outputs": [
    {
     "data": {
      "text/plain": [
       "a     99\n",
       "b     22\n",
       "c    332\n",
       "d     94\n",
       "w      5\n",
       "dtype: int64"
      ]
     },
     "execution_count": 152,
     "metadata": {},
     "output_type": "execute_result"
    }
   ],
   "source": [
    "pd.Series([99, 22, 332, 94, 5], index =[\"a\", \"b\", \"c\", \"d\", \"w\"])"
   ]
  },
  {
   "cell_type": "code",
   "execution_count": 153,
   "id": "4fa3d8d2-2d71-478e-9199-7222cfd62c50",
   "metadata": {
    "tags": []
   },
   "outputs": [],
   "source": [
    "seri = pd.Series([99, 22, 332, 94, 5], index =[\"a\", \"b\", \"c\", \"d\", \"e\"])"
   ]
  },
  {
   "cell_type": "code",
   "execution_count": 155,
   "id": "41e6b35d-63ae-4bad-8c00-b2351629b3fb",
   "metadata": {
    "tags": []
   },
   "outputs": [
    {
     "data": {
      "text/plain": [
       "99"
      ]
     },
     "execution_count": 155,
     "metadata": {},
     "output_type": "execute_result"
    }
   ],
   "source": [
    "seri[\"a\"]"
   ]
  },
  {
   "cell_type": "code",
   "execution_count": 156,
   "id": "90887b8d-6ca0-4a29-b210-e359f97ea6fb",
   "metadata": {
    "tags": []
   },
   "outputs": [
    {
     "data": {
      "text/plain": [
       "a     99\n",
       "b     22\n",
       "c    332\n",
       "d     94\n",
       "dtype: int64"
      ]
     },
     "execution_count": 156,
     "metadata": {},
     "output_type": "execute_result"
    }
   ],
   "source": [
    "seri[\"a\":\"d\"]"
   ]
  },
  {
   "cell_type": "markdown",
   "id": "3763ba22-6e7b-4d7e-91ac-a491882047dc",
   "metadata": {},
   "source": [
    "### sozluk üzerinden liste oluşturmak "
   ]
  },
  {
   "cell_type": "code",
   "execution_count": 160,
   "id": "40b279a9-2ed2-4e42-ba84-173901e9ac24",
   "metadata": {
    "tags": []
   },
   "outputs": [],
   "source": [
    "sozluk = {\"reg\":10, \"log\":11, \"cart\":12}\n"
   ]
  },
  {
   "cell_type": "code",
   "execution_count": 162,
   "id": "f6fcd3fe-a9c9-4390-b85f-4d0454964ee3",
   "metadata": {
    "tags": []
   },
   "outputs": [],
   "source": [
    "seri = pd.Series(sozluk)"
   ]
  },
  {
   "cell_type": "code",
   "execution_count": 163,
   "id": "d323d416-79bd-498a-9f61-e5a7515ae58c",
   "metadata": {
    "tags": []
   },
   "outputs": [
    {
     "data": {
      "text/plain": [
       "reg     10\n",
       "log     11\n",
       "cart    12\n",
       "dtype: int64"
      ]
     },
     "execution_count": 163,
     "metadata": {},
     "output_type": "execute_result"
    }
   ],
   "source": [
    "seri"
   ]
  },
  {
   "cell_type": "markdown",
   "id": "dd37f482-5c90-42eb-97b7-02e6bafba197",
   "metadata": {},
   "source": [
    "### iki seriyi birleştirerek seri oluşturma"
   ]
  },
  {
   "cell_type": "code",
   "execution_count": 165,
   "id": "3f70a1b8-b1a8-491e-9acb-2508b74860df",
   "metadata": {
    "tags": []
   },
   "outputs": [
    {
     "data": {
      "text/plain": [
       "reg     10\n",
       "log     11\n",
       "cart    12\n",
       "reg     10\n",
       "log     11\n",
       "cart    12\n",
       "dtype: int64"
      ]
     },
     "execution_count": 165,
     "metadata": {},
     "output_type": "execute_result"
    }
   ],
   "source": [
    "pd.concat([seri,seri])"
   ]
  },
  {
   "cell_type": "markdown",
   "id": "50d75dc5-fda6-45c8-ae48-1f89124de5bd",
   "metadata": {},
   "source": [
    "### Eleman İşlemleri"
   ]
  },
  {
   "cell_type": "code",
   "execution_count": 169,
   "id": "59d68e8d-8e03-4242-ad06-33a6e1a73d2b",
   "metadata": {
    "tags": []
   },
   "outputs": [
    {
     "data": {
      "text/plain": [
       "0      1\n",
       "1      2\n",
       "2     33\n",
       "3    444\n",
       "4     75\n",
       "dtype: int32"
      ]
     },
     "execution_count": 169,
     "metadata": {},
     "output_type": "execute_result"
    }
   ],
   "source": [
    "import numpy as np \n",
    "import pandas as pd\n",
    "a =np.array([1, 2, 33, 444, 75]) \n",
    "seri = pd.Series(a)\n",
    "seri"
   ]
  },
  {
   "cell_type": "code",
   "execution_count": 170,
   "id": "31b83e26-59c9-49da-b72a-a89e22830afa",
   "metadata": {},
   "outputs": [
    {
     "data": {
      "text/plain": [
       "1"
      ]
     },
     "execution_count": 170,
     "metadata": {},
     "output_type": "execute_result"
    }
   ],
   "source": [
    "seri[0]"
   ]
  },
  {
   "cell_type": "code",
   "execution_count": 171,
   "id": "a8539243-7b1d-47b4-9b4b-1bc1e06c6e35",
   "metadata": {
    "tags": []
   },
   "outputs": [
    {
     "data": {
      "text/plain": [
       "0      1\n",
       "1      2\n",
       "2     33\n",
       "3    444\n",
       "dtype: int32"
      ]
     },
     "execution_count": 171,
     "metadata": {},
     "output_type": "execute_result"
    }
   ],
   "source": [
    "seri[0:4]"
   ]
  },
  {
   "cell_type": "code",
   "execution_count": 173,
   "id": "1ce863dd-d8a0-4a3a-b228-c2e1018f8a7c",
   "metadata": {
    "tags": []
   },
   "outputs": [],
   "source": [
    "seri = pd.Series([121,200,150,99], \n",
    "                 index = [\"reg\",\"loj\",\"cart\",\"rf\"])"
   ]
  },
  {
   "cell_type": "code",
   "execution_count": 174,
   "id": "f6318a84-c3e0-4322-a33a-881ff4b1a0bc",
   "metadata": {
    "tags": []
   },
   "outputs": [
    {
     "data": {
      "text/plain": [
       "reg     121\n",
       "loj     200\n",
       "cart    150\n",
       "rf       99\n",
       "dtype: int64"
      ]
     },
     "execution_count": 174,
     "metadata": {},
     "output_type": "execute_result"
    }
   ],
   "source": [
    "seri"
   ]
  },
  {
   "cell_type": "code",
   "execution_count": 178,
   "id": "22154eb5-95f9-407b-8973-3c20648c2dd3",
   "metadata": {
    "tags": []
   },
   "outputs": [
    {
     "data": {
      "text/plain": [
       "Index(['reg', 'loj', 'cart', 'rf'], dtype='object')"
      ]
     },
     "execution_count": 178,
     "metadata": {},
     "output_type": "execute_result"
    }
   ],
   "source": [
    "seri.index"
   ]
  },
  {
   "cell_type": "code",
   "execution_count": 179,
   "id": "a74939a7-40fc-404a-b48d-3f2fc2f0902c",
   "metadata": {
    "tags": []
   },
   "outputs": [
    {
     "data": {
      "text/plain": [
       "<bound method Series.keys of reg     121\n",
       "loj     200\n",
       "cart    150\n",
       "rf       99\n",
       "dtype: int64>"
      ]
     },
     "execution_count": 179,
     "metadata": {},
     "output_type": "execute_result"
    }
   ],
   "source": [
    "seri.keys"
   ]
  },
  {
   "cell_type": "code",
   "execution_count": 180,
   "id": "e4389ab5-a1d7-4854-92db-6469bcfef246",
   "metadata": {
    "tags": []
   },
   "outputs": [
    {
     "data": {
      "text/plain": [
       "[('reg', 121), ('loj', 200), ('cart', 150), ('rf', 99)]"
      ]
     },
     "execution_count": 180,
     "metadata": {},
     "output_type": "execute_result"
    }
   ],
   "source": [
    "list(seri.items())"
   ]
  },
  {
   "cell_type": "code",
   "execution_count": 181,
   "id": "71d6fa7f-fd40-4dec-b523-24053d55526a",
   "metadata": {
    "tags": []
   },
   "outputs": [
    {
     "data": {
      "text/plain": [
       "array([121, 200, 150,  99], dtype=int64)"
      ]
     },
     "execution_count": 181,
     "metadata": {},
     "output_type": "execute_result"
    }
   ],
   "source": [
    "seri.values"
   ]
  },
  {
   "cell_type": "markdown",
   "id": "84eb8c94-bee3-42e1-99ac-931dbf4d230e",
   "metadata": {},
   "source": [
    "### Eleman Sorgulama"
   ]
  },
  {
   "cell_type": "code",
   "execution_count": 185,
   "id": "25c836ba-4c6c-4ad2-bc86-4c49b8570bd4",
   "metadata": {
    "tags": []
   },
   "outputs": [
    {
     "data": {
      "text/plain": [
       "True"
      ]
     },
     "execution_count": 185,
     "metadata": {},
     "output_type": "execute_result"
    }
   ],
   "source": [
    "\"cart\" in seri"
   ]
  },
  {
   "cell_type": "code",
   "execution_count": 186,
   "id": "dbc41afe-22e8-4863-b57e-3984ebf4d53a",
   "metadata": {
    "tags": []
   },
   "outputs": [
    {
     "data": {
      "text/plain": [
       "False"
      ]
     },
     "execution_count": 186,
     "metadata": {},
     "output_type": "execute_result"
    }
   ],
   "source": [
    "\"Mehmet\" in seri"
   ]
  },
  {
   "cell_type": "code",
   "execution_count": 188,
   "id": "6331923c-1a18-4352-8344-7f25b97a795c",
   "metadata": {
    "tags": []
   },
   "outputs": [],
   "source": [
    "# Fancy eleman "
   ]
  },
  {
   "cell_type": "code",
   "execution_count": 189,
   "id": "bb399b47-c474-4c8b-a9eb-68c9e42ce8a3",
   "metadata": {
    "tags": []
   },
   "outputs": [
    {
     "data": {
      "text/plain": [
       "rf      99\n",
       "reg    121\n",
       "dtype: int64"
      ]
     },
     "execution_count": 189,
     "metadata": {},
     "output_type": "execute_result"
    }
   ],
   "source": [
    "seri[[\"rf\", \"reg\"]]"
   ]
  },
  {
   "cell_type": "code",
   "execution_count": 190,
   "id": "2b00e1f6-fcf1-4318-9dd2-f28c188b5c7c",
   "metadata": {
    "tags": []
   },
   "outputs": [],
   "source": [
    "# reg'in  değerini değiştirdik.\n",
    "seri[\"reg\"] = 130"
   ]
  },
  {
   "cell_type": "code",
   "execution_count": 192,
   "id": "23289fc0-47c7-4137-a68f-429c2f24f466",
   "metadata": {
    "tags": []
   },
   "outputs": [
    {
     "data": {
      "text/plain": [
       "130"
      ]
     },
     "execution_count": 192,
     "metadata": {},
     "output_type": "execute_result"
    }
   ],
   "source": [
    "seri[\"reg\"]"
   ]
  },
  {
   "cell_type": "code",
   "execution_count": 194,
   "id": "354c0b48-683d-4c27-8782-d23c288c0bfc",
   "metadata": {
    "tags": []
   },
   "outputs": [
    {
     "data": {
      "text/plain": [
       "reg     130\n",
       "loj     200\n",
       "cart    150\n",
       "dtype: int64"
      ]
     },
     "execution_count": 194,
     "metadata": {},
     "output_type": "execute_result"
    }
   ],
   "source": [
    "seri[\"reg\":\"cart\"]"
   ]
  },
  {
   "cell_type": "markdown",
   "id": "d7556aac-513d-4f9c-b1a2-00258580fff6",
   "metadata": {},
   "source": [
    "### Pandas DataFarame Oluşturma\n",
    "\n",
    "##### pandas DataFrame: Yapısal bir  veri tipidir excel veri yapısına  benzerdir.\n",
    "##### NumPy  Fixtype yani sabit veri tipli bir veri yapsı dolayısıyle içerisinde kategorik değişkenleri ve sürekli deişkenleri bir arada\n",
    "##### tutup bunlar üzerinde işlem yapmak konusunda çokta başarılı değil. veri manipülasyonu\n",
    "##### veri analizi anlamında ihtiyaç duyulan ileri seviye manipülatif işlemler cevap veremiyor. bu sebeple Pandas'a geçmiş olduk.\n",
    "##### dolayısıya biraz daha teorik yapılar için NumPy'ı düşünebiliriz Pandas  DataFrame Yapısı ise daha analitik anlamda makine öğrenmesi modellerine veri setleri olarak düşünebiliriz.\n"
   ]
  },
  {
   "cell_type": "code",
   "execution_count": 196,
   "id": "d4fd797f-7d7f-4720-a518-63b12276aa13",
   "metadata": {
    "tags": []
   },
   "outputs": [],
   "source": [
    "import pandas as pd"
   ]
  },
  {
   "cell_type": "code",
   "execution_count": 200,
   "id": "4ccb2633-1390-46b4-8a26-603b2e918b2a",
   "metadata": {
    "tags": []
   },
   "outputs": [],
   "source": [
    "l =[1,2,39,67,90] "
   ]
  },
  {
   "cell_type": "code",
   "execution_count": 202,
   "id": "7da9cf40-433a-48e7-9d3e-005bc177494f",
   "metadata": {
    "tags": []
   },
   "outputs": [
    {
     "data": {
      "text/plain": [
       "[1, 2, 39, 67, 90]"
      ]
     },
     "execution_count": 202,
     "metadata": {},
     "output_type": "execute_result"
    }
   ],
   "source": [
    "l"
   ]
  },
  {
   "cell_type": "code",
   "execution_count": 203,
   "id": "0c17f34f-aade-4b62-b9d2-614a58f482a2",
   "metadata": {
    "tags": []
   },
   "outputs": [
    {
     "data": {
      "text/html": [
       "<div>\n",
       "<style scoped>\n",
       "    .dataframe tbody tr th:only-of-type {\n",
       "        vertical-align: middle;\n",
       "    }\n",
       "\n",
       "    .dataframe tbody tr th {\n",
       "        vertical-align: top;\n",
       "    }\n",
       "\n",
       "    .dataframe thead th {\n",
       "        text-align: right;\n",
       "    }\n",
       "</style>\n",
       "<table border=\"1\" class=\"dataframe\">\n",
       "  <thead>\n",
       "    <tr style=\"text-align: right;\">\n",
       "      <th></th>\n",
       "      <th>degisken_ismi</th>\n",
       "    </tr>\n",
       "  </thead>\n",
       "  <tbody>\n",
       "    <tr>\n",
       "      <th>a</th>\n",
       "      <td>1</td>\n",
       "    </tr>\n",
       "    <tr>\n",
       "      <th>b</th>\n",
       "      <td>2</td>\n",
       "    </tr>\n",
       "    <tr>\n",
       "      <th>c</th>\n",
       "      <td>39</td>\n",
       "    </tr>\n",
       "    <tr>\n",
       "      <th>d</th>\n",
       "      <td>67</td>\n",
       "    </tr>\n",
       "    <tr>\n",
       "      <th>w</th>\n",
       "      <td>90</td>\n",
       "    </tr>\n",
       "  </tbody>\n",
       "</table>\n",
       "</div>"
      ],
      "text/plain": [
       "   degisken_ismi\n",
       "a              1\n",
       "b              2\n",
       "c             39\n",
       "d             67\n",
       "w             90"
      ]
     },
     "execution_count": 203,
     "metadata": {},
     "output_type": "execute_result"
    }
   ],
   "source": [
    "pd.DataFrame(l,columns =[\"degisken_ismi\"],index =[\"a\", \"b\", \"c\", \"d\", \"w\"])"
   ]
  },
  {
   "cell_type": "code",
   "execution_count": 210,
   "id": "b123db5c-8edb-4f94-83fd-6fcc027dfeaf",
   "metadata": {},
   "outputs": [
    {
     "data": {
      "text/plain": [
       "array([[1, 2, 3],\n",
       "       [4, 5, 6],\n",
       "       [7, 8, 9]])"
      ]
     },
     "execution_count": 210,
     "metadata": {},
     "output_type": "execute_result"
    }
   ],
   "source": [
    "import numpy as np\n",
    "m = np.arange(1,10).reshape((3,3))\n",
    "m"
   ]
  },
  {
   "cell_type": "code",
   "execution_count": 213,
   "id": "6a0d9293-c2a2-46c1-bcff-73337f879caf",
   "metadata": {
    "tags": []
   },
   "outputs": [
    {
     "data": {
      "text/html": [
       "<div>\n",
       "<style scoped>\n",
       "    .dataframe tbody tr th:only-of-type {\n",
       "        vertical-align: middle;\n",
       "    }\n",
       "\n",
       "    .dataframe tbody tr th {\n",
       "        vertical-align: top;\n",
       "    }\n",
       "\n",
       "    .dataframe thead th {\n",
       "        text-align: right;\n",
       "    }\n",
       "</style>\n",
       "<table border=\"1\" class=\"dataframe\">\n",
       "  <thead>\n",
       "    <tr style=\"text-align: right;\">\n",
       "      <th></th>\n",
       "      <th>var1</th>\n",
       "      <th>var2</th>\n",
       "      <th>var3</th>\n",
       "    </tr>\n",
       "  </thead>\n",
       "  <tbody>\n",
       "    <tr>\n",
       "      <th>0</th>\n",
       "      <td>1</td>\n",
       "      <td>2</td>\n",
       "      <td>3</td>\n",
       "    </tr>\n",
       "    <tr>\n",
       "      <th>1</th>\n",
       "      <td>4</td>\n",
       "      <td>5</td>\n",
       "      <td>6</td>\n",
       "    </tr>\n",
       "    <tr>\n",
       "      <th>2</th>\n",
       "      <td>7</td>\n",
       "      <td>8</td>\n",
       "      <td>9</td>\n",
       "    </tr>\n",
       "  </tbody>\n",
       "</table>\n",
       "</div>"
      ],
      "text/plain": [
       "   var1  var2  var3\n",
       "0     1     2     3\n",
       "1     4     5     6\n",
       "2     7     8     9"
      ]
     },
     "execution_count": 213,
     "metadata": {},
     "output_type": "execute_result"
    }
   ],
   "source": [
    "pd.DataFrame(m, columns = [\"var1\",\"var2\",\"var3\"])"
   ]
  },
  {
   "cell_type": "code",
   "execution_count": 219,
   "id": "6f8e95ac-f559-4758-bc98-058e8d9fbae2",
   "metadata": {},
   "outputs": [
    {
     "ename": "NameError",
     "evalue": "name 'df' is not defined",
     "output_type": "error",
     "traceback": [
      "\u001b[1;31m---------------------------------------------------------------------------\u001b[0m",
      "\u001b[1;31mNameError\u001b[0m                                 Traceback (most recent call last)",
      "Cell \u001b[1;32mIn[219], line 1\u001b[0m\n\u001b[1;32m----> 1\u001b[0m var4_data \u001b[38;5;241m=\u001b[39m (df[\u001b[38;5;124m\"\u001b[39m\u001b[38;5;124mvar1\u001b[39m\u001b[38;5;124m\"\u001b[39m] \u001b[38;5;241m+\u001b[39m df[\u001b[38;5;124m\"\u001b[39m\u001b[38;5;124mvar2\u001b[39m\u001b[38;5;124m\"\u001b[39m] \u001b[38;5;241m+\u001b[39m df[\u001b[38;5;124m\"\u001b[39m\u001b[38;5;124mvar3\u001b[39m\u001b[38;5;124m\"\u001b[39m]) \u001b[38;5;241m/\u001b[39m \u001b[38;5;241m3\u001b[39m\n",
      "\u001b[1;31mNameError\u001b[0m: name 'df' is not defined"
     ]
    }
   ],
   "source": [
    "var4_data = (df[\"var1\"] + df[\"var2\"] + df[\"var3\"]) / 3\n",
    "\n"
   ]
  },
  {
   "cell_type": "code",
   "execution_count": 221,
   "id": "df62716a-8892-4fcd-87e1-a3552f854f4f",
   "metadata": {},
   "outputs": [
    {
     "ename": "NameError",
     "evalue": "name 'df' is not defined",
     "output_type": "error",
     "traceback": [
      "\u001b[1;31m---------------------------------------------------------------------------\u001b[0m",
      "\u001b[1;31mNameError\u001b[0m                                 Traceback (most recent call last)",
      "Cell \u001b[1;32mIn[221], line 1\u001b[0m\n\u001b[1;32m----> 1\u001b[0m df\u001b[38;5;241m.\u001b[39minsert(\u001b[38;5;241m1\u001b[39m, \u001b[38;5;124m\"\u001b[39m\u001b[38;5;124mvar4\u001b[39m\u001b[38;5;124m\"\u001b[39m, var4_data)\n",
      "\u001b[1;31mNameError\u001b[0m: name 'df' is not defined"
     ]
    }
   ],
   "source": [
    "df.insert(1, \"var4\", var4_data)"
   ]
  },
  {
   "cell_type": "code",
   "execution_count": null,
   "id": "773c1119-a840-48f8-9684-f2cdab7b9d87",
   "metadata": {},
   "outputs": [],
   "source": []
  },
  {
   "cell_type": "markdown",
   "id": "f7341f73-2bd1-40e8-99f1-cd9949402d1b",
   "metadata": {},
   "source": [
    "#### df(DataFrame) isimlendirme"
   ]
  },
  {
   "cell_type": "code",
   "execution_count": null,
   "id": "d6743c8b-4972-4b62-b4b8-e2f29165502e",
   "metadata": {
    "tags": []
   },
   "outputs": [],
   "source": [
    "df = pd.DataFrame(m, columns = [\"var1\",\"var2\",\"var3\"])\n",
    "df.head()"
   ]
  },
  {
   "cell_type": "code",
   "execution_count": null,
   "id": "0d6e3d95-28fe-4f7a-a706-841c8cb9f7c1",
   "metadata": {
    "tags": []
   },
   "outputs": [],
   "source": [
    "df.columns"
   ]
  },
  {
   "cell_type": "code",
   "execution_count": null,
   "id": "4c1eeb65-c89b-46bb-84de-1dfde6d2eed9",
   "metadata": {
    "tags": []
   },
   "outputs": [],
   "source": [
    "df.columns = (\"deg1\",\"deg2\",\"deg3\")"
   ]
  },
  {
   "cell_type": "code",
   "execution_count": null,
   "id": "a7a692c5-8981-40e4-80a0-14f9bfc1cd01",
   "metadata": {
    "tags": []
   },
   "outputs": [],
   "source": [
    "df"
   ]
  },
  {
   "cell_type": "code",
   "execution_count": null,
   "id": "46e20da2-54b4-43fe-80d8-17a3fd39869d",
   "metadata": {
    "tags": []
   },
   "outputs": [],
   "source": [
    "type(df)"
   ]
  },
  {
   "cell_type": "code",
   "execution_count": null,
   "id": "77c3c331-8150-4938-8f81-29b4715ed455",
   "metadata": {
    "tags": []
   },
   "outputs": [],
   "source": [
    "df.axes"
   ]
  },
  {
   "cell_type": "code",
   "execution_count": null,
   "id": "6eb31fb1-5d47-4d2b-b307-68971987a418",
   "metadata": {
    "tags": []
   },
   "outputs": [],
   "source": [
    "df.shape"
   ]
  },
  {
   "cell_type": "code",
   "execution_count": null,
   "id": "d0ac2bba-be26-4813-874a-9ccb4400133c",
   "metadata": {
    "tags": []
   },
   "outputs": [],
   "source": [
    "df.ndim"
   ]
  },
  {
   "cell_type": "code",
   "execution_count": null,
   "id": "3896d356-dcb3-4fde-94d1-bd5b6dc2766c",
   "metadata": {
    "tags": []
   },
   "outputs": [],
   "source": [
    "df.size"
   ]
  },
  {
   "cell_type": "code",
   "execution_count": null,
   "id": "d7a88934-0fc4-4975-9296-6d4dd6cbd985",
   "metadata": {
    "tags": []
   },
   "outputs": [],
   "source": [
    "df.values"
   ]
  },
  {
   "cell_type": "code",
   "execution_count": null,
   "id": "1487d58a-cbca-4491-a73f-29c19325aa5f",
   "metadata": {
    "tags": []
   },
   "outputs": [],
   "source": [
    "# DataFrame tipinfe olan veri yapısının içerisinden sadece değerleri--\n",
    "# çekip bunları numPy array'ına  yani (ndarray) nesnesine çevirdi.\n",
    "type(df.values)"
   ]
  },
  {
   "cell_type": "code",
   "execution_count": null,
   "id": "3fbd14c7-b951-49ab-8b13-08ae54a62e35",
   "metadata": {
    "tags": []
   },
   "outputs": [],
   "source": [
    "df.head()"
   ]
  },
  {
   "cell_type": "code",
   "execution_count": null,
   "id": "9040bfc8-91a0-4876-ab57-9c30dc78b1d3",
   "metadata": {
    "tags": []
   },
   "outputs": [],
   "source": [
    "df.tail(1)"
   ]
  },
  {
   "cell_type": "code",
   "execution_count": null,
   "id": "4cff2841-e503-4465-a724-486ecfd36af1",
   "metadata": {
    "tags": []
   },
   "outputs": [],
   "source": [
    "a = np.array([1,2,3,4,5])"
   ]
  },
  {
   "cell_type": "code",
   "execution_count": null,
   "id": "56a34388-5117-4dcc-97ee-7aa3e57884cf",
   "metadata": {
    "tags": []
   },
   "outputs": [],
   "source": [
    "pd.DataFrame(a, columns = [\"deg1\"])"
   ]
  },
  {
   "cell_type": "markdown",
   "id": "b80418d8-61fa-4aa6-929b-ecb1a90f0a11",
   "metadata": {},
   "source": [
    "### Eleman İşlemleri"
   ]
  },
  {
   "cell_type": "code",
   "execution_count": null,
   "id": "c14d3d87-ff96-4991-bbaf-219d23c40950",
   "metadata": {
    "tags": []
   },
   "outputs": [],
   "source": [
    "import numpy as np\n",
    "\n",
    "s1 = np.random.randint(10, size = 5)\n",
    "s2 = np.random.randint(10, size = 5)\n",
    "s3 = np.random.randint(10, size = 5)"
   ]
  },
  {
   "cell_type": "code",
   "execution_count": null,
   "id": "c93a5bda-7522-4429-bd4e-cdb65f989a93",
   "metadata": {
    "tags": []
   },
   "outputs": [],
   "source": [
    "sozluk = {\"var1\": s1, \"var2\": s2, \"var3\": s3}"
   ]
  },
  {
   "cell_type": "code",
   "execution_count": null,
   "id": "d7302822-fd7e-4731-ae23-7b2e099fb2d8",
   "metadata": {
    "tags": []
   },
   "outputs": [],
   "source": [
    "sozluk"
   ]
  },
  {
   "cell_type": "code",
   "execution_count": null,
   "id": "efde4791-2b47-4e48-ba10-605c59bff94d",
   "metadata": {
    "tags": []
   },
   "outputs": [],
   "source": [
    "df = pd.DataFrame(sozluk)"
   ]
  },
  {
   "cell_type": "code",
   "execution_count": null,
   "id": "1dca4493-865c-40e9-96ec-46595707ae08",
   "metadata": {
    "tags": []
   },
   "outputs": [],
   "source": [
    "df"
   ]
  },
  {
   "cell_type": "code",
   "execution_count": null,
   "id": "c83f4200-9eb4-4729-9173-75a6072b456d",
   "metadata": {
    "tags": []
   },
   "outputs": [],
   "source": [
    "df[0:1]"
   ]
  },
  {
   "cell_type": "code",
   "execution_count": null,
   "id": "6210a662-05bf-40aa-8f17-86dcc4a938fe",
   "metadata": {
    "tags": []
   },
   "outputs": [],
   "source": [
    "df.index"
   ]
  },
  {
   "cell_type": "code",
   "execution_count": null,
   "id": "83624ccd-9a36-4c4c-a4ac-6a92243cd94d",
   "metadata": {
    "tags": []
   },
   "outputs": [],
   "source": [
    "df.index = [\"a\",\"b\",\"c\",\"d\",\"e\"]"
   ]
  },
  {
   "cell_type": "code",
   "execution_count": null,
   "id": "95938277-03f8-4f09-b558-831f6b4b9e90",
   "metadata": {
    "tags": []
   },
   "outputs": [],
   "source": [
    "df"
   ]
  },
  {
   "cell_type": "code",
   "execution_count": null,
   "id": "eff0b701-edbd-4517-9ae6-303156193720",
   "metadata": {
    "tags": []
   },
   "outputs": [],
   "source": [
    "df[\"c\":\"e\"]"
   ]
  },
  {
   "cell_type": "markdown",
   "id": "3e3e2661-294f-45d3-accd-6749ca4f8269",
   "metadata": {},
   "source": [
    "### Silme"
   ]
  },
  {
   "cell_type": "code",
   "execution_count": null,
   "id": "59f8ac7a-2967-40c0-9d3b-6661e9554eb8",
   "metadata": {
    "tags": []
   },
   "outputs": [],
   "source": [
    "df.drop(\"a\", axis =0)"
   ]
  },
  {
   "cell_type": "code",
   "execution_count": null,
   "id": "a0948075-e36e-42f4-8723-1b24dc5b777a",
   "metadata": {
    "tags": []
   },
   "outputs": [],
   "source": [
    "df.drop(\"var2\", axis =1)"
   ]
  },
  {
   "cell_type": "code",
   "execution_count": null,
   "id": "02833e96-63a3-47f7-8d01-43f3b13a25e7",
   "metadata": {
    "tags": []
   },
   "outputs": [],
   "source": [
    "df"
   ]
  },
  {
   "cell_type": "code",
   "execution_count": null,
   "id": "a153120f-37c8-40a6-8a17-14dce9b89629",
   "metadata": {
    "tags": []
   },
   "outputs": [],
   "source": [
    "\"\"\"\n",
    "veri setinin ana yapısı üzerinde bir değişiklik olmadı\n",
    "eğer ben a'nın silinmiş olduğu dataframe'i yeni DataFrame olarak tanımlamak \n",
    "istersem bu dataframe'i baştan tanımlayabilirim yada \n",
    "pandas'ın (inplace) argümanını kullanırım.\n",
    "\n",
    "\"\"\"\n",
    "df.drop(\"a\", axis = 0, inplace = True)\n"
   ]
  },
  {
   "cell_type": "code",
   "execution_count": null,
   "id": "0124d7bd-e917-4888-b17c-53f25f900098",
   "metadata": {
    "tags": []
   },
   "outputs": [],
   "source": [
    "df"
   ]
  },
  {
   "cell_type": "code",
   "execution_count": null,
   "id": "66aca2c1-0d33-4b6e-be5b-4695579251ce",
   "metadata": {
    "tags": []
   },
   "outputs": [],
   "source": [
    "# fancy"
   ]
  },
  {
   "cell_type": "code",
   "execution_count": null,
   "id": "f5d30926-5672-4784-a75c-32a1e346a574",
   "metadata": {
    "tags": []
   },
   "outputs": [],
   "source": [
    "l = [\"c\",\"e\"]"
   ]
  },
  {
   "cell_type": "code",
   "execution_count": null,
   "id": "ddcef3dc-e632-44bc-bec1-6d8424cbd680",
   "metadata": {
    "tags": []
   },
   "outputs": [],
   "source": [
    "df.drop(l, axis = 0)"
   ]
  },
  {
   "cell_type": "code",
   "execution_count": null,
   "id": "4c71411f-d186-4960-a9db-183d7333bf3d",
   "metadata": {
    "tags": []
   },
   "outputs": [],
   "source": [
    "# değişkenler için"
   ]
  },
  {
   "cell_type": "code",
   "execution_count": null,
   "id": "4dbb4487-938d-4cd8-bdaa-b9c3a31c054d",
   "metadata": {
    "tags": []
   },
   "outputs": [],
   "source": [
    "df"
   ]
  },
  {
   "cell_type": "code",
   "execution_count": null,
   "id": "02820844-b7be-4d17-82c3-f29f974c8f36",
   "metadata": {
    "tags": []
   },
   "outputs": [],
   "source": [
    "\"var1\" in df"
   ]
  },
  {
   "cell_type": "code",
   "execution_count": null,
   "id": "113e6d53-8a46-4fa4-82ad-fc9d71ec7e3b",
   "metadata": {
    "tags": []
   },
   "outputs": [],
   "source": [
    "l = {\"var1\",\"var4\",\"var2\"}"
   ]
  },
  {
   "cell_type": "code",
   "execution_count": null,
   "id": "2c00f91b-79bd-4418-bc8c-633c6f838f7c",
   "metadata": {
    "tags": []
   },
   "outputs": [],
   "source": [
    "for i in l:\n",
    "    print(i in df)"
   ]
  },
  {
   "cell_type": "code",
   "execution_count": null,
   "id": "0992a54a-04bf-475a-bc53-5bd5b04b1428",
   "metadata": {
    "tags": []
   },
   "outputs": [],
   "source": [
    "df"
   ]
  },
  {
   "cell_type": "code",
   "execution_count": null,
   "id": "04c177d4-2920-452a-a5cd-8c0f422f298a",
   "metadata": {
    "tags": []
   },
   "outputs": [],
   "source": [
    "df[\"var1\"]"
   ]
  },
  {
   "cell_type": "code",
   "execution_count": null,
   "id": "b608efa2-d5d2-4231-bdf7-49b8e3a6fdc1",
   "metadata": {
    "tags": []
   },
   "outputs": [],
   "source": [
    "df[\"var4\"] = df[\"var1\"] / df[\"var2\"]"
   ]
  },
  {
   "cell_type": "code",
   "execution_count": null,
   "id": "5cae0c75-a113-4c77-b560-748379746091",
   "metadata": {
    "tags": []
   },
   "outputs": [],
   "source": [
    "df"
   ]
  },
  {
   "cell_type": "code",
   "execution_count": null,
   "id": "53cb6c6c-c6af-49a5-b63e-1cb8f181ae11",
   "metadata": {
    "tags": []
   },
   "outputs": [],
   "source": [
    "#değişken silmek\n",
    "df.drop(\"var4\", axis = 1)"
   ]
  },
  {
   "cell_type": "code",
   "execution_count": null,
   "id": "0eacf6a4-5872-45fe-824a-7701a515102b",
   "metadata": {
    "tags": []
   },
   "outputs": [],
   "source": [
    "df"
   ]
  },
  {
   "cell_type": "code",
   "execution_count": null,
   "id": "72bb1651-8178-4f02-be79-d1674b9436f3",
   "metadata": {
    "tags": []
   },
   "outputs": [],
   "source": [
    "df.drop(\"var4\", axis = 1, inplace = True)"
   ]
  },
  {
   "cell_type": "code",
   "execution_count": null,
   "id": "642e1255-6d0a-4f2d-b2d8-fc9767cb7605",
   "metadata": {
    "tags": []
   },
   "outputs": [],
   "source": [
    "df"
   ]
  },
  {
   "cell_type": "code",
   "execution_count": null,
   "id": "81c5b872-7740-41b4-b883-f637e3485171",
   "metadata": {
    "tags": []
   },
   "outputs": [],
   "source": [
    "l = [\"var1\", \"var2\"]"
   ]
  },
  {
   "cell_type": "code",
   "execution_count": null,
   "id": "cfaeba13-34b9-48e7-b465-bea75f62190c",
   "metadata": {
    "tags": []
   },
   "outputs": [],
   "source": [
    "df.drop(l, axis  = 1)"
   ]
  },
  {
   "cell_type": "markdown",
   "id": "7a9e730a-bdd0-407f-9fbb-05ba6b65df63",
   "metadata": {},
   "source": [
    "### Gözlem ve değişken Seçimi:\n",
    "##### loc & iloc"
   ]
  },
  {
   "cell_type": "code",
   "execution_count": null,
   "id": "87ee6dd2-3394-40b0-9a38-b53966ebdb3b",
   "metadata": {
    "tags": []
   },
   "outputs": [],
   "source": [
    "import numpy as np\n",
    "import pandas as pd\n",
    "\n",
    "m = np.random.randint(1,30, size =(10,3))\n",
    "df = pd.DataFrame(m, columns = [\"var1\",\"var2\",\"var3\"])\n",
    "df"
   ]
  },
  {
   "cell_type": "markdown",
   "id": "a308d4d4-34d1-489f-b6d2-f956c1f18830",
   "metadata": {},
   "source": [
    "##### loc: tanımlandığı şekli ile seçim yapmak için kullanılır."
   ]
  },
  {
   "cell_type": "code",
   "execution_count": null,
   "id": "e6fe1751-bb00-4a9e-ac79-477d49c726f0",
   "metadata": {
    "tags": []
   },
   "outputs": [],
   "source": [
    "df.loc[0:3]"
   ]
  },
  {
   "cell_type": "markdown",
   "id": "15b7f666-616e-4d57-95b2-80da302a45c0",
   "metadata": {},
   "source": [
    "##### iloc: alışık olduğumuz indexleme mantığı ile seçim yapar. "
   ]
  },
  {
   "cell_type": "code",
   "execution_count": null,
   "id": "bfa2c46c-f7af-4074-8024-5d25cd0c2dfd",
   "metadata": {
    "tags": []
   },
   "outputs": [],
   "source": [
    "df. iloc[0:3]"
   ]
  },
  {
   "cell_type": "code",
   "execution_count": null,
   "id": "14de1fde-f4b3-48f6-aeed-4bad13abfeb4",
   "metadata": {
    "tags": []
   },
   "outputs": [],
   "source": [
    "df.iloc[0,0]"
   ]
  },
  {
   "cell_type": "code",
   "execution_count": null,
   "id": "74cec167-b527-417e-9620-debe21874bcd",
   "metadata": {
    "tags": []
   },
   "outputs": [],
   "source": [
    "df.iloc[:3,:2]"
   ]
  },
  {
   "cell_type": "code",
   "execution_count": null,
   "id": "58a7c510-3e8c-471e-9a91-ec7551097b8f",
   "metadata": {
    "tags": []
   },
   "outputs": [],
   "source": [
    "df.loc[0:3,\"var3\"]"
   ]
  },
  {
   "cell_type": "code",
   "execution_count": null,
   "id": "d5d0b0df-b9c9-4214-aab2-d6c05d179a65",
   "metadata": {
    "tags": []
   },
   "outputs": [],
   "source": [
    "df.iloc[0:3,\"var3\"]"
   ]
  },
  {
   "cell_type": "code",
   "execution_count": null,
   "id": "7c4d21d4-c2ff-4edc-92c2-54ab16cf6e56",
   "metadata": {
    "tags": []
   },
   "outputs": [],
   "source": [
    "df.iloc[0:3, 1:3]"
   ]
  },
  {
   "cell_type": "code",
   "execution_count": null,
   "id": "6d579ff5-167a-4c6f-88b0-cfd3d6aebe3c",
   "metadata": {
    "tags": []
   },
   "outputs": [],
   "source": [
    "df.iloc[0:3][\"var3\"]"
   ]
  },
  {
   "cell_type": "markdown",
   "id": "38b62390-93ae-465d-992c-00c79bb4759e",
   "metadata": {},
   "source": [
    "### Koşullu Eleman İşlemleri "
   ]
  },
  {
   "cell_type": "code",
   "execution_count": null,
   "id": "c49e8643-253d-4018-a9bd-b8582b961c8a",
   "metadata": {
    "tags": []
   },
   "outputs": [],
   "source": [
    "import numpy as np \n",
    "import pandas as pd\n",
    "\n",
    "m = np. random.randint(1,30, size = (10,3))\n",
    "df = pd. DataFrame(m, columns = [\"var1\",\"var2\",\"var3\"])\n",
    "df"
   ]
  },
  {
   "cell_type": "code",
   "execution_count": null,
   "id": "1f0af795-eebf-4313-84e3-bb75ea304d4e",
   "metadata": {
    "tags": []
   },
   "outputs": [],
   "source": [
    "df[[\"var1\"]]"
   ]
  },
  {
   "cell_type": "code",
   "execution_count": null,
   "id": "11e5963a-c491-4915-b2d9-d0b23129a08c",
   "metadata": {
    "tags": []
   },
   "outputs": [],
   "source": [
    "df[\"var1\"][0:4]"
   ]
  },
  {
   "cell_type": "code",
   "execution_count": null,
   "id": "664ba607-8237-43fb-818d-da8d899dc29f",
   "metadata": {
    "tags": []
   },
   "outputs": [],
   "source": [
    "df[0:4] [[\"var1\",\"var2\"]]"
   ]
  },
  {
   "cell_type": "code",
   "execution_count": null,
   "id": "48b4475e-a60f-49b9-83cb-fa3179c0ef4e",
   "metadata": {
    "tags": []
   },
   "outputs": [],
   "source": [
    "df"
   ]
  },
  {
   "cell_type": "code",
   "execution_count": null,
   "id": "aff6b49d-7aee-4e49-b56f-a1b4d02a3c2f",
   "metadata": {
    "tags": []
   },
   "outputs": [],
   "source": [
    "df.var1"
   ]
  },
  {
   "cell_type": "code",
   "execution_count": null,
   "id": "2d1a9c7b-6ade-4b50-86d2-554f6f6a133d",
   "metadata": {
    "tags": []
   },
   "outputs": [],
   "source": [
    "df[df.var1 >15]"
   ]
  },
  {
   "cell_type": "code",
   "execution_count": null,
   "id": "a9ace4b1-a637-4b6e-a4b6-d410796eb0dc",
   "metadata": {
    "tags": []
   },
   "outputs": [],
   "source": [
    "df[(df.var1 > 15) & (df.var3 < 5)]"
   ]
  },
  {
   "cell_type": "code",
   "execution_count": null,
   "id": "15ca4b63-a2bd-4297-ac15-2befedd4c85e",
   "metadata": {
    "tags": []
   },
   "outputs": [],
   "source": [
    "df[(df.var1 > 15), [\"var1\",\"var2\"]]"
   ]
  },
  {
   "cell_type": "code",
   "execution_count": null,
   "id": "9d58b452-15c3-4cc1-9f65-1a8701a6bd3c",
   "metadata": {
    "tags": []
   },
   "outputs": [],
   "source": [
    "df.loc[(df.var1 > 15), [\"var1\",\"var2\"]]"
   ]
  },
  {
   "cell_type": "code",
   "execution_count": null,
   "id": "1317cde8-53b8-425d-95f1-b178fdb32366",
   "metadata": {
    "tags": []
   },
   "outputs": [],
   "source": [
    "df[(df.var1 > 15)][[\"var1\",\"var2\"]]"
   ]
  },
  {
   "cell_type": "markdown",
   "id": "cfb5d265-fe2c-499a-b49e-00f72317ffae",
   "metadata": {},
   "source": [
    "### Birleştirme (join İşlemleri)"
   ]
  },
  {
   "cell_type": "code",
   "execution_count": null,
   "id": "d1ca553c-d95b-4143-9639-1810959dd74e",
   "metadata": {
    "tags": []
   },
   "outputs": [],
   "source": [
    "import numpy as np \n",
    "import pandas as pd\n",
    "\n",
    "m = np.random.randint(1,30, size = (5,3))\n",
    "df1 = pd.DataFrame(m, columns =[\"var1\",\"var2\",\"var3\"]) \n",
    "df1.head()"
   ]
  },
  {
   "cell_type": "code",
   "execution_count": null,
   "id": "b50d4001-5a5a-44ed-90b4-0b229a079679",
   "metadata": {
    "tags": []
   },
   "outputs": [],
   "source": [
    "df2 = df1 + 99\n",
    "df2"
   ]
  },
  {
   "cell_type": "code",
   "execution_count": null,
   "id": "ffb5b46f-1017-4e4d-99d5-87ec176f7997",
   "metadata": {
    "tags": []
   },
   "outputs": [],
   "source": [
    "\n",
    "\"\"\"\n",
    "şuan görüldüğü gibi birleştirme  işlemini yaptı \n",
    "ama  şöyle  bir problem var 0'dan 4'e geldi  ve tekrar 0'dan 4' e geldi\n",
    "bu sorunu Çözmek için ignore_index = True   argümanınını ekleriz\n",
    "\"\"\"\n",
    "pd.concat([df1, df2])"
   ]
  },
  {
   "cell_type": "code",
   "execution_count": null,
   "id": "994794ee-790f-464f-b6f5-8f7b453dcec4",
   "metadata": {
    "tags": []
   },
   "outputs": [],
   "source": [
    "pd.concat([df1, df2], ignore_index = True)"
   ]
  },
  {
   "cell_type": "code",
   "execution_count": null,
   "id": "b66dc9a7-0f89-4745-a63d-a693bfb9165a",
   "metadata": {
    "tags": []
   },
   "outputs": [],
   "source": [
    "?pd.concat"
   ]
  },
  {
   "cell_type": "code",
   "execution_count": null,
   "id": "b4484768-e63a-4ba0-bfae-aac40b3cdf4f",
   "metadata": {
    "tags": []
   },
   "outputs": [],
   "source": [
    "df1.columns"
   ]
  },
  {
   "cell_type": "code",
   "execution_count": null,
   "id": "22dead93-6d64-425a-bbf9-fcacbfeaad74",
   "metadata": {
    "tags": []
   },
   "outputs": [],
   "source": [
    "df2.columns = [\"var1\",\"var2\",\"deg3\"]"
   ]
  },
  {
   "cell_type": "code",
   "execution_count": null,
   "id": "e1296a7b-0208-4cdd-af27-22d51722f158",
   "metadata": {
    "tags": []
   },
   "outputs": [],
   "source": [
    "df2"
   ]
  },
  {
   "cell_type": "code",
   "execution_count": null,
   "id": "1734d989-f561-4b0c-b8ac-1373f55f7b29",
   "metadata": {
    "tags": []
   },
   "outputs": [],
   "source": [
    "df1"
   ]
  },
  {
   "cell_type": "code",
   "execution_count": null,
   "id": "e4b5c553-cd7c-4792-b7ea-163ccaa91a9d",
   "metadata": {
    "tags": []
   },
   "outputs": [],
   "source": [
    "\n",
    "\"\"\"\n",
    "burda bir uyarı vermesi gerkiyordu ama  vermedi özellik uyarısı\n",
    "deg3  iki veri setinde olmadığından dolayı bunu problemli bir\n",
    "işlemmiş gibi alıgılayıp hata üretmesi gerekiyor.\n",
    "bunu kısmi bir çözümü var.(join = \"inner\")\n",
    "\"\"\"\n",
    "pd.concat([df1, df2])"
   ]
  },
  {
   "cell_type": "code",
   "execution_count": null,
   "id": "b0964f92-4fc9-4b89-85b3-228e709f4f96",
   "metadata": {
    "tags": []
   },
   "outputs": [],
   "source": [
    "pd.concat([df1, df2], join = \"inner\", ignore_index = True)\n",
    "\n",
    "\n",
    "#kesişimlerine göre birleştirdi \n"
   ]
  },
  {
   "cell_type": "code",
   "execution_count": null,
   "id": "8105e619-559d-4bd5-bf35-8506317f04a2",
   "metadata": {
    "tags": []
   },
   "outputs": [],
   "source": [
    "pd.concat([df1, df2.reindex(columns=df1.columns)], axis=0, ignore_index = True)"
   ]
  },
  {
   "cell_type": "markdown",
   "id": "7546ec0d-886a-4ca5-b089-10672cb5006c",
   "metadata": {},
   "source": [
    "### İleri Birleştirme İşlemleri"
   ]
  },
  {
   "cell_type": "code",
   "execution_count": null,
   "id": "420c39e2-4867-4e46-b369-c3ef43690323",
   "metadata": {
    "tags": []
   },
   "outputs": [],
   "source": [
    "import pandas as pd \n",
    "df1 = pd.DataFrame({'calisanlar': ['Ali', 'Veli', 'Ayse', 'Fatma'],\n",
    "                   'grup': ['Muhasebe', 'Muhendislik', 'Muhendislik','İk']})\n",
    "\n",
    "df1"
   ]
  },
  {
   "cell_type": "code",
   "execution_count": null,
   "id": "e842d5e4-2a2d-4e84-a76f-e39fb143bf65",
   "metadata": {
    "tags": []
   },
   "outputs": [],
   "source": [
    "df2 = pd.DataFrame({'calisanlar': ['Ayse', 'Ali', 'Veli', 'Fatma'],\n",
    "                   'ilk_giris': [2010, 2009, 2014, 2019]})\n",
    "\n",
    "df2"
   ]
  },
  {
   "cell_type": "code",
   "execution_count": null,
   "id": "19c53373-ad11-4459-b702-30b7615e5879",
   "metadata": {
    "tags": []
   },
   "outputs": [],
   "source": [
    "pd.merge(df1,df2)"
   ]
  },
  {
   "cell_type": "code",
   "execution_count": null,
   "id": "c194f624-76bf-4533-8eb3-1e6804f8a2c6",
   "metadata": {
    "tags": []
   },
   "outputs": [],
   "source": [
    "# bire bir birleştirme\n",
    "pd.merge(df1,df2, on = \"calisanlar\")"
   ]
  },
  {
   "cell_type": "code",
   "execution_count": null,
   "id": "ba5fa81c-3520-4357-bddf-4696485231b4",
   "metadata": {
    "tags": []
   },
   "outputs": [],
   "source": [
    "# Çoktan teke \n",
    "df3 = pd.merge(df1,df2)\n",
    "df3"
   ]
  },
  {
   "cell_type": "code",
   "execution_count": null,
   "id": "ea35c6e4-91f6-49fe-936e-ff6a2a3dce9c",
   "metadata": {
    "tags": []
   },
   "outputs": [],
   "source": [
    "df4 = pd.DataFrame({'grup': ['Muhasebe', 'Muhendislik', 'İk'], \n",
    "                   'mudur': ['Caner','Mustafa', 'Berkcan']})\n",
    "df4"
   ]
  },
  {
   "cell_type": "code",
   "execution_count": null,
   "id": "9ee703c3-5205-4719-a6d8-2916f99f2467",
   "metadata": {
    "tags": []
   },
   "outputs": [],
   "source": [
    "pd.merge(df3,df4)"
   ]
  },
  {
   "cell_type": "code",
   "execution_count": null,
   "id": "e8742a1b-bd66-46f7-9fa2-eba36d6e970f",
   "metadata": {
    "tags": []
   },
   "outputs": [],
   "source": [
    "# Çoktan Çoka\n",
    "\n",
    "df5 =pd.DataFrame({'grup': ['Muhasebe', 'Muhasebe',\n",
    "                           'Muhendislik', 'Muhendislik', 'İk', 'İk'],\n",
    "                  'yetenekler': ['matematik', 'excel', 'kodlama',\n",
    "                                'linux', 'excel', 'yonetim']})\n",
    "\n",
    "df5"
   ]
  },
  {
   "cell_type": "code",
   "execution_count": null,
   "id": "dfa3a116-6a40-4643-8cc2-8088060b699a",
   "metadata": {
    "tags": []
   },
   "outputs": [],
   "source": [
    "df1"
   ]
  },
  {
   "cell_type": "code",
   "execution_count": null,
   "id": "24c23d5f-6817-478d-b0b0-74b242ae4bbc",
   "metadata": {
    "tags": []
   },
   "outputs": [],
   "source": [
    "pd.merge(df1,df5)"
   ]
  },
  {
   "cell_type": "markdown",
   "id": "4c195829-ded3-4f18-816f-e229b52f7860",
   "metadata": {},
   "source": [
    "### Toplulaştırma  ve Gruplama (Aggregation & Grouping)\n",
    "#### Basit toplulaştırma fonksiyonları:\n",
    "- `count()`\n",
    "- `first()`\n",
    "- `last()`\n",
    "- `mean()`\n",
    "- `median()`\n",
    "- `min()`\n",
    "- `max()`\n",
    "- `std()`\n",
    "- `var()`\n",
    "- `sum()`\n"
   ]
  },
  {
   "cell_type": "code",
   "execution_count": null,
   "id": "7beb445e-9f2a-4dce-ba79-0cf0a9d58690",
   "metadata": {
    "tags": []
   },
   "outputs": [],
   "source": [
    "import  seaborn as sns"
   ]
  },
  {
   "cell_type": "code",
   "execution_count": null,
   "id": "2ec894d7-0134-42a3-8e9c-ea4eeca3c756",
   "metadata": {
    "tags": []
   },
   "outputs": [],
   "source": [
    "? sns.load_dataset"
   ]
  },
  {
   "cell_type": "code",
   "execution_count": null,
   "id": "f9208a8e-3587-447b-b38d-c3396c125d8d",
   "metadata": {
    "tags": []
   },
   "outputs": [],
   "source": [
    "df = sns.load_dataset(\"planets\")\n",
    "df.head()"
   ]
  },
  {
   "cell_type": "code",
   "execution_count": null,
   "id": "62b15161-3215-433f-bbac-20ce7d864b50",
   "metadata": {
    "tags": []
   },
   "outputs": [],
   "source": [
    "df.shape"
   ]
  },
  {
   "cell_type": "code",
   "execution_count": null,
   "id": "13dcad80-e366-46a3-ad01-0991972c5a84",
   "metadata": {
    "tags": []
   },
   "outputs": [],
   "source": [
    "\n",
    "# Sadece sayısal sütunları seçme\n",
    "numeric_df = df.select_dtypes(include=[float, int])\n",
    "\n",
    "# Sayısal sütunlar üzerinde ortalama hesaplaması\n",
    "mean_values = numeric_df.mean()\n",
    "print(mean_values)\n"
   ]
  },
  {
   "cell_type": "code",
   "execution_count": null,
   "id": "1dedb325-3198-4604-8c7c-4330012c49c7",
   "metadata": {
    "tags": []
   },
   "outputs": [],
   "source": [
    "df[\"mass\"].mean()"
   ]
  },
  {
   "cell_type": "code",
   "execution_count": null,
   "id": "b2ee3189-2f53-4949-92c1-0e62e8e22c6e",
   "metadata": {
    "tags": []
   },
   "outputs": [],
   "source": [
    "# değerleri sayar\n",
    "df[\"mass\"].count()"
   ]
  },
  {
   "cell_type": "code",
   "execution_count": null,
   "id": "e5a60298-a2d6-4d39-9fa7-5a0fe10dfe9e",
   "metadata": {
    "tags": []
   },
   "outputs": [],
   "source": [
    "# min değer\n",
    "df[\"year\"].min()"
   ]
  },
  {
   "cell_type": "code",
   "execution_count": null,
   "id": "9399a7c0-b256-4093-905f-71bb0210be29",
   "metadata": {
    "tags": []
   },
   "outputs": [],
   "source": [
    "# max değer\n",
    "df[\"year\"].max()"
   ]
  },
  {
   "cell_type": "code",
   "execution_count": null,
   "id": "7039cd4a-f604-478f-9645-ce556e7176bc",
   "metadata": {
    "tags": []
   },
   "outputs": [],
   "source": [
    "#  değerleri topla\n",
    "df[\"mass\"].sum()"
   ]
  },
  {
   "cell_type": "code",
   "execution_count": null,
   "id": "6079c4a4-2c1f-40d1-b258-1aadf4073fa5",
   "metadata": {
    "tags": []
   },
   "outputs": [],
   "source": [
    "# standart sapması\n",
    "df[\"mass\"].std()"
   ]
  },
  {
   "cell_type": "code",
   "execution_count": null,
   "id": "6c636639-4327-4edb-85b2-af0887889139",
   "metadata": {
    "tags": []
   },
   "outputs": [],
   "source": [
    "#  varyans hesapla\n",
    "df[\"mass\"].var()"
   ]
  },
  {
   "cell_type": "code",
   "execution_count": null,
   "id": "0cf34d2d-3f7b-4520-8509-b1d22f24558c",
   "metadata": {
    "tags": []
   },
   "outputs": [],
   "source": [
    "\"\"\"\n",
    "bütün değişkenler için temel betimsel istatistikler hesaplar. describe()\n",
    "\"\"\"\n",
    "\n",
    "df.describe()"
   ]
  },
  {
   "cell_type": "code",
   "execution_count": null,
   "id": "6f5d31c1-7ce8-4558-8dc6-de9f5f3ea265",
   "metadata": {
    "tags": []
   },
   "outputs": [],
   "source": [
    "df.describe().T"
   ]
  },
  {
   "cell_type": "code",
   "execution_count": null,
   "id": "f5876c05-4f6f-4403-927c-465694a50230",
   "metadata": {
    "tags": []
   },
   "outputs": [],
   "source": [
    "\"\"\"\n",
    "eğer elimizdeki veri setinin içerisinde eksik değerler olursa \n",
    "\"\"\"\n",
    "df.dropna().describe().T"
   ]
  },
  {
   "cell_type": "markdown",
   "id": "707e69e4-ac80-4e48-9160-3618de7d42a7",
   "metadata": {
    "tags": []
   },
   "source": [
    "### Grouplama  İşlemleri:\n",
    "#### gruplama işlemi: veri setinde yer alan kategorik değişkenlerinin guruplarının yaklanması ve bu grupların üzerinde bazı işlemlerin yapılması."
   ]
  },
  {
   "cell_type": "code",
   "execution_count": null,
   "id": "1a521acc-836e-4b72-8d28-fca51f5d6095",
   "metadata": {
    "tags": []
   },
   "outputs": [],
   "source": [
    "df = pd.DataFrame({'gruplar': ['A', 'B', 'C', 'A', 'B', 'C'],\n",
    "                  'veri': [10,11,52,23,43,55]}, columns = ['gruplar','veri'])\n",
    "df"
   ]
  },
  {
   "cell_type": "code",
   "execution_count": null,
   "id": "a8c780a5-c1ff-40d6-80dd-2726eb036d8c",
   "metadata": {
    "tags": []
   },
   "outputs": [],
   "source": [
    "df.groupby(\"gruplar\")"
   ]
  },
  {
   "cell_type": "code",
   "execution_count": null,
   "id": "3a965e6c-b5fd-431a-a47d-d0f636287f58",
   "metadata": {
    "tags": []
   },
   "outputs": [],
   "source": [
    "df.groupby(\"gruplar\").sum()"
   ]
  },
  {
   "cell_type": "code",
   "execution_count": null,
   "id": "55ed966c-2db8-4a50-8f39-c1630452109d",
   "metadata": {
    "tags": []
   },
   "outputs": [],
   "source": [
    "df = sns.load_dataset(\"planets\")\n",
    "df.head()\n",
    "#df.tail()"
   ]
  },
  {
   "cell_type": "code",
   "execution_count": null,
   "id": "5831cc25-3553-4403-bc79-253159d0c9c3",
   "metadata": {
    "tags": []
   },
   "outputs": [],
   "source": [
    "df.groupby(\"method\")"
   ]
  },
  {
   "cell_type": "code",
   "execution_count": null,
   "id": "49773cd9-6820-442a-a5a5-961ce8084a6c",
   "metadata": {
    "tags": []
   },
   "outputs": [],
   "source": [
    "df.groupby(\"method\")[\"orbital_period\"].mean()"
   ]
  },
  {
   "cell_type": "code",
   "execution_count": null,
   "id": "93fe0943-bea8-4242-8269-f6cedf11d9dc",
   "metadata": {
    "tags": []
   },
   "outputs": [],
   "source": [
    "df.groupby(\"method\")[\"orbital_period\"].describe().T"
   ]
  },
  {
   "cell_type": "markdown",
   "id": "53f9addf-40be-4d34-93de-c983888f8f3b",
   "metadata": {
    "tags": []
   },
   "source": [
    "#### İleri Toplulaştırma İşlemleri(Aggregate,filter,transform,apply)  "
   ]
  },
  {
   "cell_type": "code",
   "execution_count": null,
   "id": "8d6da741-e1d3-45f1-8396-343258e6532b",
   "metadata": {
    "tags": []
   },
   "outputs": [],
   "source": [
    "import pandas  as pd\n",
    "\n",
    "df =pd.DataFrame({'gruplar': ['A', 'B', 'C',  'A', 'B', 'C'],\n",
    "                 'degisken1': [10,23,33,22,11,99],\n",
    "                 'degisken2': [100,253,333,262,111,969]},\n",
    "                columns = ['gruplar' ,'degisken1', 'degisken2'])\n",
    "\n",
    "df"
   ]
  },
  {
   "cell_type": "code",
   "execution_count": null,
   "id": "1f4b9162-5757-4332-9f67-c7e73278585f",
   "metadata": {
    "tags": []
   },
   "outputs": [],
   "source": [
    "#aggregate\n",
    "df.groupby(\"gruplar\").mean()"
   ]
  },
  {
   "cell_type": "code",
   "execution_count": null,
   "id": "36c7b84c-3166-41b5-9c26-6cad20d3d3e5",
   "metadata": {
    "tags": []
   },
   "outputs": [],
   "source": [
    "\"\"\"\n",
    "groupby'i gönderdik ve dedikki veri setini grouplara böl fakat ben \n",
    "öyle bir işlem istiyorumki ne (describe) fonksiyonun bana  verdiği\n",
    "istatistikleri ne de sadece  mod median gibi istatistikleri kendim \n",
    "özellikle istatistik belirtmek istiyorum dedimizde işte bunu aggregate\n",
    "fonksiyonu ile gerçekleştirebiliriz.\n",
    "\n",
    "\"\"\"\n",
    "df.groupby(\"gruplar\").aggregate([\"min\", np.median,max])"
   ]
  },
  {
   "cell_type": "code",
   "execution_count": null,
   "id": "0a4e6f05-373b-4d5a-9df4-8929af1d32bb",
   "metadata": {
    "tags": []
   },
   "outputs": [],
   "source": [
    "df.groupby(\"gruplar\").aggregate({\"degisken1\":[\"min\",sum,np.var],\"degisken2\":[max,np.median,np.std]})"
   ]
  },
  {
   "cell_type": "markdown",
   "id": "7ece1c37-ccf0-49b2-8461-f7f1d8183adf",
   "metadata": {},
   "source": [
    "### filter"
   ]
  },
  {
   "cell_type": "code",
   "execution_count": null,
   "id": "92a897d5-7c24-4ef2-9307-5950c25a29ba",
   "metadata": {
    "tags": []
   },
   "outputs": [],
   "source": [
    "import pandas as pd\n",
    "\n",
    "df = pd.DataFrame({'gruplar': ['A', 'B', 'C', 'A', 'B', 'C'],\n",
    "                  'degisken1': [10,23,33,22,11,99],\n",
    "                  'degisken2': [100,253,333,262,111,969]},\n",
    "                 columns = ['gruplar', 'degisken1', 'degisken2'])\n",
    "df"
   ]
  },
  {
   "cell_type": "code",
   "execution_count": null,
   "id": "7f794284-24fd-4701-8412-c524222e09e2",
   "metadata": {
    "tags": []
   },
   "outputs": [],
   "source": [
    "def filter_func(x):\n",
    "    return x[\"degisken1\"].std() > 9\n",
    "    "
   ]
  },
  {
   "cell_type": "code",
   "execution_count": null,
   "id": "c96e27a9-89dd-4f73-b32b-db5969c2fcc2",
   "metadata": {
    "tags": []
   },
   "outputs": [],
   "source": [
    "df.groupby(\"gruplar\").std()"
   ]
  },
  {
   "cell_type": "code",
   "execution_count": null,
   "id": "4e593684-08ac-4689-81fe-1b06bca397b4",
   "metadata": {
    "tags": []
   },
   "outputs": [],
   "source": [
    "df.groupby(\"gruplar\").filter(filter_func)"
   ]
  },
  {
   "cell_type": "markdown",
   "id": "c23e6cc0-85e1-4091-9dae-cd8d0706bb84",
   "metadata": {},
   "source": [
    "### transform"
   ]
  },
  {
   "cell_type": "code",
   "execution_count": null,
   "id": "c852105a-e21f-45bf-8e10-89eb6dc5c4f0",
   "metadata": {
    "tags": []
   },
   "outputs": [],
   "source": [
    "import pandas as pd \n",
    "\n",
    "df = pd.DataFrame({'gruplar': ['A', 'B', 'C', 'A','B', 'C'],\n",
    "                  'degisken1': [10,23,33,22,11,99],\n",
    "                  'degisken2': [100,253,333,262,111,969]},\n",
    "                 columns = ['gruplar', 'degisken1', 'degisken2'])\n",
    "df"
   ]
  },
  {
   "cell_type": "code",
   "execution_count": null,
   "id": "e3348ebc-7822-443e-a825-51b265f6711f",
   "metadata": {
    "tags": []
   },
   "outputs": [],
   "source": [
    "df[\"degisken1\"]*9"
   ]
  },
  {
   "cell_type": "code",
   "execution_count": null,
   "id": "3313f9b3-ae45-4e2f-bbe8-3556ab8f97f1",
   "metadata": {
    "tags": []
   },
   "outputs": [],
   "source": [
    "df_a  = df.iloc[:,1:3]\n"
   ]
  },
  {
   "cell_type": "code",
   "execution_count": null,
   "id": "33f00710-4a63-4c28-a1f8-5ba2534a3c28",
   "metadata": {
    "tags": []
   },
   "outputs": [],
   "source": [
    "df_a.transform(lambda x: (x-x.mean()) / x.std())"
   ]
  },
  {
   "cell_type": "markdown",
   "id": "027d4344-2fd2-46f5-b887-bb8c8f9f09f4",
   "metadata": {},
   "source": [
    "### apply\n",
    "#### dataframein değişkenlerinin üzeründe gezinme yeteneği olan ve aggregation yani toplulaştırma amacıyla kullanılabilecek bir fonksiyondur.\n"
   ]
  },
  {
   "cell_type": "code",
   "execution_count": null,
   "id": "e3e2fb61-128f-4f45-8a2e-4e9001ca1ea7",
   "metadata": {
    "tags": []
   },
   "outputs": [],
   "source": [
    "df = pd.DataFrame({\n",
    "                  'degisken1': [10,23,33,22,11,99],\n",
    "                  'degisken2': [100,253,333,262,111,969]},\n",
    "                 columns = ['degisken1', 'degisken2'])\n",
    "df"
   ]
  },
  {
   "cell_type": "code",
   "execution_count": null,
   "id": "bf411a36-e1c9-4b04-a424-b7addc40d717",
   "metadata": {
    "tags": []
   },
   "outputs": [],
   "source": [
    "df.apply(np.sum)"
   ]
  },
  {
   "cell_type": "code",
   "execution_count": null,
   "id": "ca65fea6-c127-4fa7-92f7-68a2715b43e8",
   "metadata": {
    "tags": []
   },
   "outputs": [],
   "source": [
    "df.apply(np.mean)"
   ]
  },
  {
   "cell_type": "code",
   "execution_count": null,
   "id": "82145e32-861a-47e5-bbb9-f815fde067da",
   "metadata": {
    "tags": []
   },
   "outputs": [],
   "source": [
    "df = pd.DataFrame({'gruplar': ['A', 'B', 'C', 'A','B', 'C'],\n",
    "                  'degisken1': [10,23,33,22,11,99],\n",
    "                  'degisken2': [100,253,333,262,111,969]},\n",
    "                 columns = ['gruplar', 'degisken1', 'degisken2'])\n",
    "df"
   ]
  },
  {
   "cell_type": "code",
   "execution_count": null,
   "id": "edd12303-8b04-4c3c-8365-6ad7b0d53cc3",
   "metadata": {
    "tags": []
   },
   "outputs": [],
   "source": [
    "df.groupby(\"gruplar\").apply(np.mean)"
   ]
  },
  {
   "cell_type": "markdown",
   "id": "4f772e0c-d816-464e-a935-ef2500fae5c7",
   "metadata": {},
   "source": [
    "### Pivot Tablolar"
   ]
  },
  {
   "cell_type": "code",
   "execution_count": null,
   "id": "26afdbb3-0368-467b-b8f9-a2120565d6eb",
   "metadata": {
    "tags": []
   },
   "outputs": [],
   "source": [
    "import pandas as pd\n",
    "import seaborn as sns\n",
    "titanic = sns.load_dataset(\"titanic\")\n",
    "titanic.head(7)"
   ]
  },
  {
   "cell_type": "code",
   "execution_count": null,
   "id": "ed247444-51c0-4b66-8ae7-d6827337dcb7",
   "metadata": {
    "tags": []
   },
   "outputs": [],
   "source": [
    "titanic.groupby(\"sex\")[\"survived\"].mean()"
   ]
  },
  {
   "cell_type": "code",
   "execution_count": null,
   "id": "afb43c50-17cd-406c-9517-1b0f5bcd4a0e",
   "metadata": {
    "tags": []
   },
   "outputs": [],
   "source": [
    "titanic.groupby(\"sex\")[[\"survived\"]].mean()"
   ]
  },
  {
   "cell_type": "code",
   "execution_count": null,
   "id": "acd85537-e6cc-4498-aae1-f1af77b7455b",
   "metadata": {
    "tags": []
   },
   "outputs": [],
   "source": [
    "titanic.groupby([\"sex\", \"class\"])[[\"survived\"]].aggregate(\"mean\")"
   ]
  },
  {
   "cell_type": "code",
   "execution_count": null,
   "id": "beef72c9-cb73-49ec-a96c-868d29e8cf53",
   "metadata": {
    "tags": []
   },
   "outputs": [],
   "source": [
    "# burda unstack() dediğimizde buradaki hiyaraşik \n",
    "#index yapısı çözülmüş olur\n",
    "titanic.groupby([\"sex\", \"class\"])[[\"survived\"]].aggregate(\"mean\").unstack()"
   ]
  },
  {
   "cell_type": "markdown",
   "id": "8d10920f-5ef9-4e6b-bef4-520c1622b63e",
   "metadata": {},
   "source": [
    "### pivot ile table"
   ]
  },
  {
   "cell_type": "code",
   "execution_count": null,
   "id": "783ae5ab-0a6f-45d7-8b95-f4cb6af29581",
   "metadata": {
    "tags": []
   },
   "outputs": [],
   "source": [
    "titanic.pivot_table(\"survived\", index = \"sex\", columns = \"class\")"
   ]
  },
  {
   "cell_type": "code",
   "execution_count": null,
   "id": "0fe1ed23-c2ec-43b7-9e40-ce8bbde4bdc6",
   "metadata": {
    "tags": []
   },
   "outputs": [],
   "source": [
    "titanic.age.head()"
   ]
  },
  {
   "cell_type": "code",
   "execution_count": null,
   "id": "458a8a84-e5ac-45b2-9a77-aec592b27e79",
   "metadata": {
    "tags": []
   },
   "outputs": [],
   "source": [
    "age = pd.cut(titanic[\"age\"], [0, 18, 90])\n",
    "age.head(10)"
   ]
  },
  {
   "cell_type": "code",
   "execution_count": null,
   "id": "ff4436c5-c466-4c07-8221-63aacaf98fde",
   "metadata": {
    "tags": []
   },
   "outputs": [],
   "source": [
    "titanic.pivot_table(\"survived\", [\"sex\", age], \"class\")"
   ]
  },
  {
   "cell_type": "markdown",
   "id": "f4db209e-ffd1-4de6-97da-4af7c56c8165",
   "metadata": {},
   "source": [
    "### Dış Kaynaklı Veri Okumak "
   ]
  },
  {
   "cell_type": "code",
   "execution_count": null,
   "id": "6ef3cf95-7cf8-4bec-abc3-42836ad48616",
   "metadata": {
    "tags": []
   },
   "outputs": [],
   "source": [
    "import pandas as pd"
   ]
  },
  {
   "cell_type": "code",
   "execution_count": null,
   "id": "32b86708-6114-4abb-b869-0eb765cd754e",
   "metadata": {
    "tags": []
   },
   "outputs": [],
   "source": [
    "?pd.read_csv"
   ]
  },
  {
   "cell_type": "markdown",
   "id": "8af56fbc-c8f5-4bf6-9ea4-41cd01d2ab8e",
   "metadata": {},
   "source": [
    "#### csv okuma "
   ]
  },
  {
   "cell_type": "code",
   "execution_count": null,
   "id": "3894f7de-d86e-4166-a696-34a7762b1f82",
   "metadata": {
    "tags": []
   },
   "outputs": [],
   "source": [
    "\"\"\"\n",
    "alt satırda yazdığım kodta görüldüğü gibi bir problem var düzgün bir \n",
    "şekilde  okunamadı ver okuma işlemlerinde en sık karşılaşan problem \n",
    "budur (paylaşılan veri seti genelde [csv ve txt] formatında  olduğunda \n",
    "değişkenler bir birlerinden bazı ayraçlar il ayrılır )\n",
    "\n",
    "ör biz şuanda  read_csv  fonksiyonunu olduğu gibi çalıştırdık ve \n",
    "okumasını bekledik fakat ayraç olarak ön tanımlı kullanılan değer\n",
    ", virgül olduğundan dolayı  bize gelmiş olan bu veri setinindeyse \n",
    "ayraç olarak ;(noktalı virgül) kullanıldığından dolayı  okuma işlemi\n",
    "hatalı oldu.\n",
    "\"\"\"\n",
    "#pd.read_csv(\"ornekcsv.csv\")\n",
    "pd.read_csv(\"ornekcsv.csv\",sep = \";\")\n"
   ]
  },
  {
   "cell_type": "markdown",
   "id": "8058645d-e631-4791-a597-e4051b6cd145",
   "metadata": {},
   "source": [
    "#### txt okuma  "
   ]
  },
  {
   "cell_type": "code",
   "execution_count": null,
   "id": "57af6f43-f7ea-44a1-a325-6cb0cf752209",
   "metadata": {},
   "outputs": [],
   "source": [
    "pd.read_csv(\"duz_metin.txt\")"
   ]
  },
  {
   "cell_type": "markdown",
   "id": "f637d490-2142-4167-89ae-d100f87b7a0b",
   "metadata": {},
   "source": [
    "### excel okuma"
   ]
  },
  {
   "cell_type": "code",
   "execution_count": null,
   "id": "6abba276-05f1-4df7-9a81-eb4fb0c191a8",
   "metadata": {},
   "outputs": [],
   "source": [
    "df = pd.read_excel(\"ornekx.xlsx\")"
   ]
  },
  {
   "cell_type": "code",
   "execution_count": null,
   "id": "7222ee68-151a-4f67-ac71-44b56635b5b8",
   "metadata": {},
   "outputs": [],
   "source": [
    "type(df)"
   ]
  },
  {
   "cell_type": "code",
   "execution_count": null,
   "id": "378587d8-bfd8-4548-964e-6dcc3c18199b",
   "metadata": {},
   "outputs": [],
   "source": [
    "df.head()"
   ]
  },
  {
   "cell_type": "code",
   "execution_count": null,
   "id": "6c8c813d-65c3-4c2a-8cbb-ff40b6ec6863",
   "metadata": {
    "tags": []
   },
   "outputs": [],
   "source": [
    "df.columns"
   ]
  },
  {
   "cell_type": "code",
   "execution_count": null,
   "id": "d57e80ee-0003-47c8-a414-c932ab6acc7a",
   "metadata": {
    "tags": []
   },
   "outputs": [],
   "source": [
    "df.columns = (\"A\",\"B\",\"C\")\n",
    "df"
   ]
  },
  {
   "cell_type": "code",
   "execution_count": null,
   "id": "cc226160-b62f-4e94-8b9a-2991b2614219",
   "metadata": {
    "tags": []
   },
   "outputs": [],
   "source": [
    "#  sıfırdan txt okuma\n",
    "tips = pd.read_csv(\"data.txt\")"
   ]
  },
  {
   "cell_type": "code",
   "execution_count": null,
   "id": "033f48d6-2874-4d5f-af14-927cc3f5a9f5",
   "metadata": {
    "tags": []
   },
   "outputs": [],
   "source": [
    "tips.tail()"
   ]
  },
  {
   "cell_type": "markdown",
   "id": "4b9b0f29-171b-4b5e-8692-cb93c34ac02a",
   "metadata": {},
   "source": [
    "####  Problem Çözme ve Doküman Okuma Kültürü "
   ]
  },
  {
   "cell_type": "code",
   "execution_count": null,
   "id": "1463bf42-836a-4267-9ef1-773ffbf16042",
   "metadata": {
    "tags": []
   },
   "outputs": [],
   "source": []
  }
 ],
 "metadata": {
  "kernelspec": {
   "display_name": "Python 3 (ipykernel)",
   "language": "python",
   "name": "python3"
  },
  "language_info": {
   "codemirror_mode": {
    "name": "ipython",
    "version": 3
   },
   "file_extension": ".py",
   "mimetype": "text/x-python",
   "name": "python",
   "nbconvert_exporter": "python",
   "pygments_lexer": "ipython3",
   "version": "3.12.4"
  }
 },
 "nbformat": 4,
 "nbformat_minor": 5
}
