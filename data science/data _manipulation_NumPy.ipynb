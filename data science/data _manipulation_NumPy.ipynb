{
 "cells": [
  {
   "cell_type": "markdown",
   "id": "ef901b60-31f3-48ae-83a8-276ed06b1b69",
   "metadata": {
    "editable": true,
    "slideshow": {
     "slide_type": ""
    },
    "tags": []
   },
   "source": [
    "# Neden NumPy?\n",
    "\n"
   ]
  },
  {
   "cell_type": "code",
   "execution_count": 1,
   "id": "3806e865-7b04-41a4-87f0-40b06be2f88b",
   "metadata": {
    "tags": []
   },
   "outputs": [],
   "source": [
    "a = [1,2,3,4]\n",
    "b = [2,3,4,5]\n"
   ]
  },
  {
   "cell_type": "code",
   "execution_count": 3,
   "id": "fb96c722-260e-4c3b-80a8-3785c6c8d3ee",
   "metadata": {
    "tags": []
   },
   "outputs": [
    {
     "data": {
      "text/plain": [
       "[2, 6, 12, 20]"
      ]
     },
     "execution_count": 3,
     "metadata": {},
     "output_type": "execute_result"
    }
   ],
   "source": [
    "ab = []\n",
    "\n",
    "for i in range(0, len(a)):\n",
    "    ab.append(a[i]*b[i])\n",
    "ab    \n",
    "    "
   ]
  },
  {
   "cell_type": "code",
   "execution_count": 4,
   "id": "a4e3f694-480c-47fd-b19a-50ef525daef4",
   "metadata": {
    "tags": []
   },
   "outputs": [],
   "source": [
    "import numpy as np"
   ]
  },
  {
   "cell_type": "code",
   "execution_count": 5,
   "id": "8ae2a1a6-a152-47e7-b98f-8ee27bf3d8f0",
   "metadata": {
    "tags": []
   },
   "outputs": [],
   "source": [
    "a = np.array([1,2,3,4])\n",
    "b = np.array([2,3,4,5])\n",
    "\n",
    " "
   ]
  },
  {
   "cell_type": "code",
   "execution_count": 6,
   "id": "0607a704-6fc7-4052-944e-95b9ef40ef6d",
   "metadata": {
    "tags": []
   },
   "outputs": [
    {
     "data": {
      "text/plain": [
       "array([ 2,  6, 12, 20])"
      ]
     },
     "execution_count": 6,
     "metadata": {},
     "output_type": "execute_result"
    }
   ],
   "source": [
    "a * b"
   ]
  },
  {
   "cell_type": "markdown",
   "id": "c174019b-572c-4327-842b-2b0e21d8b1b6",
   "metadata": {},
   "source": [
    "# NumPy Array'i Oluşturmak"
   ]
  },
  {
   "cell_type": "code",
   "execution_count": 8,
   "id": "1d964873-6340-4b8b-89cc-b25ed21dbe36",
   "metadata": {},
   "outputs": [],
   "source": [
    "import numpy as np"
   ]
  },
  {
   "cell_type": "code",
   "execution_count": 9,
   "id": "5a9846ae-90a9-4ffd-ad50-9cd602f2b181",
   "metadata": {
    "tags": []
   },
   "outputs": [
    {
     "data": {
      "text/plain": [
       "array([1, 2, 3, 4, 5])"
      ]
     },
     "execution_count": 9,
     "metadata": {},
     "output_type": "execute_result"
    }
   ],
   "source": [
    "np.array([1,2,3,4,5])"
   ]
  },
  {
   "cell_type": "code",
   "execution_count": 10,
   "id": "5da14b1d-0c0e-46fb-8db1-34daf8c129f4",
   "metadata": {
    "tags": []
   },
   "outputs": [
    {
     "data": {
      "text/plain": [
       "numpy.ndarray"
      ]
     },
     "execution_count": 10,
     "metadata": {},
     "output_type": "execute_result"
    }
   ],
   "source": [
    "a = np.array([1,2,3,4,5])\n",
    "type(a)"
   ]
  },
  {
   "cell_type": "code",
   "execution_count": 11,
   "id": "00e6d3f9-7571-4340-afd1-0855cab4fcca",
   "metadata": {
    "tags": []
   },
   "outputs": [
    {
     "data": {
      "text/plain": [
       "array([ 3.14,  4.  ,  2.  , 13.  ])"
      ]
     },
     "execution_count": 11,
     "metadata": {},
     "output_type": "execute_result"
    }
   ],
   "source": [
    "np.array([3.14,4,2,13])\n",
    "# sabit tip baskısı "
   ]
  },
  {
   "cell_type": "code",
   "execution_count": 12,
   "id": "6de2ef7a-07ea-4c89-bce7-3f5511e0f0dc",
   "metadata": {
    "tags": []
   },
   "outputs": [
    {
     "data": {
      "text/plain": [
       "array([ 3,  4,  2, 13])"
      ]
     },
     "execution_count": 12,
     "metadata": {},
     "output_type": "execute_result"
    }
   ],
   "source": [
    "np.array([3.14,4,2,13], dtype = \"int\")\n",
    "# sabit tip baskısı "
   ]
  },
  {
   "cell_type": "markdown",
   "id": "110bc4fc-4d26-4a7b-a99b-5d324f53916b",
   "metadata": {
    "tags": []
   },
   "source": [
    "# sıfırdan array oluşturma  işlemleri "
   ]
  },
  {
   "cell_type": "code",
   "execution_count": 14,
   "id": "6fb4a25b-fd8e-47fd-b3c1-edfa596cc599",
   "metadata": {
    "tags": []
   },
   "outputs": [
    {
     "data": {
      "text/plain": [
       "array([0, 0, 0, 0, 0, 0, 0, 0, 0, 0])"
      ]
     },
     "execution_count": 14,
     "metadata": {},
     "output_type": "execute_result"
    }
   ],
   "source": [
    "np.zeros(10, dtype = int)"
   ]
  },
  {
   "cell_type": "code",
   "execution_count": 15,
   "id": "70961675-0f84-4e2c-98e7-0c20a7ba4528",
   "metadata": {
    "tags": []
   },
   "outputs": [
    {
     "data": {
      "text/plain": [
       "array([[1, 1, 1, 1, 1],\n",
       "       [1, 1, 1, 1, 1],\n",
       "       [1, 1, 1, 1, 1]])"
      ]
     },
     "execution_count": 15,
     "metadata": {},
     "output_type": "execute_result"
    }
   ],
   "source": [
    "np.ones((3,5) ,dtype = \"int\")\n",
    "# 3 satır 5 sütünlük  iki buyutlu\n",
    "#1 lerden oluşan  bir array oluşturmuş olduk "
   ]
  },
  {
   "cell_type": "code",
   "execution_count": 16,
   "id": "e70ca85f-d82f-49be-9262-f4c0926bdcd3",
   "metadata": {
    "tags": []
   },
   "outputs": [
    {
     "data": {
      "text/plain": [
       "array([[3, 3, 3, 3, 3],\n",
       "       [3, 3, 3, 3, 3],\n",
       "       [3, 3, 3, 3, 3]])"
      ]
     },
     "execution_count": 16,
     "metadata": {},
     "output_type": "execute_result"
    }
   ],
   "source": [
    "np.full((3,5),3)"
   ]
  },
  {
   "cell_type": "code",
   "execution_count": 17,
   "id": "ca9658bb-8402-4cba-ba2d-a70afdd7e85a",
   "metadata": {
    "tags": []
   },
   "outputs": [
    {
     "data": {
      "text/plain": [
       "array([ 0,  3,  6,  9, 12, 15, 18, 21, 24, 27, 30])"
      ]
     },
     "execution_count": 17,
     "metadata": {},
     "output_type": "execute_result"
    }
   ],
   "source": [
    "np.arange(0,31,3)\n",
    "# 0 dan 31'e kadar 3er 3er artacak \n",
    "#şekilde doğrusal bir dizi oluşturabiliyoruz"
   ]
  },
  {
   "cell_type": "code",
   "execution_count": 18,
   "id": "a5fc3a88-43bf-47d7-8358-340edbb6623a",
   "metadata": {
    "tags": []
   },
   "outputs": [
    {
     "data": {
      "text/plain": [
       "array([0.        , 0.11111111, 0.22222222, 0.33333333, 0.44444444,\n",
       "       0.55555556, 0.66666667, 0.77777778, 0.88888889, 1.        ])"
      ]
     },
     "execution_count": 18,
     "metadata": {},
     "output_type": "execute_result"
    }
   ],
   "source": [
    "np.linspace(0,1,10)"
   ]
  },
  {
   "cell_type": "code",
   "execution_count": 19,
   "id": "9437788a-971f-4665-bfef-5dbf87a8716d",
   "metadata": {
    "tags": []
   },
   "outputs": [
    {
     "data": {
      "text/plain": [
       "array([[12.11483449, 12.18575172,  9.43460066,  5.72453414],\n",
       "       [ 6.57607143, 11.57543858,  4.92129981, 10.23065579],\n",
       "       [ 7.5537247 ,  8.79829938,  4.43441537, 12.79443092]])"
      ]
     },
     "execution_count": 19,
     "metadata": {},
     "output_type": "execute_result"
    }
   ],
   "source": [
    "np.random.normal(10, 4, (3,4))\n",
    "# ortalamsı 10 standart sapması 4\n",
    "# 3 satırlı 4 sütünlük  iki boyutlu bir array oluşturabiliriz"
   ]
  },
  {
   "cell_type": "code",
   "execution_count": 20,
   "id": "e30fffb9-8d89-4292-aebc-6edbbdf3aa24",
   "metadata": {
    "tags": []
   },
   "outputs": [
    {
     "data": {
      "text/plain": [
       "array([[1, 3, 6],\n",
       "       [2, 5, 5],\n",
       "       [4, 7, 4]])"
      ]
     },
     "execution_count": 20,
     "metadata": {},
     "output_type": "execute_result"
    }
   ],
   "source": [
    "np.random.randint(0,10, (3,3))\n",
    "# rastgele int türünde..."
   ]
  },
  {
   "cell_type": "markdown",
   "id": "377280c6-7bd4-4961-b33e-6d97de51d26d",
   "metadata": {},
   "source": [
    "# özellikleri\n",
    "* **ndim:** _boyut sayısı_\n",
    "* **shape:** _boyut bilgisi_\n",
    "* **size:** _toplam eleman sayısı_\n",
    "* **dtype:** _array veri tipi_"
   ]
  },
  {
   "cell_type": "code",
   "execution_count": 22,
   "id": "184c29bc-b340-4bac-a316-2d651a33d68e",
   "metadata": {},
   "outputs": [],
   "source": [
    "import numpy as np\n"
   ]
  },
  {
   "cell_type": "code",
   "execution_count": 23,
   "id": "7e285526-6181-4704-8157-6de5844802d4",
   "metadata": {
    "tags": []
   },
   "outputs": [
    {
     "data": {
      "text/plain": [
       "array([7, 6, 2, 2, 0])"
      ]
     },
     "execution_count": 23,
     "metadata": {},
     "output_type": "execute_result"
    }
   ],
   "source": [
    "np.random.randint(10,size = 5)"
   ]
  },
  {
   "cell_type": "code",
   "execution_count": 24,
   "id": "042a40bf-57ff-4965-b783-391c84b83e22",
   "metadata": {
    "tags": []
   },
   "outputs": [
    {
     "data": {
      "text/plain": [
       "array([6, 4, 8, 5, 9, 6, 3, 2])"
      ]
     },
     "execution_count": 24,
     "metadata": {},
     "output_type": "execute_result"
    }
   ],
   "source": [
    "a = np.random.randint(10,size = 8)\n",
    "a"
   ]
  },
  {
   "cell_type": "code",
   "execution_count": 25,
   "id": "79cb8116-3560-4fa4-9af9-a268200db6b2",
   "metadata": {
    "tags": []
   },
   "outputs": [
    {
     "data": {
      "text/plain": [
       "1"
      ]
     },
     "execution_count": 25,
     "metadata": {},
     "output_type": "execute_result"
    }
   ],
   "source": [
    "a.ndim"
   ]
  },
  {
   "cell_type": "code",
   "execution_count": 26,
   "id": "cf274244-fdcd-4798-b461-d40195a2c51d",
   "metadata": {
    "tags": []
   },
   "outputs": [
    {
     "data": {
      "text/plain": [
       "(8,)"
      ]
     },
     "execution_count": 26,
     "metadata": {},
     "output_type": "execute_result"
    }
   ],
   "source": [
    "a.shape"
   ]
  },
  {
   "cell_type": "code",
   "execution_count": 27,
   "id": "dd172449-b465-4815-b0e5-07e13c58301e",
   "metadata": {
    "tags": []
   },
   "outputs": [
    {
     "data": {
      "text/plain": [
       "8"
      ]
     },
     "execution_count": 27,
     "metadata": {},
     "output_type": "execute_result"
    }
   ],
   "source": [
    "a.size"
   ]
  },
  {
   "cell_type": "code",
   "execution_count": 28,
   "id": "a671b37a-6aa1-49cd-8f7e-65a4d52a5cc5",
   "metadata": {
    "tags": []
   },
   "outputs": [
    {
     "data": {
      "text/plain": [
       "dtype('int32')"
      ]
     },
     "execution_count": 28,
     "metadata": {},
     "output_type": "execute_result"
    }
   ],
   "source": [
    "a.dtype"
   ]
  },
  {
   "cell_type": "code",
   "execution_count": 29,
   "id": "169c9c67-cf1b-4c3a-9ece-ae54fb80f1c5",
   "metadata": {
    "tags": []
   },
   "outputs": [],
   "source": [
    "b =  np.random.randint(10, size = (3,5))"
   ]
  },
  {
   "cell_type": "code",
   "execution_count": 30,
   "id": "11973381-69ba-4ba5-9b3d-49a4900926ee",
   "metadata": {
    "tags": []
   },
   "outputs": [
    {
     "data": {
      "text/plain": [
       "array([[6, 9, 3, 8, 4],\n",
       "       [0, 1, 5, 4, 8],\n",
       "       [3, 8, 3, 4, 9]])"
      ]
     },
     "execution_count": 30,
     "metadata": {},
     "output_type": "execute_result"
    }
   ],
   "source": [
    "b"
   ]
  },
  {
   "cell_type": "code",
   "execution_count": 31,
   "id": "70f68627-cd2a-4d1e-abae-dd38df25777f",
   "metadata": {
    "tags": []
   },
   "outputs": [
    {
     "data": {
      "text/plain": [
       "2"
      ]
     },
     "execution_count": 31,
     "metadata": {},
     "output_type": "execute_result"
    }
   ],
   "source": [
    "b.ndim"
   ]
  },
  {
   "cell_type": "code",
   "execution_count": 32,
   "id": "346f230d-7239-4243-919d-148fd037e424",
   "metadata": {
    "tags": []
   },
   "outputs": [
    {
     "data": {
      "text/plain": [
       "(3, 5)"
      ]
     },
     "execution_count": 32,
     "metadata": {},
     "output_type": "execute_result"
    }
   ],
   "source": [
    "b.shape"
   ]
  },
  {
   "cell_type": "code",
   "execution_count": 33,
   "id": "3912b45e-3393-4b51-9346-16b579082467",
   "metadata": {
    "tags": []
   },
   "outputs": [
    {
     "data": {
      "text/plain": [
       "15"
      ]
     },
     "execution_count": 33,
     "metadata": {},
     "output_type": "execute_result"
    }
   ],
   "source": [
    "b.size"
   ]
  },
  {
   "cell_type": "code",
   "execution_count": 34,
   "id": "52b93c65-5a24-4159-a32b-2eabf6603987",
   "metadata": {
    "tags": []
   },
   "outputs": [
    {
     "data": {
      "text/plain": [
       "dtype('int32')"
      ]
     },
     "execution_count": 34,
     "metadata": {},
     "output_type": "execute_result"
    }
   ],
   "source": [
    "b.dtype"
   ]
  },
  {
   "cell_type": "markdown",
   "id": "037c7681-ed18-4d40-af93-e1447e28a230",
   "metadata": {},
   "source": [
    "## Yeniden Şekillendirme(Reshaping)"
   ]
  },
  {
   "cell_type": "code",
   "execution_count": 36,
   "id": "ac92768a-2c0a-4737-94b2-05717cd24410",
   "metadata": {
    "tags": []
   },
   "outputs": [],
   "source": [
    "import numpy as np"
   ]
  },
  {
   "cell_type": "code",
   "execution_count": 37,
   "id": "ef2f9da8-b784-46d8-8738-a76f1cb89770",
   "metadata": {
    "tags": []
   },
   "outputs": [
    {
     "data": {
      "text/plain": [
       "array([1, 2, 3, 4, 5, 6, 7, 8, 9])"
      ]
     },
     "execution_count": 37,
     "metadata": {},
     "output_type": "execute_result"
    }
   ],
   "source": [
    "np.arange(1,10)"
   ]
  },
  {
   "cell_type": "code",
   "execution_count": 38,
   "id": "46b34356-11eb-47c0-a346-ef3a2c8d1f16",
   "metadata": {
    "tags": []
   },
   "outputs": [
    {
     "data": {
      "text/plain": [
       "array([[1, 2, 3],\n",
       "       [4, 5, 6],\n",
       "       [7, 8, 9]])"
      ]
     },
     "execution_count": 38,
     "metadata": {},
     "output_type": "execute_result"
    }
   ],
   "source": [
    "np.arange(1,10).reshape((3,3))\n",
    "# Tek boyutludan 3x3 boyutuna çevirdik"
   ]
  },
  {
   "cell_type": "code",
   "execution_count": 39,
   "id": "50806c00-f076-4193-aa88-be38a7b8f8d8",
   "metadata": {},
   "outputs": [],
   "source": [
    "a = np.arange(1,10)"
   ]
  },
  {
   "cell_type": "code",
   "execution_count": 40,
   "id": "203313f3-72a2-4875-a1e3-52d600a1242b",
   "metadata": {
    "tags": []
   },
   "outputs": [
    {
     "data": {
      "text/plain": [
       "array([1, 2, 3, 4, 5, 6, 7, 8, 9])"
      ]
     },
     "execution_count": 40,
     "metadata": {},
     "output_type": "execute_result"
    }
   ],
   "source": [
    "a"
   ]
  },
  {
   "cell_type": "code",
   "execution_count": 41,
   "id": "4a1c039d-788c-458c-b462-4e4b37ec71f1",
   "metadata": {
    "tags": []
   },
   "outputs": [
    {
     "data": {
      "text/plain": [
       "1"
      ]
     },
     "execution_count": 41,
     "metadata": {},
     "output_type": "execute_result"
    }
   ],
   "source": [
    "a.ndim"
   ]
  },
  {
   "cell_type": "code",
   "execution_count": 42,
   "id": "3c210c22-2d88-4f5a-be36-74d3f9cd672c",
   "metadata": {
    "tags": []
   },
   "outputs": [
    {
     "ename": "ValueError",
     "evalue": "cannot reshape array of size 9 into shape (2,5)",
     "output_type": "error",
     "traceback": [
      "\u001b[1;31m---------------------------------------------------------------------------\u001b[0m",
      "\u001b[1;31mValueError\u001b[0m                                Traceback (most recent call last)",
      "Cell \u001b[1;32mIn[42], line 1\u001b[0m\n\u001b[1;32m----> 1\u001b[0m b \u001b[38;5;241m=\u001b[39m a\u001b[38;5;241m.\u001b[39mreshape((\u001b[38;5;241m2\u001b[39m,\u001b[38;5;241m5\u001b[39m))\n",
      "\u001b[1;31mValueError\u001b[0m: cannot reshape array of size 9 into shape (2,5)"
     ]
    }
   ],
   "source": [
    "b = a.reshape((2,5))"
   ]
  },
  {
   "cell_type": "code",
   "execution_count": null,
   "id": "4826d682-7665-400d-a967-ef69dece544e",
   "metadata": {
    "tags": []
   },
   "outputs": [],
   "source": [
    "b.ndim"
   ]
  },
  {
   "cell_type": "markdown",
   "id": "826e5a3e-986e-4a2a-85a3-3b18d9ae4592",
   "metadata": {},
   "source": [
    "## Array Birleştirme(Concatenation)"
   ]
  },
  {
   "cell_type": "code",
   "execution_count": null,
   "id": "a59c2190-8197-4329-9700-91716be7cf90",
   "metadata": {},
   "outputs": [],
   "source": [
    "import numpy as np"
   ]
  },
  {
   "cell_type": "code",
   "execution_count": null,
   "id": "835bad3d-df21-40e7-bd3f-32a9da70a934",
   "metadata": {
    "tags": []
   },
   "outputs": [],
   "source": [
    "x = np.array([1,2,3])\n",
    "y = np.array([4,5,6])"
   ]
  },
  {
   "cell_type": "code",
   "execution_count": null,
   "id": "cd6d4ebb-833e-4434-b24f-80c72ddc0dca",
   "metadata": {
    "tags": []
   },
   "outputs": [],
   "source": [
    "np.concatenate([x,y])"
   ]
  },
  {
   "cell_type": "code",
   "execution_count": null,
   "id": "82404c15-828b-4767-b840-2b5aacdd4f8a",
   "metadata": {
    "tags": []
   },
   "outputs": [],
   "source": [
    "z = np.array([7,8,9])"
   ]
  },
  {
   "cell_type": "code",
   "execution_count": null,
   "id": "8ee14fa5-bf36-4013-99dc-51fc0f483ca7",
   "metadata": {
    "tags": []
   },
   "outputs": [],
   "source": [
    "np.concatenate([x,y,z])"
   ]
  },
  {
   "cell_type": "markdown",
   "id": "77500116-db46-4db0-9bb7-dbb36c945584",
   "metadata": {},
   "source": [
    "### iki boyutluda birleştirme"
   ]
  },
  {
   "cell_type": "code",
   "execution_count": null,
   "id": "43748c9f-6dba-4327-96b8-6c548fd35245",
   "metadata": {
    "tags": []
   },
   "outputs": [],
   "source": [
    "a = np.array([[1,2,3],\n",
    "              [4,5,6]])"
   ]
  },
  {
   "cell_type": "code",
   "execution_count": null,
   "id": "4a6ad45e-a71e-490a-a083-03f5ab484e04",
   "metadata": {
    "tags": []
   },
   "outputs": [],
   "source": [
    "np.concatenate([a,a], axis = 0)"
   ]
  },
  {
   "cell_type": "markdown",
   "id": "986b2092-2cf7-44fc-ab7b-d98a1978c06e",
   "metadata": {},
   "source": [
    "### Array Ayırma(splitting)"
   ]
  },
  {
   "cell_type": "code",
   "execution_count": null,
   "id": "0761a61b-7cb7-4c6a-a754-ae572d4a88c8",
   "metadata": {
    "tags": []
   },
   "outputs": [],
   "source": [
    "import numpy as np "
   ]
  },
  {
   "cell_type": "code",
   "execution_count": null,
   "id": "52243e08-2799-4431-a165-ff3a76aa8bca",
   "metadata": {
    "tags": []
   },
   "outputs": [],
   "source": [
    "x =np.array([1,2,3,99,99,3,2,1])"
   ]
  },
  {
   "cell_type": "code",
   "execution_count": null,
   "id": "b91710c9-3725-4f57-a2b2-a5aa4131b94b",
   "metadata": {
    "tags": []
   },
   "outputs": [],
   "source": [
    "np.split(x, [3,5])"
   ]
  },
  {
   "cell_type": "code",
   "execution_count": null,
   "id": "14132101-5c93-495c-97be-398b6911c7cf",
   "metadata": {
    "tags": []
   },
   "outputs": [],
   "source": [
    "a,b,c = np.split(x, [3,5])"
   ]
  },
  {
   "cell_type": "code",
   "execution_count": null,
   "id": "3b092a57-11a9-442a-8f64-b659eb4bcb8f",
   "metadata": {
    "tags": []
   },
   "outputs": [],
   "source": [
    "a"
   ]
  },
  {
   "cell_type": "code",
   "execution_count": null,
   "id": "e5db735e-d95e-4c7b-853f-2060730d7244",
   "metadata": {
    "tags": []
   },
   "outputs": [],
   "source": [
    "b"
   ]
  },
  {
   "cell_type": "code",
   "execution_count": null,
   "id": "493f2deb-ada9-458a-ab4e-bac00419ce02",
   "metadata": {
    "tags": []
   },
   "outputs": [],
   "source": [
    "c"
   ]
  },
  {
   "cell_type": "markdown",
   "id": "2944d9f3-8b00-4053-9dae-431389ea93f9",
   "metadata": {},
   "source": [
    "### iki boyutlu ayırma"
   ]
  },
  {
   "cell_type": "code",
   "execution_count": null,
   "id": "145720d1-37c5-4463-839b-c6082f501146",
   "metadata": {
    "tags": []
   },
   "outputs": [],
   "source": [
    "m = np.arange(16).reshape(4,4)\n",
    "m"
   ]
  },
  {
   "cell_type": "code",
   "execution_count": null,
   "id": "600661f9-f4ed-4565-8425-e9c74db330ac",
   "metadata": {
    "tags": []
   },
   "outputs": [],
   "source": [
    "np.vsplit(m, [2])"
   ]
  },
  {
   "cell_type": "code",
   "execution_count": null,
   "id": "5333d0a6-1971-452c-a5ed-a48dc5e74596",
   "metadata": {
    "tags": []
   },
   "outputs": [],
   "source": [
    "ust, alt = np.vsplit(m,[3])"
   ]
  },
  {
   "cell_type": "code",
   "execution_count": null,
   "id": "8f8455bd-9e8c-4b97-ad77-53fdfaf0837e",
   "metadata": {
    "tags": []
   },
   "outputs": [],
   "source": [
    "ust"
   ]
  },
  {
   "cell_type": "code",
   "execution_count": null,
   "id": "2887455f-d819-47fa-824a-66ca50c78212",
   "metadata": {
    "tags": []
   },
   "outputs": [],
   "source": [
    "alt"
   ]
  },
  {
   "cell_type": "code",
   "execution_count": null,
   "id": "aead5fa0-56e5-4893-89bb-28a49f311b7f",
   "metadata": {
    "tags": []
   },
   "outputs": [],
   "source": [
    "m"
   ]
  },
  {
   "cell_type": "code",
   "execution_count": null,
   "id": "d0d3289d-f605-414a-914b-429aaf6ad2e7",
   "metadata": {
    "tags": []
   },
   "outputs": [],
   "source": [
    "np.hsplit(m,[3])"
   ]
  },
  {
   "cell_type": "code",
   "execution_count": null,
   "id": "542f993d-ea89-4e4c-95f3-9309849c12fb",
   "metadata": {
    "tags": []
   },
   "outputs": [],
   "source": [
    "sag, sol = np.hsplit(m, [2])"
   ]
  },
  {
   "cell_type": "code",
   "execution_count": null,
   "id": "9d01957e-0d41-4811-96b6-d22f504aa957",
   "metadata": {
    "tags": []
   },
   "outputs": [],
   "source": [
    "sag"
   ]
  },
  {
   "cell_type": "code",
   "execution_count": null,
   "id": "5ffc1e8a-0e08-4dd3-83d4-348026be2abb",
   "metadata": {
    "tags": []
   },
   "outputs": [],
   "source": [
    "sol"
   ]
  },
  {
   "cell_type": "markdown",
   "id": "9d4df1a5-fdc7-40e6-9c9a-50cce0853bc5",
   "metadata": {
    "tags": []
   },
   "source": [
    "### Sıralama(Sorting)"
   ]
  },
  {
   "cell_type": "code",
   "execution_count": null,
   "id": "f81b6e27-3f22-48f4-89fb-c293ba332914",
   "metadata": {},
   "outputs": [],
   "source": [
    "import numpy as np"
   ]
  },
  {
   "cell_type": "code",
   "execution_count": null,
   "id": "4326e568-ede4-4a67-8419-dc2a8bff8a60",
   "metadata": {
    "tags": []
   },
   "outputs": [],
   "source": [
    "v = np.array([2,1,4,3,6])"
   ]
  },
  {
   "cell_type": "code",
   "execution_count": null,
   "id": "9a19b6f1-c176-400c-bbc5-723a8b8e29a3",
   "metadata": {
    "tags": []
   },
   "outputs": [],
   "source": [
    "v"
   ]
  },
  {
   "cell_type": "code",
   "execution_count": 43,
   "id": "b30068c3-f73e-4f95-b464-89e92a7f225a",
   "metadata": {
    "tags": []
   },
   "outputs": [
    {
     "ename": "NameError",
     "evalue": "name 'v' is not defined",
     "output_type": "error",
     "traceback": [
      "\u001b[1;31m---------------------------------------------------------------------------\u001b[0m",
      "\u001b[1;31mNameError\u001b[0m                                 Traceback (most recent call last)",
      "Cell \u001b[1;32mIn[43], line 1\u001b[0m\n\u001b[1;32m----> 1\u001b[0m np\u001b[38;5;241m.\u001b[39msort(v)\n",
      "\u001b[1;31mNameError\u001b[0m: name 'v' is not defined"
     ]
    }
   ],
   "source": [
    "np.sort(v)"
   ]
  },
  {
   "cell_type": "code",
   "execution_count": 44,
   "id": "36ece33b-6fc7-4619-ac78-6830e2864a02",
   "metadata": {
    "tags": []
   },
   "outputs": [
    {
     "ename": "NameError",
     "evalue": "name 'v' is not defined",
     "output_type": "error",
     "traceback": [
      "\u001b[1;31m---------------------------------------------------------------------------\u001b[0m",
      "\u001b[1;31mNameError\u001b[0m                                 Traceback (most recent call last)",
      "Cell \u001b[1;32mIn[44], line 1\u001b[0m\n\u001b[1;32m----> 1\u001b[0m v\u001b[38;5;241m.\u001b[39msort()\n",
      "\u001b[1;31mNameError\u001b[0m: name 'v' is not defined"
     ]
    }
   ],
   "source": [
    "v.sort()"
   ]
  },
  {
   "cell_type": "code",
   "execution_count": 45,
   "id": "743a54c5-c82d-48d6-8152-06399deb3fc8",
   "metadata": {
    "tags": []
   },
   "outputs": [
    {
     "ename": "NameError",
     "evalue": "name 'v' is not defined",
     "output_type": "error",
     "traceback": [
      "\u001b[1;31m---------------------------------------------------------------------------\u001b[0m",
      "\u001b[1;31mNameError\u001b[0m                                 Traceback (most recent call last)",
      "Cell \u001b[1;32mIn[45], line 1\u001b[0m\n\u001b[1;32m----> 1\u001b[0m v\n",
      "\u001b[1;31mNameError\u001b[0m: name 'v' is not defined"
     ]
    }
   ],
   "source": [
    "v"
   ]
  },
  {
   "cell_type": "markdown",
   "id": "5092af58-89d1-49fd-bc9e-1731fddfaee3",
   "metadata": {},
   "source": [
    "### iki boyutlu array sıralama"
   ]
  },
  {
   "cell_type": "code",
   "execution_count": 47,
   "id": "33bae6c0-132d-48eb-9856-e91a0271b48e",
   "metadata": {
    "tags": []
   },
   "outputs": [],
   "source": [
    "m = np.random.normal(20,5, (3,3))"
   ]
  },
  {
   "cell_type": "code",
   "execution_count": 48,
   "id": "1f9d71fb-ec86-4acf-9902-0378365d8dfe",
   "metadata": {
    "tags": []
   },
   "outputs": [
    {
     "data": {
      "text/plain": [
       "array([[19.76970707, 20.08563044, 20.57560675],\n",
       "       [18.06713737, 22.76825286, 17.14588944],\n",
       "       [17.33397885, 26.38460271, 34.04436701]])"
      ]
     },
     "execution_count": 48,
     "metadata": {},
     "output_type": "execute_result"
    }
   ],
   "source": [
    "m"
   ]
  },
  {
   "cell_type": "code",
   "execution_count": 49,
   "id": "6f8633ee-2aad-4720-ae72-1e53a8a5ae7b",
   "metadata": {
    "tags": []
   },
   "outputs": [
    {
     "data": {
      "text/plain": [
       "array([[19.76970707, 20.08563044, 20.57560675],\n",
       "       [17.14588944, 18.06713737, 22.76825286],\n",
       "       [17.33397885, 26.38460271, 34.04436701]])"
      ]
     },
     "execution_count": 49,
     "metadata": {},
     "output_type": "execute_result"
    }
   ],
   "source": [
    "np.sort(m, axis = 1)"
   ]
  },
  {
   "cell_type": "code",
   "execution_count": 50,
   "id": "61618418-a486-412b-bd7c-21a7eea11402",
   "metadata": {
    "tags": []
   },
   "outputs": [
    {
     "data": {
      "text/plain": [
       "array([[17.33397885, 20.08563044, 17.14588944],\n",
       "       [18.06713737, 22.76825286, 20.57560675],\n",
       "       [19.76970707, 26.38460271, 34.04436701]])"
      ]
     },
     "execution_count": 50,
     "metadata": {},
     "output_type": "execute_result"
    }
   ],
   "source": [
    "np.sort(m, axis = 0)"
   ]
  },
  {
   "cell_type": "markdown",
   "id": "0cd40e40-be9f-4fb7-ae41-4b738ccd9500",
   "metadata": {},
   "source": [
    "### İndex ile Elemanlara  Erişim"
   ]
  },
  {
   "cell_type": "code",
   "execution_count": 52,
   "id": "fab50897-a8e1-43f9-948b-48222b180a70",
   "metadata": {
    "tags": []
   },
   "outputs": [],
   "source": [
    "import numpy as np"
   ]
  },
  {
   "cell_type": "code",
   "execution_count": 53,
   "id": "1935e6af-58bc-4737-a6e6-02212440f0c2",
   "metadata": {
    "tags": []
   },
   "outputs": [],
   "source": [
    "a = np.random.randint(10, size = 9)"
   ]
  },
  {
   "cell_type": "code",
   "execution_count": 55,
   "id": "03644d05-675f-4253-9961-d176377b638e",
   "metadata": {
    "tags": []
   },
   "outputs": [
    {
     "data": {
      "text/plain": [
       "array([6, 1, 2, 9, 8, 1, 7, 7, 9])"
      ]
     },
     "execution_count": 55,
     "metadata": {},
     "output_type": "execute_result"
    }
   ],
   "source": [
    "a"
   ]
  },
  {
   "cell_type": "code",
   "execution_count": 56,
   "id": "d5611719-a292-4c6a-883f-109fc0a56e04",
   "metadata": {
    "tags": []
   },
   "outputs": [
    {
     "data": {
      "text/plain": [
       "6"
      ]
     },
     "execution_count": 56,
     "metadata": {},
     "output_type": "execute_result"
    }
   ],
   "source": [
    "a[0]"
   ]
  },
  {
   "cell_type": "code",
   "execution_count": 59,
   "id": "6b19d5bb-ddc4-42c5-bc13-8e6412674e76",
   "metadata": {
    "tags": []
   },
   "outputs": [
    {
     "data": {
      "text/plain": [
       "9"
      ]
     },
     "execution_count": 59,
     "metadata": {},
     "output_type": "execute_result"
    }
   ],
   "source": [
    "a[-1]"
   ]
  },
  {
   "cell_type": "code",
   "execution_count": 60,
   "id": "141562c8-f9d4-4188-806c-13505131f9a9",
   "metadata": {
    "tags": []
   },
   "outputs": [],
   "source": [
    "a[0] = 100"
   ]
  },
  {
   "cell_type": "code",
   "execution_count": 61,
   "id": "22d2a8df-1df6-4593-8bf3-1ca4b0d32729",
   "metadata": {
    "tags": []
   },
   "outputs": [
    {
     "data": {
      "text/plain": [
       "array([100,   1,   2,   9,   8,   1,   7,   7,   9])"
      ]
     },
     "execution_count": 61,
     "metadata": {},
     "output_type": "execute_result"
    }
   ],
   "source": [
    "a"
   ]
  },
  {
   "cell_type": "code",
   "execution_count": 62,
   "id": "0f71af1b-f08f-4333-9212-acefb60cb2f8",
   "metadata": {
    "tags": []
   },
   "outputs": [
    {
     "data": {
      "text/plain": [
       "array([[8, 4, 3, 1, 7],\n",
       "       [9, 8, 6, 1, 7],\n",
       "       [2, 1, 4, 0, 0]])"
      ]
     },
     "execution_count": 62,
     "metadata": {},
     "output_type": "execute_result"
    }
   ],
   "source": [
    "m = np.random.randint(10, size = (3,5))\n",
    "m"
   ]
  },
  {
   "cell_type": "code",
   "execution_count": 63,
   "id": "b92712af-a333-438b-af64-3c3c236d5573",
   "metadata": {
    "tags": []
   },
   "outputs": [
    {
     "data": {
      "text/plain": [
       "8"
      ]
     },
     "execution_count": 63,
     "metadata": {},
     "output_type": "execute_result"
    }
   ],
   "source": [
    "m[0,0]"
   ]
  },
  {
   "cell_type": "code",
   "execution_count": 64,
   "id": "0a468b39-f331-4d1a-9c85-6b1c40a631d3",
   "metadata": {
    "tags": []
   },
   "outputs": [
    {
     "data": {
      "text/plain": [
       "7"
      ]
     },
     "execution_count": 64,
     "metadata": {},
     "output_type": "execute_result"
    }
   ],
   "source": [
    "m[1,4]"
   ]
  },
  {
   "cell_type": "code",
   "execution_count": 65,
   "id": "36954c1d-fc3d-41c5-a3cf-871038016c07",
   "metadata": {
    "tags": []
   },
   "outputs": [
    {
     "data": {
      "text/plain": [
       "0"
      ]
     },
     "execution_count": 65,
     "metadata": {},
     "output_type": "execute_result"
    }
   ],
   "source": [
    "m[2,3]"
   ]
  },
  {
   "cell_type": "code",
   "execution_count": 66,
   "id": "fa6cac45-dd93-42ef-87f3-07a99065935b",
   "metadata": {
    "tags": []
   },
   "outputs": [],
   "source": [
    "m[1,4] = 99"
   ]
  },
  {
   "cell_type": "code",
   "execution_count": 67,
   "id": "faa79bd9-8805-45ed-b5d0-828e491af30f",
   "metadata": {
    "tags": []
   },
   "outputs": [
    {
     "data": {
      "text/plain": [
       "array([[ 8,  4,  3,  1,  7],\n",
       "       [ 9,  8,  6,  1, 99],\n",
       "       [ 2,  1,  4,  0,  0]])"
      ]
     },
     "execution_count": 67,
     "metadata": {},
     "output_type": "execute_result"
    }
   ],
   "source": [
    "m"
   ]
  },
  {
   "cell_type": "code",
   "execution_count": 69,
   "id": "ae03291f-0d70-4e49-ac13-0e715c7ae697",
   "metadata": {
    "tags": []
   },
   "outputs": [],
   "source": [
    "m[1,4] = 2.2"
   ]
  },
  {
   "cell_type": "code",
   "execution_count": 70,
   "id": "d94779cb-7fef-48e8-bdd4-1a7e72a7c6b6",
   "metadata": {
    "tags": []
   },
   "outputs": [
    {
     "data": {
      "text/plain": [
       "array([[8, 4, 3, 1, 7],\n",
       "       [9, 8, 6, 1, 2],\n",
       "       [2, 1, 4, 0, 0]])"
      ]
     },
     "execution_count": 70,
     "metadata": {},
     "output_type": "execute_result"
    }
   ],
   "source": [
    "m"
   ]
  },
  {
   "cell_type": "markdown",
   "id": "b1516d04-ef2a-44ea-9f7b-f947f3b0f35d",
   "metadata": {},
   "source": [
    "### Slicing ile Elemanlara Erişmek(Array alt kümesine Erişmek)"
   ]
  },
  {
   "cell_type": "code",
   "execution_count": 72,
   "id": "fbf6b9ec-9a13-454d-933a-f5794e39742d",
   "metadata": {
    "tags": []
   },
   "outputs": [],
   "source": [
    "import numpy as np"
   ]
  },
  {
   "cell_type": "code",
   "execution_count": 74,
   "id": "3d21a8f7-a215-410a-85eb-b97815ec4850",
   "metadata": {
    "tags": []
   },
   "outputs": [
    {
     "data": {
      "text/plain": [
       "array([20, 21, 22, 23, 24, 25, 26, 27, 28, 29])"
      ]
     },
     "execution_count": 74,
     "metadata": {},
     "output_type": "execute_result"
    }
   ],
   "source": [
    "a = np.arange(20,30)\n",
    "a"
   ]
  },
  {
   "cell_type": "code",
   "execution_count": 75,
   "id": "6bacaef2-c113-4361-bd62-5e9d84d023f6",
   "metadata": {
    "tags": []
   },
   "outputs": [
    {
     "data": {
      "text/plain": [
       "array([20, 21, 22])"
      ]
     },
     "execution_count": 75,
     "metadata": {},
     "output_type": "execute_result"
    }
   ],
   "source": [
    "a[0:3]"
   ]
  },
  {
   "cell_type": "code",
   "execution_count": 76,
   "id": "f27951c7-0285-4890-8cb8-7a50d4d7079c",
   "metadata": {
    "tags": []
   },
   "outputs": [
    {
     "data": {
      "text/plain": [
       "array([20, 21, 22])"
      ]
     },
     "execution_count": 76,
     "metadata": {},
     "output_type": "execute_result"
    }
   ],
   "source": [
    "a[:3]"
   ]
  },
  {
   "cell_type": "code",
   "execution_count": 77,
   "id": "775fe9b9-1a39-46ac-8a82-e8706a8b106e",
   "metadata": {
    "tags": []
   },
   "outputs": [
    {
     "data": {
      "text/plain": [
       "array([23, 24, 25, 26, 27, 28, 29])"
      ]
     },
     "execution_count": 77,
     "metadata": {},
     "output_type": "execute_result"
    }
   ],
   "source": [
    "a[3:]"
   ]
  },
  {
   "cell_type": "code",
   "execution_count": 79,
   "id": "78d53d7f-2a73-4e5f-bed7-5d862db1536f",
   "metadata": {
    "tags": []
   },
   "outputs": [
    {
     "data": {
      "text/plain": [
       "array([21, 23, 25, 27, 29])"
      ]
     },
     "execution_count": 79,
     "metadata": {},
     "output_type": "execute_result"
    }
   ],
   "source": [
    "a[1::2]"
   ]
  },
  {
   "cell_type": "code",
   "execution_count": 80,
   "id": "30addc89-df8f-4be5-8525-8564227d6a03",
   "metadata": {
    "tags": []
   },
   "outputs": [
    {
     "data": {
      "text/plain": [
       "array([20, 22, 24, 26, 28])"
      ]
     },
     "execution_count": 80,
     "metadata": {},
     "output_type": "execute_result"
    }
   ],
   "source": [
    "a[0::2]"
   ]
  },
  {
   "cell_type": "code",
   "execution_count": 81,
   "id": "d3932ab3-f8bd-46fd-9066-adc0f697df34",
   "metadata": {
    "tags": []
   },
   "outputs": [
    {
     "data": {
      "text/plain": [
       "array([20, 23, 26, 29])"
      ]
     },
     "execution_count": 81,
     "metadata": {},
     "output_type": "execute_result"
    }
   ],
   "source": [
    "a[0::3]"
   ]
  },
  {
   "cell_type": "markdown",
   "id": "51b50a3d-e003-49cd-b875-d2a82a954820",
   "metadata": {
    "tags": []
   },
   "source": [
    "### iki boyutlu slice işlemleri"
   ]
  },
  {
   "cell_type": "code",
   "execution_count": 362,
   "id": "c1580a67-ff63-4793-b0fe-4ae2020ef4ca",
   "metadata": {
    "tags": []
   },
   "outputs": [
    {
     "data": {
      "text/plain": [
       "array([[9, 6, 5, 1, 6],\n",
       "       [1, 3, 7, 3, 6],\n",
       "       [7, 2, 1, 1, 3],\n",
       "       [6, 8, 0, 5, 4],\n",
       "       [7, 3, 1, 7, 8]])"
      ]
     },
     "execution_count": 362,
     "metadata": {},
     "output_type": "execute_result"
    }
   ],
   "source": [
    "m = np.random.randint(10, size =(5,5))\n",
    "m"
   ]
  },
  {
   "cell_type": "code",
   "execution_count": 370,
   "id": "8b26540f-142d-432e-90d1-8503f3b2f48a",
   "metadata": {
    "tags": []
   },
   "outputs": [
    {
     "data": {
      "text/plain": [
       "array([9, 1, 7, 6, 7])"
      ]
     },
     "execution_count": 370,
     "metadata": {},
     "output_type": "execute_result"
    }
   ],
   "source": [
    "m[:,0]"
   ]
  },
  {
   "cell_type": "code",
   "execution_count": 356,
   "id": "0c758d0d-845d-45ff-a70d-25d5df7a8f0a",
   "metadata": {
    "tags": []
   },
   "outputs": [
    {
     "data": {
      "text/plain": [
       "array([1, 4, 7])"
      ]
     },
     "execution_count": 356,
     "metadata": {},
     "output_type": "execute_result"
    }
   ],
   "source": [
    "m[:,1]"
   ]
  },
  {
   "cell_type": "code",
   "execution_count": 88,
   "id": "e0fc005b-ce6c-4adb-804b-7ad2a579629b",
   "metadata": {
    "tags": []
   },
   "outputs": [
    {
     "data": {
      "text/plain": [
       "array([5, 9, 8, 7, 1])"
      ]
     },
     "execution_count": 88,
     "metadata": {},
     "output_type": "execute_result"
    }
   ],
   "source": [
    "m[:,4]"
   ]
  },
  {
   "cell_type": "code",
   "execution_count": 89,
   "id": "b232ac26-d222-4d71-a9a5-202faf19522b",
   "metadata": {
    "tags": []
   },
   "outputs": [
    {
     "data": {
      "text/plain": [
       "array([1, 2, 0, 3, 5])"
      ]
     },
     "execution_count": 89,
     "metadata": {},
     "output_type": "execute_result"
    }
   ],
   "source": [
    "m[0,:]"
   ]
  },
  {
   "cell_type": "code",
   "execution_count": 90,
   "id": "bde883df-69a3-4fe3-adf2-fa080535977b",
   "metadata": {
    "tags": []
   },
   "outputs": [
    {
     "data": {
      "text/plain": [
       "array([1, 2, 0, 3, 5])"
      ]
     },
     "execution_count": 90,
     "metadata": {},
     "output_type": "execute_result"
    }
   ],
   "source": [
    "m[0]"
   ]
  },
  {
   "cell_type": "code",
   "execution_count": 91,
   "id": "17950064-1499-44f3-b253-a29e52a17eb5",
   "metadata": {
    "tags": []
   },
   "outputs": [
    {
     "data": {
      "text/plain": [
       "array([8, 0, 7, 1, 9])"
      ]
     },
     "execution_count": 91,
     "metadata": {},
     "output_type": "execute_result"
    }
   ],
   "source": [
    "m[1,:]"
   ]
  },
  {
   "cell_type": "code",
   "execution_count": 92,
   "id": "0a6ecf32-cad1-4fbb-990c-41cbf24ded6b",
   "metadata": {
    "tags": []
   },
   "outputs": [
    {
     "data": {
      "text/plain": [
       "array([[1, 2, 0, 3, 5],\n",
       "       [8, 0, 7, 1, 9],\n",
       "       [9, 4, 3, 6, 8],\n",
       "       [6, 8, 2, 4, 7],\n",
       "       [5, 3, 7, 7, 1]])"
      ]
     },
     "execution_count": 92,
     "metadata": {},
     "output_type": "execute_result"
    }
   ],
   "source": [
    "m"
   ]
  },
  {
   "cell_type": "code",
   "execution_count": 93,
   "id": "070d0551-e212-467e-bcc7-974738cc5a73",
   "metadata": {
    "tags": []
   },
   "outputs": [
    {
     "data": {
      "text/plain": [
       "array([[1, 2, 0],\n",
       "       [8, 0, 7]])"
      ]
     },
     "execution_count": 93,
     "metadata": {},
     "output_type": "execute_result"
    }
   ],
   "source": [
    "m[0:2,0:3]"
   ]
  },
  {
   "cell_type": "code",
   "execution_count": 95,
   "id": "51abb910-dfac-43cc-ae26-5cf3f57a3661",
   "metadata": {
    "tags": []
   },
   "outputs": [
    {
     "data": {
      "text/plain": [
       "array([[1, 2],\n",
       "       [8, 0],\n",
       "       [9, 4],\n",
       "       [6, 8],\n",
       "       [5, 3]])"
      ]
     },
     "execution_count": 95,
     "metadata": {},
     "output_type": "execute_result"
    }
   ],
   "source": [
    "m[::,:2]"
   ]
  },
  {
   "cell_type": "code",
   "execution_count": 96,
   "id": "22e30f23-ac39-4187-9417-4ccd47d52ce5",
   "metadata": {
    "tags": []
   },
   "outputs": [
    {
     "data": {
      "text/plain": [
       "array([[8, 0],\n",
       "       [9, 4]])"
      ]
     },
     "execution_count": 96,
     "metadata": {},
     "output_type": "execute_result"
    }
   ],
   "source": [
    "m[1:3,0:2]"
   ]
  },
  {
   "cell_type": "markdown",
   "id": "0d45b3d2-a89e-44b8-bb24-2f4a32550702",
   "metadata": {},
   "source": [
    "### ALt küme üzerinde  işlem yapmak"
   ]
  },
  {
   "cell_type": "code",
   "execution_count": 98,
   "id": "40e8a1f1-0c67-4c8e-a6c4-452229d16bcf",
   "metadata": {
    "tags": []
   },
   "outputs": [
    {
     "data": {
      "text/plain": [
       "array([[9, 3, 3, 7, 4],\n",
       "       [7, 8, 1, 0, 2],\n",
       "       [8, 4, 2, 0, 4],\n",
       "       [8, 7, 9, 8, 0],\n",
       "       [0, 7, 3, 6, 7]])"
      ]
     },
     "execution_count": 98,
     "metadata": {},
     "output_type": "execute_result"
    }
   ],
   "source": [
    "import numpy as np \n",
    "a = np.random.randint(10, size = (5,5))\n",
    "a"
   ]
  },
  {
   "cell_type": "code",
   "execution_count": 99,
   "id": "716902bc-3e52-491f-9dab-175940f50808",
   "metadata": {
    "tags": []
   },
   "outputs": [
    {
     "data": {
      "text/plain": [
       "array([[9, 3],\n",
       "       [7, 8],\n",
       "       [8, 4]])"
      ]
     },
     "execution_count": 99,
     "metadata": {},
     "output_type": "execute_result"
    }
   ],
   "source": [
    "alt_a = a[0:3, 0:2]\n",
    "alt_a"
   ]
  },
  {
   "cell_type": "code",
   "execution_count": 101,
   "id": "80a075c5-4162-425a-80bf-e3116fa2dd8d",
   "metadata": {
    "tags": []
   },
   "outputs": [
    {
     "data": {
      "text/plain": [
       "array([[9999,    3],\n",
       "       [   7,  888],\n",
       "       [   8,    4]])"
      ]
     },
     "execution_count": 101,
     "metadata": {},
     "output_type": "execute_result"
    }
   ],
   "source": [
    "alt_a[0,0] = 9999\n",
    "alt_a[1,1] = 888\n",
    "alt_a"
   ]
  },
  {
   "cell_type": "code",
   "execution_count": 103,
   "id": "cb4109a6-eb77-4f34-a613-9a9749257fbf",
   "metadata": {
    "tags": []
   },
   "outputs": [
    {
     "data": {
      "text/plain": [
       "array([[9999,    3,    3,    7,    4],\n",
       "       [   7,  888,    1,    0,    2],\n",
       "       [   8,    4,    2,    0,    4],\n",
       "       [   8,    7,    9,    8,    0],\n",
       "       [   0,    7,    3,    6,    7]])"
      ]
     },
     "execution_count": 103,
     "metadata": {},
     "output_type": "execute_result"
    }
   ],
   "source": [
    "# değişiklik(9999,888) sadece alt_a değil a'da da gerçekleşti  \n",
    "# sadece alt_a'da değişiklik olmasını istiyorsak copy() metodunu kullanırız.\n",
    "a"
   ]
  },
  {
   "cell_type": "code",
   "execution_count": 104,
   "id": "0c3e2cfa-d803-4da9-942f-3f306ca07a67",
   "metadata": {
    "tags": []
   },
   "outputs": [
    {
     "data": {
      "text/plain": [
       "array([[5, 9, 9, 6, 3],\n",
       "       [2, 6, 1, 1, 1],\n",
       "       [6, 4, 6, 5, 6],\n",
       "       [7, 6, 8, 3, 8],\n",
       "       [0, 1, 6, 9, 3]])"
      ]
     },
     "execution_count": 104,
     "metadata": {},
     "output_type": "execute_result"
    }
   ],
   "source": [
    "m = np.random.randint(10, size = (5,5))\n",
    "m"
   ]
  },
  {
   "cell_type": "code",
   "execution_count": 105,
   "id": "f47a73a1-4f86-4797-b439-5a464bd36216",
   "metadata": {
    "tags": []
   },
   "outputs": [
    {
     "data": {
      "text/plain": [
       "array([[5, 9],\n",
       "       [2, 6],\n",
       "       [6, 4]])"
      ]
     },
     "execution_count": 105,
     "metadata": {},
     "output_type": "execute_result"
    }
   ],
   "source": [
    "alt_m = m[0:3, 0:2].copy()\n",
    "alt_m"
   ]
  },
  {
   "cell_type": "code",
   "execution_count": 106,
   "id": "89bc6654-1754-4aa2-ac54-e594ef4288ed",
   "metadata": {
    "tags": []
   },
   "outputs": [
    {
     "data": {
      "text/plain": [
       "array([[198,  18],\n",
       "       [  4,  12],\n",
       "       [ 12,   8]])"
      ]
     },
     "execution_count": 106,
     "metadata": {},
     "output_type": "execute_result"
    }
   ],
   "source": [
    "alt_m[0,0]= 99\n",
    "alt_m = alt_m * 2\n",
    "alt_m"
   ]
  },
  {
   "cell_type": "code",
   "execution_count": 107,
   "id": "33023825-a09c-4bc8-a42d-263bebe62e44",
   "metadata": {
    "tags": []
   },
   "outputs": [
    {
     "data": {
      "text/plain": [
       "array([[5, 9, 9, 6, 3],\n",
       "       [2, 6, 1, 1, 1],\n",
       "       [6, 4, 6, 5, 6],\n",
       "       [7, 6, 8, 3, 8],\n",
       "       [0, 1, 6, 9, 3]])"
      ]
     },
     "execution_count": 107,
     "metadata": {},
     "output_type": "execute_result"
    }
   ],
   "source": [
    "m"
   ]
  },
  {
   "cell_type": "markdown",
   "id": "8e852e58-bd75-4432-9015-e182d72ecc86",
   "metadata": {},
   "source": [
    "### Fancy İndex ile Elemanlara Erişim"
   ]
  },
  {
   "cell_type": "code",
   "execution_count": 113,
   "id": "1adeecce-0e99-437f-81a5-173a55e02b55",
   "metadata": {
    "tags": []
   },
   "outputs": [
    {
     "data": {
      "text/plain": [
       "array([ 0,  3,  6,  9, 12, 15, 18, 21, 24, 27])"
      ]
     },
     "execution_count": 113,
     "metadata": {},
     "output_type": "execute_result"
    }
   ],
   "source": [
    "import numpy as np \n",
    "v = np.arange(0, 30, 3)\n",
    "v"
   ]
  },
  {
   "cell_type": "code",
   "execution_count": 114,
   "id": "649be092-9cb9-400c-8888-7365be2731ea",
   "metadata": {
    "tags": []
   },
   "outputs": [
    {
     "data": {
      "text/plain": [
       "3"
      ]
     },
     "execution_count": 114,
     "metadata": {},
     "output_type": "execute_result"
    }
   ],
   "source": [
    "v[1]"
   ]
  },
  {
   "cell_type": "code",
   "execution_count": 115,
   "id": "9482bed5-3e5f-4394-8858-b280731d165f",
   "metadata": {
    "tags": []
   },
   "outputs": [
    {
     "data": {
      "text/plain": [
       "15"
      ]
     },
     "execution_count": 115,
     "metadata": {},
     "output_type": "execute_result"
    }
   ],
   "source": [
    "v[5]"
   ]
  },
  {
   "cell_type": "code",
   "execution_count": 117,
   "id": "ca9e9466-f5e4-4640-900d-7b84b4ab4146",
   "metadata": {
    "tags": []
   },
   "outputs": [
    {
     "data": {
      "text/plain": [
       "[3, 15, 18]"
      ]
     },
     "execution_count": 117,
     "metadata": {},
     "output_type": "execute_result"
    }
   ],
   "source": [
    "[v[1], v[5], v[6]]"
   ]
  },
  {
   "cell_type": "code",
   "execution_count": 118,
   "id": "50311538-4177-4185-bd70-a28fc1fea803",
   "metadata": {
    "tags": []
   },
   "outputs": [],
   "source": [
    "al_getir = [1,5,6]\n"
   ]
  },
  {
   "cell_type": "code",
   "execution_count": 121,
   "id": "bf529991-3162-41ba-a059-04c512117500",
   "metadata": {
    "tags": []
   },
   "outputs": [
    {
     "data": {
      "text/plain": [
       "array([ 0,  3,  6,  9, 12, 15, 18, 21, 24, 27])"
      ]
     },
     "execution_count": 121,
     "metadata": {},
     "output_type": "execute_result"
    }
   ],
   "source": [
    "v"
   ]
  },
  {
   "cell_type": "code",
   "execution_count": 122,
   "id": "0f58f98d-3525-41e1-bfb1-6176e6fed1cb",
   "metadata": {
    "tags": []
   },
   "outputs": [
    {
     "data": {
      "text/plain": [
       "array([ 3, 15, 18])"
      ]
     },
     "execution_count": 122,
     "metadata": {},
     "output_type": "execute_result"
    }
   ],
   "source": [
    "v[al_getir]"
   ]
  },
  {
   "cell_type": "markdown",
   "id": "c2307e39-9216-4429-90ea-03baa5c43a4d",
   "metadata": {},
   "source": [
    "### iki boyutta fancy"
   ]
  },
  {
   "cell_type": "code",
   "execution_count": 125,
   "id": "7a3b94a5-9817-4cf9-82f6-de86563b04ff",
   "metadata": {
    "tags": []
   },
   "outputs": [
    {
     "data": {
      "text/plain": [
       "array([[0, 1, 2],\n",
       "       [3, 4, 5],\n",
       "       [6, 7, 8]])"
      ]
     },
     "execution_count": 125,
     "metadata": {},
     "output_type": "execute_result"
    }
   ],
   "source": [
    "m = np.arange(9).reshape((3,3))\n",
    "m"
   ]
  },
  {
   "cell_type": "code",
   "execution_count": 126,
   "id": "9b8fb42d-7a7b-46c2-853a-31247e36f48a",
   "metadata": {
    "tags": []
   },
   "outputs": [],
   "source": [
    "satir = np.array([0,1])\n",
    "sutun = np.array([1,2])"
   ]
  },
  {
   "cell_type": "code",
   "execution_count": 129,
   "id": "11f5bf7d-2b34-4d85-a332-228e563a7b37",
   "metadata": {
    "tags": []
   },
   "outputs": [
    {
     "data": {
      "text/plain": [
       "array([1, 5])"
      ]
     },
     "execution_count": 129,
     "metadata": {},
     "output_type": "execute_result"
    }
   ],
   "source": [
    "m[satir, sutun]"
   ]
  },
  {
   "cell_type": "markdown",
   "id": "3f27a395-4699-4974-b005-18ed3eedf530",
   "metadata": {},
   "source": [
    "### basit index ile fancy index"
   ]
  },
  {
   "cell_type": "code",
   "execution_count": 131,
   "id": "e47cb0d3-1a92-4679-96c3-a1c8719f5b14",
   "metadata": {
    "tags": []
   },
   "outputs": [
    {
     "data": {
      "text/plain": [
       "array([[0, 1, 2],\n",
       "       [3, 4, 5],\n",
       "       [6, 7, 8]])"
      ]
     },
     "execution_count": 131,
     "metadata": {},
     "output_type": "execute_result"
    }
   ],
   "source": [
    "m"
   ]
  },
  {
   "cell_type": "code",
   "execution_count": 133,
   "id": "126fb36d-4b5d-43b5-9ec5-ea95302b2bde",
   "metadata": {
    "tags": []
   },
   "outputs": [
    {
     "data": {
      "text/plain": [
       "array([1, 2])"
      ]
     },
     "execution_count": 133,
     "metadata": {},
     "output_type": "execute_result"
    }
   ],
   "source": [
    "m[0,[1,2]]"
   ]
  },
  {
   "cell_type": "code",
   "execution_count": 134,
   "id": "32c97f45-ae90-4ac1-b912-873203e68097",
   "metadata": {},
   "outputs": [],
   "source": [
    "# slice ile fancy"
   ]
  },
  {
   "cell_type": "code",
   "execution_count": 135,
   "id": "53f3b74e-adb0-4969-bd31-ccb6216ccd42",
   "metadata": {
    "tags": []
   },
   "outputs": [
    {
     "data": {
      "text/plain": [
       "array([[1, 2],\n",
       "       [4, 5],\n",
       "       [7, 8]])"
      ]
     },
     "execution_count": 135,
     "metadata": {},
     "output_type": "execute_result"
    }
   ],
   "source": [
    "m[0:,[1,2]]"
   ]
  },
  {
   "cell_type": "markdown",
   "id": "8faf8326-e27f-47c3-b864-c708f1bd9218",
   "metadata": {},
   "source": [
    "### Koşullu Eleman İşlemleri"
   ]
  },
  {
   "cell_type": "code",
   "execution_count": 139,
   "id": "98626d98-84a7-43cc-bbfd-b3d124979db7",
   "metadata": {
    "tags": []
   },
   "outputs": [],
   "source": [
    "import numpy as np\n",
    "v = np.array([1,2,3,4,5])"
   ]
  },
  {
   "cell_type": "code",
   "execution_count": 142,
   "id": "38b1bd8c-cb31-4922-87e3-abf83b32dc72",
   "metadata": {
    "tags": []
   },
   "outputs": [
    {
     "data": {
      "text/plain": [
       "array([ True,  True, False, False, False])"
      ]
     },
     "execution_count": 142,
     "metadata": {},
     "output_type": "execute_result"
    }
   ],
   "source": [
    "v <3"
   ]
  },
  {
   "cell_type": "code",
   "execution_count": 143,
   "id": "53ce1718-f602-48d7-b618-a049a1ea658b",
   "metadata": {
    "tags": []
   },
   "outputs": [
    {
     "data": {
      "text/plain": [
       "array([1, 2])"
      ]
     },
     "execution_count": 143,
     "metadata": {},
     "output_type": "execute_result"
    }
   ],
   "source": [
    "v[v<3]"
   ]
  },
  {
   "cell_type": "code",
   "execution_count": 144,
   "id": "cc774c7c-7d39-4421-aba1-75186ad2184e",
   "metadata": {
    "tags": []
   },
   "outputs": [
    {
     "data": {
      "text/plain": [
       "array([4, 5])"
      ]
     },
     "execution_count": 144,
     "metadata": {},
     "output_type": "execute_result"
    }
   ],
   "source": [
    "v[v>3]"
   ]
  },
  {
   "cell_type": "code",
   "execution_count": 146,
   "id": "307ac6e6-3d29-49a9-9622-0c574ac8e03d",
   "metadata": {
    "tags": []
   },
   "outputs": [
    {
     "data": {
      "text/plain": [
       "array([3, 4, 5])"
      ]
     },
     "execution_count": 146,
     "metadata": {},
     "output_type": "execute_result"
    }
   ],
   "source": [
    "v[v>= 3]"
   ]
  },
  {
   "cell_type": "code",
   "execution_count": 147,
   "id": "bb5e0122-f4c2-453b-a33c-82f563ccc364",
   "metadata": {
    "tags": []
   },
   "outputs": [
    {
     "data": {
      "text/plain": [
       "array([3])"
      ]
     },
     "execution_count": 147,
     "metadata": {},
     "output_type": "execute_result"
    }
   ],
   "source": [
    "v[v== 3]"
   ]
  },
  {
   "cell_type": "code",
   "execution_count": 149,
   "id": "d1ae2eb7-bfdd-4a08-8480-4345361a9c28",
   "metadata": {
    "tags": []
   },
   "outputs": [
    {
     "data": {
      "text/plain": [
       "array([1, 2, 4, 5])"
      ]
     },
     "execution_count": 149,
     "metadata": {},
     "output_type": "execute_result"
    }
   ],
   "source": [
    "v[v!= 3]"
   ]
  },
  {
   "cell_type": "code",
   "execution_count": 150,
   "id": "0c4dd67b-0cc2-4486-ade4-bd79ae632993",
   "metadata": {
    "tags": []
   },
   "outputs": [
    {
     "data": {
      "text/plain": [
       "array([1, 2, 3, 4, 5])"
      ]
     },
     "execution_count": 150,
     "metadata": {},
     "output_type": "execute_result"
    }
   ],
   "source": [
    "v"
   ]
  },
  {
   "cell_type": "code",
   "execution_count": 151,
   "id": "6899a076-f7be-4e64-8286-86cdf2251f89",
   "metadata": {
    "tags": []
   },
   "outputs": [
    {
     "data": {
      "text/plain": [
       "array([ 2,  4,  6,  8, 10])"
      ]
     },
     "execution_count": 151,
     "metadata": {},
     "output_type": "execute_result"
    }
   ],
   "source": [
    "v*2"
   ]
  },
  {
   "cell_type": "code",
   "execution_count": 152,
   "id": "77b9370a-8ddb-4f88-8e13-b7e89ca35548",
   "metadata": {
    "tags": []
   },
   "outputs": [
    {
     "data": {
      "text/plain": [
       "array([0.2, 0.4, 0.6, 0.8, 1. ])"
      ]
     },
     "execution_count": 152,
     "metadata": {},
     "output_type": "execute_result"
    }
   ],
   "source": [
    "v/5"
   ]
  },
  {
   "cell_type": "code",
   "execution_count": 153,
   "id": "166fe409-86ba-408a-b169-96748b7208e5",
   "metadata": {
    "tags": []
   },
   "outputs": [
    {
     "data": {
      "text/plain": [
       "array([0.5, 1. , 1.5, 2. , 2.5])"
      ]
     },
     "execution_count": 153,
     "metadata": {},
     "output_type": "execute_result"
    }
   ],
   "source": [
    "v*5/10"
   ]
  },
  {
   "cell_type": "code",
   "execution_count": 154,
   "id": "fbcca171-ada6-4088-9ec5-263b35002cac",
   "metadata": {
    "tags": []
   },
   "outputs": [
    {
     "data": {
      "text/plain": [
       "array([ 1,  4,  9, 16, 25])"
      ]
     },
     "execution_count": 154,
     "metadata": {},
     "output_type": "execute_result"
    }
   ],
   "source": [
    "v**2"
   ]
  },
  {
   "cell_type": "markdown",
   "id": "3e0fb86c-17cf-4b66-81a1-3676a0d0da7f",
   "metadata": {
    "tags": []
   },
   "source": [
    "### Matematiksel İşlemler "
   ]
  },
  {
   "cell_type": "code",
   "execution_count": 374,
   "id": "062bc0bb-a0dd-4d1b-8c0c-30eb17399dcb",
   "metadata": {
    "tags": []
   },
   "outputs": [],
   "source": [
    "import numpy as np\n",
    "v = np.array([1, 2, 3, 4, 5])"
   ]
  },
  {
   "cell_type": "code",
   "execution_count": 376,
   "id": "13ebb927-589a-441d-92f1-a815512a0880",
   "metadata": {
    "tags": []
   },
   "outputs": [
    {
     "data": {
      "text/plain": [
       "array([0, 1, 2, 3, 4])"
      ]
     },
     "execution_count": 376,
     "metadata": {},
     "output_type": "execute_result"
    }
   ],
   "source": [
    "v-1"
   ]
  },
  {
   "cell_type": "code",
   "execution_count": 378,
   "id": "342e8bf4-f4ff-437b-bc8d-eccc527a5555",
   "metadata": {
    "tags": []
   },
   "outputs": [
    {
     "data": {
      "text/plain": [
       "array([ 5, 10, 15, 20, 25])"
      ]
     },
     "execution_count": 378,
     "metadata": {},
     "output_type": "execute_result"
    }
   ],
   "source": [
    "v*5"
   ]
  },
  {
   "cell_type": "code",
   "execution_count": 163,
   "id": "3d22160a-4913-499f-b334-33ded50f3f45",
   "metadata": {},
   "outputs": [
    {
     "data": {
      "text/plain": [
       "\"\\nyani biz aslında yukarıda çarpma işlemini ifade eden * yazmış olsakta\\narka tarafata bu işlemler bir dönüştürmeye tabi tutulup numpy'ın içerisinde\\nyerv alan bazı spesifik fomksiyonlar çalıştırılyor.\\n\""
      ]
     },
     "execution_count": 163,
     "metadata": {},
     "output_type": "execute_result"
    }
   ],
   "source": [
    "#  şu anda bu matematiksel işlemleri yaptığımızda\n",
    "# (ufunc) adı verilen bir mekanizma çalışıyor.\n",
    "\"\"\"\n",
    "yani biz aslında yukarıda çarpma işlemini ifade eden * yazmış olsakta\n",
    "arka tarafata bu işlemler bir dönüştürmeye tabi tutulup numpy'ın içerisinde\n",
    "yerv alan bazı spesifik fomksiyonlar çalıştırılyor.\n",
    "\"\"\""
   ]
  },
  {
   "cell_type": "code",
   "execution_count": 165,
   "id": "7cfa8602-f906-433f-81de-762d93dda27d",
   "metadata": {
    "tags": []
   },
   "outputs": [
    {
     "data": {
      "text/plain": [
       "array([0, 1, 2, 3, 4])"
      ]
     },
     "execution_count": 165,
     "metadata": {},
     "output_type": "execute_result"
    }
   ],
   "source": [
    "np.subtract(v,1)"
   ]
  },
  {
   "cell_type": "code",
   "execution_count": 166,
   "id": "d27f692c-c85f-468d-8d7d-656ce79b031e",
   "metadata": {
    "tags": []
   },
   "outputs": [
    {
     "data": {
      "text/plain": [
       "array([2, 3, 4, 5, 6])"
      ]
     },
     "execution_count": 166,
     "metadata": {},
     "output_type": "execute_result"
    }
   ],
   "source": [
    "np.add(v,1)"
   ]
  },
  {
   "cell_type": "code",
   "execution_count": 168,
   "id": "77f73295-8469-4641-9443-4ca09a57a5d2",
   "metadata": {
    "tags": []
   },
   "outputs": [
    {
     "data": {
      "text/plain": [
       "array([ 4,  8, 12, 16, 20])"
      ]
     },
     "execution_count": 168,
     "metadata": {},
     "output_type": "execute_result"
    }
   ],
   "source": [
    "np.multiply(v,4)"
   ]
  },
  {
   "cell_type": "code",
   "execution_count": 169,
   "id": "79363263-1bcb-4335-951c-5edb5a2c1c7f",
   "metadata": {
    "tags": []
   },
   "outputs": [
    {
     "data": {
      "text/plain": [
       "array([0.33333333, 0.66666667, 1.        , 1.33333333, 1.66666667])"
      ]
     },
     "execution_count": 169,
     "metadata": {},
     "output_type": "execute_result"
    }
   ],
   "source": [
    "np.divide(v,3)"
   ]
  },
  {
   "cell_type": "code",
   "execution_count": 170,
   "id": "506c1a2e-d8ee-4884-8db0-82aa57c39c71",
   "metadata": {
    "tags": []
   },
   "outputs": [
    {
     "data": {
      "text/plain": [
       "array([ 1,  4,  9, 16, 25])"
      ]
     },
     "execution_count": 170,
     "metadata": {},
     "output_type": "execute_result"
    }
   ],
   "source": [
    "v**2"
   ]
  },
  {
   "cell_type": "code",
   "execution_count": 172,
   "id": "24362cdf-67da-412c-ae48-74126f41ef3f",
   "metadata": {
    "tags": []
   },
   "outputs": [
    {
     "data": {
      "text/plain": [
       "array([  1,   8,  27,  64, 125], dtype=int32)"
      ]
     },
     "execution_count": 172,
     "metadata": {},
     "output_type": "execute_result"
    }
   ],
   "source": [
    "v**3"
   ]
  },
  {
   "cell_type": "code",
   "execution_count": 173,
   "id": "89bdec41-3dd7-46d1-a711-181dea3febde",
   "metadata": {
    "tags": []
   },
   "outputs": [
    {
     "data": {
      "text/plain": [
       "array([  1,   8,  27,  64, 125], dtype=int32)"
      ]
     },
     "execution_count": 173,
     "metadata": {},
     "output_type": "execute_result"
    }
   ],
   "source": [
    "np.power(v,3)"
   ]
  },
  {
   "cell_type": "code",
   "execution_count": 174,
   "id": "53552468-4398-49cc-8bcf-39000f2b4e65",
   "metadata": {
    "tags": []
   },
   "outputs": [
    {
     "data": {
      "text/plain": [
       "array([1, 0, 1, 0, 1], dtype=int32)"
      ]
     },
     "execution_count": 174,
     "metadata": {},
     "output_type": "execute_result"
    }
   ],
   "source": [
    "v % 2"
   ]
  },
  {
   "cell_type": "code",
   "execution_count": 175,
   "id": "892a072f-9694-4d9e-8be7-2969bd59b917",
   "metadata": {
    "tags": []
   },
   "outputs": [
    {
     "data": {
      "text/plain": [
       "array([1, 0, 1, 0, 1], dtype=int32)"
      ]
     },
     "execution_count": 175,
     "metadata": {},
     "output_type": "execute_result"
    }
   ],
   "source": [
    "np.mod(v,2)"
   ]
  },
  {
   "cell_type": "code",
   "execution_count": 176,
   "id": "05288776-4cde-44dd-a8fe-581a23720759",
   "metadata": {
    "tags": []
   },
   "outputs": [
    {
     "data": {
      "text/plain": [
       "array([3, 5, 6, 8, 9])"
      ]
     },
     "execution_count": 176,
     "metadata": {},
     "output_type": "execute_result"
    }
   ],
   "source": [
    "# mutlak değer fonksiyonu \n",
    "np.absolute(np.array([-3, -5, 6,  8, -9]))"
   ]
  },
  {
   "cell_type": "code",
   "execution_count": 382,
   "id": "30cc0513-7d06-402c-9a96-2931ebb685b3",
   "metadata": {
    "tags": []
   },
   "outputs": [
    {
     "data": {
      "text/plain": [
       "0.9589157234143065"
      ]
     },
     "execution_count": 382,
     "metadata": {},
     "output_type": "execute_result"
    }
   ],
   "source": [
    "np.sin(360)"
   ]
  },
  {
   "cell_type": "code",
   "execution_count": 178,
   "id": "5e6a4447-326d-47a6-9f4d-a44717334fb2",
   "metadata": {
    "tags": []
   },
   "outputs": [
    {
     "data": {
      "text/plain": [
       "-0.5984600690578581"
      ]
     },
     "execution_count": 178,
     "metadata": {},
     "output_type": "execute_result"
    }
   ],
   "source": [
    "np.cos(180)"
   ]
  },
  {
   "cell_type": "code",
   "execution_count": 179,
   "id": "b8d22f1b-43ec-49bd-b640-c2c83bd59a8e",
   "metadata": {
    "tags": []
   },
   "outputs": [],
   "source": [
    "v  = np.array([1, 2, 3, 4, 5, 6, 7, 8, 9, 10])"
   ]
  },
  {
   "cell_type": "code",
   "execution_count": 182,
   "id": "a11ea381-f8dd-4abd-a537-a6e474022914",
   "metadata": {
    "tags": []
   },
   "outputs": [
    {
     "data": {
      "text/plain": [
       "array([0.        , 0.69314718, 1.09861229, 1.38629436, 1.60943791,\n",
       "       1.79175947, 1.94591015, 2.07944154, 2.19722458, 2.30258509])"
      ]
     },
     "execution_count": 182,
     "metadata": {},
     "output_type": "execute_result"
    }
   ],
   "source": [
    "np.log(v)"
   ]
  },
  {
   "cell_type": "code",
   "execution_count": 185,
   "id": "b4ecebd3-bfbd-4a1f-9dc9-c1cb0e892de4",
   "metadata": {
    "tags": []
   },
   "outputs": [
    {
     "data": {
      "text/plain": [
       "array([0.        , 1.        , 1.5849625 , 2.        , 2.32192809,\n",
       "       2.5849625 , 2.80735492, 3.        , 3.169925  , 3.32192809])"
      ]
     },
     "execution_count": 185,
     "metadata": {},
     "output_type": "execute_result"
    }
   ],
   "source": [
    "# tabanı değiştirdik\n",
    "np.log2(v)"
   ]
  },
  {
   "cell_type": "code",
   "execution_count": 187,
   "id": "fa1082a8-5864-44ac-a4ed-e081f1145991",
   "metadata": {
    "tags": []
   },
   "outputs": [
    {
     "data": {
      "text/plain": [
       "array([0.        , 0.30103   , 0.47712125, 0.60205999, 0.69897   ,\n",
       "       0.77815125, 0.84509804, 0.90308999, 0.95424251, 1.        ])"
      ]
     },
     "execution_count": 187,
     "metadata": {},
     "output_type": "execute_result"
    }
   ],
   "source": [
    "np.log10(v)"
   ]
  },
  {
   "cell_type": "markdown",
   "id": "c7224d4e-abfa-401d-b498-ac97c3221fa4",
   "metadata": {},
   "source": [
    "### İstatiksel Hesaplamalar"
   ]
  },
  {
   "cell_type": "code",
   "execution_count": 190,
   "id": "30ce3fc9-d086-4d22-9015-e956253d83ab",
   "metadata": {
    "tags": []
   },
   "outputs": [
    {
     "data": {
      "text/plain": [
       "array([ 1,  2,  3,  4,  5,  6,  7,  8,  9, 10])"
      ]
     },
     "execution_count": 190,
     "metadata": {},
     "output_type": "execute_result"
    }
   ],
   "source": [
    "v"
   ]
  },
  {
   "cell_type": "code",
   "execution_count": 192,
   "id": "6ecea6b1-743d-4c67-bbfd-c9927aae1d34",
   "metadata": {
    "tags": []
   },
   "outputs": [
    {
     "data": {
      "text/plain": [
       "5.5"
      ]
     },
     "execution_count": 192,
     "metadata": {},
     "output_type": "execute_result"
    }
   ],
   "source": [
    "# mean  metodu aritmetik ortalamayı hesaplar.\n",
    "np.mean(v)"
   ]
  },
  {
   "cell_type": "code",
   "execution_count": 194,
   "id": "7b50a6e9-671c-4a9f-81bd-c52ad706eda6",
   "metadata": {
    "tags": []
   },
   "outputs": [
    {
     "data": {
      "text/plain": [
       "55"
      ]
     },
     "execution_count": 194,
     "metadata": {},
     "output_type": "execute_result"
    }
   ],
   "source": [
    "# içindeki değerleri toplar\n",
    "np.sum(v)"
   ]
  },
  {
   "cell_type": "code",
   "execution_count": 195,
   "id": "fcc8e265-fc1f-42e0-a8fe-844a383ae531",
   "metadata": {
    "tags": []
   },
   "outputs": [
    {
     "data": {
      "text/plain": [
       "1"
      ]
     },
     "execution_count": 195,
     "metadata": {},
     "output_type": "execute_result"
    }
   ],
   "source": [
    "np.min(v)"
   ]
  },
  {
   "cell_type": "code",
   "execution_count": 196,
   "id": "d2c5ceed-eb96-447e-af30-aaefaf37e08a",
   "metadata": {
    "tags": []
   },
   "outputs": [
    {
     "data": {
      "text/plain": [
       "10"
      ]
     },
     "execution_count": 196,
     "metadata": {},
     "output_type": "execute_result"
    }
   ],
   "source": [
    "np.max(v)"
   ]
  },
  {
   "cell_type": "code",
   "execution_count": 197,
   "id": "4768530f-c82e-404b-bde4-b4de4c651c02",
   "metadata": {
    "tags": []
   },
   "outputs": [
    {
     "data": {
      "text/plain": [
       "8.25"
      ]
     },
     "execution_count": 197,
     "metadata": {},
     "output_type": "execute_result"
    }
   ],
   "source": [
    "# varyans hesaplar\n",
    "np.var(v)"
   ]
  },
  {
   "cell_type": "code",
   "execution_count": 200,
   "id": "ae4294bf-47f1-4b98-b371-1b4b4dce9463",
   "metadata": {
    "tags": []
   },
   "outputs": [
    {
     "data": {
      "text/plain": [
       "2.8722813232690143"
      ]
     },
     "execution_count": 200,
     "metadata": {},
     "output_type": "execute_result"
    }
   ],
   "source": [
    "# Belirli bir eksenin standart sapmasını döndürür\n",
    "np.std(v, axis =0)"
   ]
  },
  {
   "cell_type": "code",
   "execution_count": 202,
   "id": "7175f44d-c57c-46be-8860-fa56d1882720",
   "metadata": {
    "tags": []
   },
   "outputs": [
    {
     "data": {
      "text/plain": [
       "1.0"
      ]
     },
     "execution_count": 202,
     "metadata": {},
     "output_type": "execute_result"
    }
   ],
   "source": [
    "# Korelasyon katsayısı, iki veya daha fazla değişken arasındaki\n",
    "# doğrusal ilişkiyi ölçer ve -1 ile 1 arasında bir değer alır.\n",
    "np.corrcoef(v)"
   ]
  },
  {
   "cell_type": "markdown",
   "id": "3aca2113-ac19-4a19-8abb-ea9cfa9e915b",
   "metadata": {},
   "source": [
    "### NumPy ile İki Bilinmeyenli Denklem Çözümü   "
   ]
  },
  {
   "cell_type": "code",
   "execution_count": 206,
   "id": "7fd0c70c-0911-4b1f-82f9-283d2a425982",
   "metadata": {
    "tags": []
   },
   "outputs": [],
   "source": [
    "import numpy as np"
   ]
  },
  {
   "cell_type": "markdown",
   "id": "1cd5cb42-62b3-4af3-b775-ec928b35f593",
   "metadata": {},
   "source": [
    "##### 5* x0 + x1 = 12 \n",
    "##### x0 +3 *x1 = 10"
   ]
  },
  {
   "cell_type": "code",
   "execution_count": 384,
   "id": "0399540f-7b99-4c02-b062-56239744c08d",
   "metadata": {
    "tags": []
   },
   "outputs": [],
   "source": [
    "a = np.array([[5, 1], [1, 3]])\n",
    "b = np.array([12, 10])\n"
   ]
  },
  {
   "cell_type": "code",
   "execution_count": 386,
   "id": "5345c2da-6ce8-4421-9568-2f0922cb6ee1",
   "metadata": {
    "tags": []
   },
   "outputs": [
    {
     "data": {
      "text/plain": [
       "array([[5, 1],\n",
       "       [1, 3]])"
      ]
     },
     "execution_count": 386,
     "metadata": {},
     "output_type": "execute_result"
    }
   ],
   "source": [
    "a"
   ]
  },
  {
   "cell_type": "code",
   "execution_count": 388,
   "id": "ff5b58c6-761a-47f8-b26b-1f9764659ea3",
   "metadata": {
    "tags": []
   },
   "outputs": [
    {
     "data": {
      "text/plain": [
       "array([12, 10])"
      ]
     },
     "execution_count": 388,
     "metadata": {},
     "output_type": "execute_result"
    }
   ],
   "source": [
    "b"
   ]
  },
  {
   "cell_type": "code",
   "execution_count": 390,
   "id": "d7167fe4-987f-41b8-9a72-3c5bb852f826",
   "metadata": {
    "tags": []
   },
   "outputs": [
    {
     "data": {
      "text/plain": [
       "array([1.85714286, 2.71428571])"
      ]
     },
     "execution_count": 390,
     "metadata": {},
     "output_type": "execute_result"
    }
   ],
   "source": [
    "x = np.linalg.solve(a, b)\n",
    "x"
   ]
  },
  {
   "cell_type": "code",
   "execution_count": null,
   "id": "1b4f5d83",
   "metadata": {},
   "outputs": [],
   "source": []
  },
  {
   "cell_type": "code",
   "execution_count": null,
   "id": "5038f987-072e-41a4-8321-b1c9c3b1a529",
   "metadata": {},
   "outputs": [],
   "source": []
  },
  {
   "cell_type": "code",
   "execution_count": null,
   "id": "a900684d-a8af-46bc-9b57-8444ca91ebf8",
   "metadata": {},
   "outputs": [],
   "source": []
  }
 ],
 "metadata": {
  "kernelspec": {
   "display_name": "Python 3 (ipykernel)",
   "language": "python",
   "name": "python3"
  },
  "language_info": {
   "codemirror_mode": {
    "name": "ipython",
    "version": 3
   },
   "file_extension": ".py",
   "mimetype": "text/x-python",
   "name": "python",
   "nbconvert_exporter": "python",
   "pygments_lexer": "ipython3",
   "version": "3.12.4"
  }
 },
 "nbformat": 4,
 "nbformat_minor": 5
}
