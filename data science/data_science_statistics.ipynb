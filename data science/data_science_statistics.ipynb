{
 "cells": [
  {
   "cell_type": "markdown",
   "id": "51fad43c-bc3d-4d4c-bc0d-42ff82fbef9c",
   "metadata": {},
   "source": [
    "### Veri Bilimi İçin İstatistik\n",
    "#### Örnek Teorisi"
   ]
  },
  {
   "cell_type": "code",
   "execution_count": 2,
   "id": "e740a460-3802-4e82-ba83-cde2abfd155a",
   "metadata": {
    "tags": []
   },
   "outputs": [],
   "source": [
    "import numpy as np"
   ]
  },
  {
   "cell_type": "code",
   "execution_count": 3,
   "id": "e67b81ed-84e4-402c-96c5-96685a76f205",
   "metadata": {
    "tags": []
   },
   "outputs": [],
   "source": [
    "populasyon = np.random.randint(0, 80, 10000)"
   ]
  },
  {
   "cell_type": "code",
   "execution_count": 4,
   "id": "632d63b0-994f-4981-b419-83af5ba4179b",
   "metadata": {
    "tags": []
   },
   "outputs": [
    {
     "data": {
      "text/plain": [
       "array([26, 55,  3, 26,  9,  6, 67, 53, 77, 73])"
      ]
     },
     "execution_count": 4,
     "metadata": {},
     "output_type": "execute_result"
    }
   ],
   "source": [
    "populasyon[0:10]"
   ]
  },
  {
   "cell_type": "code",
   "execution_count": 5,
   "id": "80fe8680-7771-4ce1-b3ed-be65552f965b",
   "metadata": {
    "tags": []
   },
   "outputs": [
    {
     "data": {
      "text/plain": [
       "array([26, 54, 79, 46, 75, 14, 77, 78, 44, 25])"
      ]
     },
     "execution_count": 5,
     "metadata": {},
     "output_type": "execute_result"
    }
   ],
   "source": [
    "# örneklem çekimi \n",
    "# seed Yapılacak olan işlemlerin her tekrar edildiğinde  aynı sonuçları \n",
    "#getirmesini granti atlına alan bir işlem\n",
    "np.random.seed(115)\n",
    "orneklem = np.random.choice(a = populasyon, size = 100)\n",
    "orneklem[0:10]"
   ]
  },
  {
   "cell_type": "code",
   "execution_count": 6,
   "id": "c414f62e-33fc-4e86-bf9d-4348fd84faf4",
   "metadata": {
    "tags": []
   },
   "outputs": [
    {
     "data": {
      "text/plain": [
       "40.28"
      ]
     },
     "execution_count": 6,
     "metadata": {},
     "output_type": "execute_result"
    }
   ],
   "source": [
    "orneklem.mean()"
   ]
  },
  {
   "cell_type": "code",
   "execution_count": 7,
   "id": "903c9ab3-e05e-4e1c-ac0e-a21b9038660e",
   "metadata": {
    "tags": []
   },
   "outputs": [
    {
     "data": {
      "text/plain": [
       "39.6012"
      ]
     },
     "execution_count": 7,
     "metadata": {},
     "output_type": "execute_result"
    }
   ],
   "source": [
    "populasyon.mean()"
   ]
  },
  {
   "cell_type": "markdown",
   "id": "9e2203ed-c516-47a7-876d-204983f738f4",
   "metadata": {},
   "source": [
    "#### örneklem Dağılımı"
   ]
  },
  {
   "cell_type": "code",
   "execution_count": 9,
   "id": "fd41d362-8c70-4c05-858f-f0c3b8ea9211",
   "metadata": {
    "tags": []
   },
   "outputs": [],
   "source": [
    "np.random.seed(10)\n",
    "orneklem1 = np.random.choice(a = populasyon , size = 100) \n",
    "orneklem2 = np.random.choice(a = populasyon , size = 100) \n",
    "orneklem3 = np.random.choice(a = populasyon , size = 100) \n",
    "orneklem4 = np.random.choice(a = populasyon , size = 100) \n",
    "orneklem5 = np.random.choice(a = populasyon , size = 100) \n",
    "orneklem6 = np.random.choice(a = populasyon , size = 100) \n",
    "orneklem7 = np.random.choice(a = populasyon , size = 100) \n",
    "orneklem8 = np.random.choice(a = populasyon , size = 100) \n",
    "orneklem9 = np.random.choice(a = populasyon , size = 100) \n",
    "orneklem10 = np.random.choice(a = populasyon , size = 100) "
   ]
  },
  {
   "cell_type": "code",
   "execution_count": 10,
   "id": "49b1c668-3ba7-4053-a4b4-c3a5f3f1a15e",
   "metadata": {
    "tags": []
   },
   "outputs": [
    {
     "data": {
      "text/plain": [
       "40.106"
      ]
     },
     "execution_count": 10,
     "metadata": {},
     "output_type": "execute_result"
    }
   ],
   "source": [
    "genel_mean = ( orneklem1.mean() + orneklem2.mean() + orneklem3.mean() + orneklem4.mean() + orneklem5.mean() + \n",
    "    orneklem6.mean() + orneklem7.mean() +  orneklem8.mean() +  orneklem9.mean() +  orneklem10.mean()\n",
    ") / 10\n",
    "\n",
    "genel_mean\n"
   ]
  },
  {
   "cell_type": "code",
   "execution_count": 11,
   "id": "c877e35e-f242-4ef3-b456-3bf73905080e",
   "metadata": {
    "tags": []
   },
   "outputs": [
    {
     "data": {
      "text/plain": [
       "39.2"
      ]
     },
     "execution_count": 11,
     "metadata": {},
     "output_type": "execute_result"
    }
   ],
   "source": [
    "orneklem3.mean()"
   ]
  },
  {
   "cell_type": "code",
   "execution_count": 12,
   "id": "04e3f8cc-8af1-411d-aa9e-659ee96fdb04",
   "metadata": {
    "tags": []
   },
   "outputs": [
    {
     "data": {
      "text/plain": [
       "40.54"
      ]
     },
     "execution_count": 12,
     "metadata": {},
     "output_type": "execute_result"
    }
   ],
   "source": [
    "orneklem1.mean()"
   ]
  },
  {
   "cell_type": "markdown",
   "id": "248ef63e-bcca-4c28-b56e-a05e53b4a5d1",
   "metadata": {
    "tags": []
   },
   "source": [
    "### Betimsel İstatistikler"
   ]
  },
  {
   "cell_type": "code",
   "execution_count": 14,
   "id": "31271276-d3b7-4c2c-a932-3babf069a884",
   "metadata": {
    "tags": []
   },
   "outputs": [
    {
     "data": {
      "text/html": [
       "<div>\n",
       "<style scoped>\n",
       "    .dataframe tbody tr th:only-of-type {\n",
       "        vertical-align: middle;\n",
       "    }\n",
       "\n",
       "    .dataframe tbody tr th {\n",
       "        vertical-align: top;\n",
       "    }\n",
       "\n",
       "    .dataframe thead th {\n",
       "        text-align: right;\n",
       "    }\n",
       "</style>\n",
       "<table border=\"1\" class=\"dataframe\">\n",
       "  <thead>\n",
       "    <tr style=\"text-align: right;\">\n",
       "      <th></th>\n",
       "      <th>total_bill</th>\n",
       "      <th>tip</th>\n",
       "      <th>sex</th>\n",
       "      <th>smoker</th>\n",
       "      <th>day</th>\n",
       "      <th>time</th>\n",
       "      <th>size</th>\n",
       "    </tr>\n",
       "  </thead>\n",
       "  <tbody>\n",
       "    <tr>\n",
       "      <th>0</th>\n",
       "      <td>16.99</td>\n",
       "      <td>1.01</td>\n",
       "      <td>Female</td>\n",
       "      <td>No</td>\n",
       "      <td>Sun</td>\n",
       "      <td>Dinner</td>\n",
       "      <td>2</td>\n",
       "    </tr>\n",
       "    <tr>\n",
       "      <th>1</th>\n",
       "      <td>10.34</td>\n",
       "      <td>1.66</td>\n",
       "      <td>Male</td>\n",
       "      <td>No</td>\n",
       "      <td>Sun</td>\n",
       "      <td>Dinner</td>\n",
       "      <td>3</td>\n",
       "    </tr>\n",
       "    <tr>\n",
       "      <th>2</th>\n",
       "      <td>21.01</td>\n",
       "      <td>3.50</td>\n",
       "      <td>Male</td>\n",
       "      <td>No</td>\n",
       "      <td>Sun</td>\n",
       "      <td>Dinner</td>\n",
       "      <td>3</td>\n",
       "    </tr>\n",
       "    <tr>\n",
       "      <th>3</th>\n",
       "      <td>23.68</td>\n",
       "      <td>3.31</td>\n",
       "      <td>Male</td>\n",
       "      <td>No</td>\n",
       "      <td>Sun</td>\n",
       "      <td>Dinner</td>\n",
       "      <td>2</td>\n",
       "    </tr>\n",
       "    <tr>\n",
       "      <th>4</th>\n",
       "      <td>24.59</td>\n",
       "      <td>3.61</td>\n",
       "      <td>Female</td>\n",
       "      <td>No</td>\n",
       "      <td>Sun</td>\n",
       "      <td>Dinner</td>\n",
       "      <td>4</td>\n",
       "    </tr>\n",
       "  </tbody>\n",
       "</table>\n",
       "</div>"
      ],
      "text/plain": [
       "   total_bill   tip     sex smoker  day    time  size\n",
       "0       16.99  1.01  Female     No  Sun  Dinner     2\n",
       "1       10.34  1.66    Male     No  Sun  Dinner     3\n",
       "2       21.01  3.50    Male     No  Sun  Dinner     3\n",
       "3       23.68  3.31    Male     No  Sun  Dinner     2\n",
       "4       24.59  3.61  Female     No  Sun  Dinner     4"
      ]
     },
     "execution_count": 14,
     "metadata": {},
     "output_type": "execute_result"
    }
   ],
   "source": [
    "import seaborn as sns\n",
    "tips = sns.load_dataset(\"tips\")\n",
    "df = tips.copy()\n",
    "df.head()"
   ]
  },
  {
   "cell_type": "code",
   "execution_count": 15,
   "id": "ebe1de39-dbd6-42cf-acc0-0d539a50d176",
   "metadata": {
    "tags": []
   },
   "outputs": [
    {
     "data": {
      "text/html": [
       "<div>\n",
       "<style scoped>\n",
       "    .dataframe tbody tr th:only-of-type {\n",
       "        vertical-align: middle;\n",
       "    }\n",
       "\n",
       "    .dataframe tbody tr th {\n",
       "        vertical-align: top;\n",
       "    }\n",
       "\n",
       "    .dataframe thead th {\n",
       "        text-align: right;\n",
       "    }\n",
       "</style>\n",
       "<table border=\"1\" class=\"dataframe\">\n",
       "  <thead>\n",
       "    <tr style=\"text-align: right;\">\n",
       "      <th></th>\n",
       "      <th>count</th>\n",
       "      <th>mean</th>\n",
       "      <th>std</th>\n",
       "      <th>min</th>\n",
       "      <th>25%</th>\n",
       "      <th>50%</th>\n",
       "      <th>75%</th>\n",
       "      <th>max</th>\n",
       "    </tr>\n",
       "  </thead>\n",
       "  <tbody>\n",
       "    <tr>\n",
       "      <th>total_bill</th>\n",
       "      <td>244.0</td>\n",
       "      <td>19.785943</td>\n",
       "      <td>8.902412</td>\n",
       "      <td>3.07</td>\n",
       "      <td>13.3475</td>\n",
       "      <td>17.795</td>\n",
       "      <td>24.1275</td>\n",
       "      <td>50.81</td>\n",
       "    </tr>\n",
       "    <tr>\n",
       "      <th>tip</th>\n",
       "      <td>244.0</td>\n",
       "      <td>2.998279</td>\n",
       "      <td>1.383638</td>\n",
       "      <td>1.00</td>\n",
       "      <td>2.0000</td>\n",
       "      <td>2.900</td>\n",
       "      <td>3.5625</td>\n",
       "      <td>10.00</td>\n",
       "    </tr>\n",
       "    <tr>\n",
       "      <th>size</th>\n",
       "      <td>244.0</td>\n",
       "      <td>2.569672</td>\n",
       "      <td>0.951100</td>\n",
       "      <td>1.00</td>\n",
       "      <td>2.0000</td>\n",
       "      <td>2.000</td>\n",
       "      <td>3.0000</td>\n",
       "      <td>6.00</td>\n",
       "    </tr>\n",
       "  </tbody>\n",
       "</table>\n",
       "</div>"
      ],
      "text/plain": [
       "            count       mean       std   min      25%     50%      75%    max\n",
       "total_bill  244.0  19.785943  8.902412  3.07  13.3475  17.795  24.1275  50.81\n",
       "tip         244.0   2.998279  1.383638  1.00   2.0000   2.900   3.5625  10.00\n",
       "size        244.0   2.569672  0.951100  1.00   2.0000   2.000   3.0000   6.00"
      ]
     },
     "execution_count": 15,
     "metadata": {},
     "output_type": "execute_result"
    }
   ],
   "source": [
    "df.describe().T"
   ]
  },
  {
   "cell_type": "code",
   "execution_count": 16,
   "id": "a4815d1f-45f5-44c2-a6df-44cefc66d379",
   "metadata": {
    "tags": []
   },
   "outputs": [
    {
     "name": "stdout",
     "output_type": "stream",
     "text": [
      "Requirement already satisfied: researchpy in c:\\users\\abdurezzak ekidi\\anaconda3\\lib\\site-packages (0.3.6)\n",
      "Requirement already satisfied: scipy in c:\\users\\abdurezzak ekidi\\anaconda3\\lib\\site-packages (from researchpy) (1.13.1)\n",
      "Requirement already satisfied: numpy in c:\\users\\abdurezzak ekidi\\anaconda3\\lib\\site-packages (from researchpy) (1.26.4)\n",
      "Requirement already satisfied: pandas in c:\\users\\abdurezzak ekidi\\anaconda3\\lib\\site-packages (from researchpy) (2.2.2)\n",
      "Requirement already satisfied: statsmodels in c:\\users\\abdurezzak ekidi\\anaconda3\\lib\\site-packages (from researchpy) (0.14.2)\n",
      "Requirement already satisfied: patsy in c:\\users\\abdurezzak ekidi\\anaconda3\\lib\\site-packages (from researchpy) (0.5.6)\n",
      "Requirement already satisfied: python-dateutil>=2.8.2 in c:\\users\\abdurezzak ekidi\\anaconda3\\lib\\site-packages (from pandas->researchpy) (2.9.0.post0)\n",
      "Requirement already satisfied: pytz>=2020.1 in c:\\users\\abdurezzak ekidi\\anaconda3\\lib\\site-packages (from pandas->researchpy) (2024.1)\n",
      "Requirement already satisfied: tzdata>=2022.7 in c:\\users\\abdurezzak ekidi\\anaconda3\\lib\\site-packages (from pandas->researchpy) (2023.3)\n",
      "Requirement already satisfied: six in c:\\users\\abdurezzak ekidi\\anaconda3\\lib\\site-packages (from patsy->researchpy) (1.16.0)\n",
      "Requirement already satisfied: packaging>=21.3 in c:\\users\\abdurezzak ekidi\\anaconda3\\lib\\site-packages (from statsmodels->researchpy) (23.2)\n"
     ]
    }
   ],
   "source": [
    "\"\"\"\n",
    "betimsel istatistik için farklı bir kütüphane kullanacağız \n",
    "bizim için daha anlamlı değer verdi değişkenler, gözlem sayısı, \n",
    "ortalamsı, standart sapması, standart hatası ve güven aralıkları verildi.\n",
    "\"\"\"\n",
    "!pip install researchpy\n",
    "import researchpy as rp"
   ]
  },
  {
   "cell_type": "code",
   "execution_count": 17,
   "id": "6bf7f829-2f74-41a9-88a2-92ca5d1f2f9f",
   "metadata": {
    "tags": []
   },
   "outputs": [
    {
     "name": "stdout",
     "output_type": "stream",
     "text": [
      "\n",
      "\n"
     ]
    },
    {
     "name": "stderr",
     "output_type": "stream",
     "text": [
      "C:\\Users\\Abdurezzak Ekidi\\anaconda3\\Lib\\site-packages\\researchpy\\summary.py:102: FutureWarning: Setting an item of incompatible dtype is deprecated and will raise an error in a future version of pandas. Value 'total_bill' has dtype incompatible with float64, please explicitly cast to a compatible dtype first.\n",
      "  table_a.iloc[0,0] = ix\n",
      "C:\\Users\\Abdurezzak Ekidi\\anaconda3\\Lib\\site-packages\\researchpy\\summary.py:102: FutureWarning: Setting an item of incompatible dtype is deprecated and will raise an error in a future version of pandas. Value 'tip' has dtype incompatible with float64, please explicitly cast to a compatible dtype first.\n",
      "  table_a.iloc[0,0] = ix\n",
      "C:\\Users\\Abdurezzak Ekidi\\anaconda3\\Lib\\site-packages\\researchpy\\summary.py:102: FutureWarning: Setting an item of incompatible dtype is deprecated and will raise an error in a future version of pandas. Value 'size' has dtype incompatible with float64, please explicitly cast to a compatible dtype first.\n",
      "  table_a.iloc[0,0] = ix\n"
     ]
    },
    {
     "data": {
      "text/html": [
       "<div>\n",
       "<style scoped>\n",
       "    .dataframe tbody tr th:only-of-type {\n",
       "        vertical-align: middle;\n",
       "    }\n",
       "\n",
       "    .dataframe tbody tr th {\n",
       "        vertical-align: top;\n",
       "    }\n",
       "\n",
       "    .dataframe thead th {\n",
       "        text-align: right;\n",
       "    }\n",
       "</style>\n",
       "<table border=\"1\" class=\"dataframe\">\n",
       "  <thead>\n",
       "    <tr style=\"text-align: right;\">\n",
       "      <th></th>\n",
       "      <th>Variable</th>\n",
       "      <th>N</th>\n",
       "      <th>Mean</th>\n",
       "      <th>SD</th>\n",
       "      <th>SE</th>\n",
       "      <th>95% Conf.</th>\n",
       "      <th>Interval</th>\n",
       "    </tr>\n",
       "  </thead>\n",
       "  <tbody>\n",
       "    <tr>\n",
       "      <th>0</th>\n",
       "      <td>total_bill</td>\n",
       "      <td>244.0</td>\n",
       "      <td>19.7859</td>\n",
       "      <td>8.9024</td>\n",
       "      <td>0.5699</td>\n",
       "      <td>18.6633</td>\n",
       "      <td>20.9086</td>\n",
       "    </tr>\n",
       "    <tr>\n",
       "      <th>1</th>\n",
       "      <td>tip</td>\n",
       "      <td>244.0</td>\n",
       "      <td>2.9983</td>\n",
       "      <td>1.3836</td>\n",
       "      <td>0.0886</td>\n",
       "      <td>2.8238</td>\n",
       "      <td>3.1728</td>\n",
       "    </tr>\n",
       "    <tr>\n",
       "      <th>2</th>\n",
       "      <td>size</td>\n",
       "      <td>244.0</td>\n",
       "      <td>2.5697</td>\n",
       "      <td>0.9511</td>\n",
       "      <td>0.0609</td>\n",
       "      <td>2.4497</td>\n",
       "      <td>2.6896</td>\n",
       "    </tr>\n",
       "  </tbody>\n",
       "</table>\n",
       "</div>"
      ],
      "text/plain": [
       "     Variable      N     Mean      SD      SE  95% Conf.  Interval\n",
       "0  total_bill  244.0  19.7859  8.9024  0.5699    18.6633   20.9086\n",
       "1         tip  244.0   2.9983  1.3836  0.0886     2.8238    3.1728\n",
       "2        size  244.0   2.5697  0.9511  0.0609     2.4497    2.6896"
      ]
     },
     "execution_count": 17,
     "metadata": {},
     "output_type": "execute_result"
    }
   ],
   "source": [
    "# summary_cont sayısal değişken.\n",
    "rp.summary_cont(df[[\"total_bill\", \"tip\", \"size\"]])"
   ]
  },
  {
   "cell_type": "code",
   "execution_count": 18,
   "id": "1591f651-c4e1-4c1d-b768-6d0194064d4a",
   "metadata": {
    "tags": []
   },
   "outputs": [
    {
     "data": {
      "text/html": [
       "<div>\n",
       "<style scoped>\n",
       "    .dataframe tbody tr th:only-of-type {\n",
       "        vertical-align: middle;\n",
       "    }\n",
       "\n",
       "    .dataframe tbody tr th {\n",
       "        vertical-align: top;\n",
       "    }\n",
       "\n",
       "    .dataframe thead th {\n",
       "        text-align: right;\n",
       "    }\n",
       "</style>\n",
       "<table border=\"1\" class=\"dataframe\">\n",
       "  <thead>\n",
       "    <tr style=\"text-align: right;\">\n",
       "      <th></th>\n",
       "      <th>Variable</th>\n",
       "      <th>Outcome</th>\n",
       "      <th>Count</th>\n",
       "      <th>Percent</th>\n",
       "    </tr>\n",
       "  </thead>\n",
       "  <tbody>\n",
       "    <tr>\n",
       "      <th>0</th>\n",
       "      <td>sex</td>\n",
       "      <td>Male</td>\n",
       "      <td>157</td>\n",
       "      <td>64.34</td>\n",
       "    </tr>\n",
       "    <tr>\n",
       "      <th>1</th>\n",
       "      <td></td>\n",
       "      <td>Female</td>\n",
       "      <td>87</td>\n",
       "      <td>35.66</td>\n",
       "    </tr>\n",
       "    <tr>\n",
       "      <th>2</th>\n",
       "      <td>smoker</td>\n",
       "      <td>No</td>\n",
       "      <td>151</td>\n",
       "      <td>61.89</td>\n",
       "    </tr>\n",
       "    <tr>\n",
       "      <th>3</th>\n",
       "      <td></td>\n",
       "      <td>Yes</td>\n",
       "      <td>93</td>\n",
       "      <td>38.11</td>\n",
       "    </tr>\n",
       "    <tr>\n",
       "      <th>4</th>\n",
       "      <td>day</td>\n",
       "      <td>Sat</td>\n",
       "      <td>87</td>\n",
       "      <td>35.66</td>\n",
       "    </tr>\n",
       "    <tr>\n",
       "      <th>5</th>\n",
       "      <td></td>\n",
       "      <td>Sun</td>\n",
       "      <td>76</td>\n",
       "      <td>31.15</td>\n",
       "    </tr>\n",
       "    <tr>\n",
       "      <th>6</th>\n",
       "      <td></td>\n",
       "      <td>Thur</td>\n",
       "      <td>62</td>\n",
       "      <td>25.41</td>\n",
       "    </tr>\n",
       "    <tr>\n",
       "      <th>7</th>\n",
       "      <td></td>\n",
       "      <td>Fri</td>\n",
       "      <td>19</td>\n",
       "      <td>7.79</td>\n",
       "    </tr>\n",
       "  </tbody>\n",
       "</table>\n",
       "</div>"
      ],
      "text/plain": [
       "  Variable Outcome  Count  Percent\n",
       "0      sex    Male    157    64.34\n",
       "1           Female     87    35.66\n",
       "2   smoker      No    151    61.89\n",
       "3              Yes     93    38.11\n",
       "4      day     Sat     87    35.66\n",
       "5              Sun     76    31.15\n",
       "6             Thur     62    25.41\n",
       "7              Fri     19     7.79"
      ]
     },
     "execution_count": 18,
     "metadata": {},
     "output_type": "execute_result"
    }
   ],
   "source": [
    "# summary_cat kategorik değişken.\n",
    "#burda ise yüzdelik ve frekans dsayısını verdi\n",
    "rp.summary_cat(df[[\"sex\", \"smoker\", \"day\"]])"
   ]
  },
  {
   "cell_type": "code",
   "execution_count": 19,
   "id": "1cb629c1-a4b3-4dd6-8055-56e7adeb4796",
   "metadata": {
    "tags": []
   },
   "outputs": [
    {
     "data": {
      "text/html": [
       "<div>\n",
       "<style scoped>\n",
       "    .dataframe tbody tr th:only-of-type {\n",
       "        vertical-align: middle;\n",
       "    }\n",
       "\n",
       "    .dataframe tbody tr th {\n",
       "        vertical-align: top;\n",
       "    }\n",
       "\n",
       "    .dataframe thead th {\n",
       "        text-align: right;\n",
       "    }\n",
       "</style>\n",
       "<table border=\"1\" class=\"dataframe\">\n",
       "  <thead>\n",
       "    <tr style=\"text-align: right;\">\n",
       "      <th></th>\n",
       "      <th>tip</th>\n",
       "      <th>total_bill</th>\n",
       "    </tr>\n",
       "  </thead>\n",
       "  <tbody>\n",
       "    <tr>\n",
       "      <th>tip</th>\n",
       "      <td>1.914455</td>\n",
       "      <td>8.323502</td>\n",
       "    </tr>\n",
       "    <tr>\n",
       "      <th>total_bill</th>\n",
       "      <td>8.323502</td>\n",
       "      <td>79.252939</td>\n",
       "    </tr>\n",
       "  </tbody>\n",
       "</table>\n",
       "</div>"
      ],
      "text/plain": [
       "                 tip  total_bill\n",
       "tip         1.914455    8.323502\n",
       "total_bill  8.323502   79.252939"
      ]
     },
     "execution_count": 19,
     "metadata": {},
     "output_type": "execute_result"
    }
   ],
   "source": [
    "# kovaryans\n",
    "df[[\"tip\", \"total_bill\"]].cov()"
   ]
  },
  {
   "cell_type": "code",
   "execution_count": 20,
   "id": "724a541f-6c13-4419-ae88-e89c9ac9eeff",
   "metadata": {
    "tags": []
   },
   "outputs": [
    {
     "data": {
      "text/html": [
       "<div>\n",
       "<style scoped>\n",
       "    .dataframe tbody tr th:only-of-type {\n",
       "        vertical-align: middle;\n",
       "    }\n",
       "\n",
       "    .dataframe tbody tr th {\n",
       "        vertical-align: top;\n",
       "    }\n",
       "\n",
       "    .dataframe thead th {\n",
       "        text-align: right;\n",
       "    }\n",
       "</style>\n",
       "<table border=\"1\" class=\"dataframe\">\n",
       "  <thead>\n",
       "    <tr style=\"text-align: right;\">\n",
       "      <th></th>\n",
       "      <th>tip</th>\n",
       "      <th>total_bill</th>\n",
       "    </tr>\n",
       "  </thead>\n",
       "  <tbody>\n",
       "    <tr>\n",
       "      <th>tip</th>\n",
       "      <td>1.000000</td>\n",
       "      <td>0.675734</td>\n",
       "    </tr>\n",
       "    <tr>\n",
       "      <th>total_bill</th>\n",
       "      <td>0.675734</td>\n",
       "      <td>1.000000</td>\n",
       "    </tr>\n",
       "  </tbody>\n",
       "</table>\n",
       "</div>"
      ],
      "text/plain": [
       "                 tip  total_bill\n",
       "tip         1.000000    0.675734\n",
       "total_bill  0.675734    1.000000"
      ]
     },
     "execution_count": 20,
     "metadata": {},
     "output_type": "execute_result"
    }
   ],
   "source": [
    "# korelasyon\n",
    "df[[\"tip\", \"total_bill\"]].corr()"
   ]
  },
  {
   "cell_type": "markdown",
   "id": "36552bc1-b73f-4718-a804-cbdfe84e97b5",
   "metadata": {},
   "source": [
    "### Güven Aralığı"
   ]
  },
  {
   "cell_type": "markdown",
   "id": "d082156f-626d-4e19-9f23-90b807542cd8",
   "metadata": {
    "tags": []
   },
   "source": [
    "\n",
    "##### nasıl hesaplanır :Adım 1 n, ortalama ve standart sapma bul\n",
    "##### (n = 100, ortalama = 180, standart sapma = 40)\n",
    "##### Adım 2: güven aralığına karar ver : 95 mi 99 mu?yüzde 95 kabul edilir genellikle. Z tablo değerini hesapla (1,96-2,57)\n",
    "##### Adım 3: yukardaki değerleri kulanarak güven aralığını hesaplaformül defterde yazılmış.\n",
    " "
   ]
  },
  {
   "cell_type": "markdown",
   "id": "6326b534-271d-476e-b697-a6280d94f488",
   "metadata": {},
   "source": [
    "iş uygulaması : Fiyat Stratejisi Karar Destek Sistemi\n",
    "\n",
    "Problem:\n",
    "CEO fiyat belirleme  konusunda  bilimsel bir dayanak ve  esneklik isteniyor.\n",
    "\n",
    "Detaylar:\n",
    "* Satıcı, alıcı ve bir ürün var.\n",
    "* Alıcılara ürüne  ne kadar ücret öderdiniz diye sorulyor\n",
    "* optimum fiyat bilimsel ve esnek olarak bulunmak istiyor."
   ]
  },
  {
   "cell_type": "code",
   "execution_count": 24,
   "id": "28a11e69-3234-4a0f-808d-589750cb946d",
   "metadata": {
    "tags": []
   },
   "outputs": [],
   "source": [
    "import numpy as np\n",
    "prices = np.random.randint(10,110,1000)"
   ]
  },
  {
   "cell_type": "code",
   "execution_count": 25,
   "id": "db1fd4e1-97b5-44b5-9870-4133024ce012",
   "metadata": {
    "tags": []
   },
   "outputs": [
    {
     "data": {
      "text/plain": [
       "58.492"
      ]
     },
     "execution_count": 25,
     "metadata": {},
     "output_type": "execute_result"
    }
   ],
   "source": [
    "prices.mean()"
   ]
  },
  {
   "cell_type": "code",
   "execution_count": 26,
   "id": "75482f95-6f0a-43c7-afad-cc2c60281442",
   "metadata": {
    "tags": []
   },
   "outputs": [
    {
     "data": {
      "text/plain": [
       "(56.67953887736034, 60.30446112263965)"
      ]
     },
     "execution_count": 26,
     "metadata": {},
     "output_type": "execute_result"
    }
   ],
   "source": [
    "\"\"\"\n",
    "evet aşığıda çıktı olarak görüldüğü gibi bize 2 değer verdi bu şu anlama geliyor \n",
    "çıkaracak olduğumuz ürünü satın almak üzere kullanıcıların ödemeyi göze aldığı ücret\n",
    "istatistiksel olarak %95 güvenilirlik ile (aşığıda çıktı olarak verilen iki sayı aralığındadır)\n",
    "\"\"\"\n",
    "import statsmodels.stats.api as sms\n",
    "sms.DescrStatsW(prices).tconfint_mean()\n"
   ]
  },
  {
   "cell_type": "markdown",
   "id": "19da9a92-3b41-479f-8dc1-10d87d44e2bf",
   "metadata": {},
   "source": [
    "### Olasılığa Giriş ve  Olasılık Dağılımları"
   ]
  },
  {
   "cell_type": "markdown",
   "id": "a455b9bb-deba-4958-b66a-2478ae13261a",
   "metadata": {},
   "source": [
    "Olasılık: olayların olabilirliğin sayısal ifadesidir.\n",
    "\n",
    "Rassal Değişkenler ve Olasılık Dağılımları \n",
    "Değerlerini bir deneyin sonuçlarından alan değişkene rassal değişken denir."
   ]
  },
  {
   "cell_type": "markdown",
   "id": "594c62ac-9c4a-4491-afb5-e31b0a814bc0",
   "metadata": {},
   "source": [
    "#### Bernoulli Dağılımı"
   ]
  },
  {
   "cell_type": "markdown",
   "id": "8634bf68-a0fe-46e6-a9be-5f00c84a7502",
   "metadata": {},
   "source": [
    "${\\displaystyle f(k;p)=p^{k}(1-p)^{1-k}\\quad {\\text{for }}k\\in \\{0,1\\}}$\n",
    "\n",
    "${\\displaystyle \\operatorname {E} \\left(X\\right)=p}$\n",
    "\n",
    "$\\operatorname {Var} [X]=pq=p(1-p)$"
   ]
  },
  {
   "cell_type": "code",
   "execution_count": 31,
   "id": "119df6b8-3480-4d52-9090-8c16c9bbfa74",
   "metadata": {
    "tags": []
   },
   "outputs": [],
   "source": [
    "# olasılık dağılımları ile ilgili işlemler için kullanılan kütüphane\n",
    "from scipy.stats import bernoulli"
   ]
  },
  {
   "cell_type": "code",
   "execution_count": 32,
   "id": "d9b8f988-8145-49a6-8878-ce67000587ce",
   "metadata": {
    "tags": []
   },
   "outputs": [],
   "source": [
    "p = 0.6"
   ]
  },
  {
   "cell_type": "code",
   "execution_count": 33,
   "id": "141b211a-59c0-4571-84ab-fe01d5ee8b55",
   "metadata": {},
   "outputs": [
    {
     "data": {
      "text/plain": [
       "0.4000000000000001"
      ]
     },
     "execution_count": 33,
     "metadata": {},
     "output_type": "execute_result"
    }
   ],
   "source": [
    "# rv = random variable\n",
    "# pmf = probability mass function.(olasilik kutle fonksiyonu)\n",
    "rv = bernoulli(p)\n",
    "rv.pmf(k = 0)"
   ]
  },
  {
   "cell_type": "markdown",
   "id": "cf461f23-7f40-4b05-9432-cbcb71908fa8",
   "metadata": {
    "tags": []
   },
   "source": [
    "### Büyük Sayılar Yasası\n",
    "##### Bir rassal değişkenin uzun vadeli kararlığını tanımlayan olasılık teoremidir."
   ]
  },
  {
   "cell_type": "code",
   "execution_count": 118,
   "id": "fb9a9e02-7719-46e0-8281-0cd22e3e1baa",
   "metadata": {},
   "outputs": [
    {
     "data": {
      "text/plain": [
       "array([1, 1, 1, 1, 0])"
      ]
     },
     "execution_count": 118,
     "metadata": {},
     "output_type": "execute_result"
    }
   ],
   "source": [
    "rng.randint(0, 2, size = 5)"
   ]
  },
  {
   "cell_type": "code",
   "execution_count": 116,
   "id": "f643c462-d557-421c-871f-e30da695cf66",
   "metadata": {
    "tags": []
   },
   "outputs": [
    {
     "name": "stdout",
     "output_type": "stream",
     "text": [
      "Atış Sayısı: 2 --- Yazı Olasılığı: 50.00\n",
      "Atış Sayısı: 4 --- Yazı Olasılığı: 0.00\n",
      "Atış Sayısı: 8 --- Yazı Olasılığı: 62.50\n",
      "Atış Sayısı: 16 --- Yazı Olasılığı: 43.75\n",
      "Atış Sayısı: 32 --- Yazı Olasılığı: 46.88\n",
      "Atış Sayısı: 64 --- Yazı Olasılığı: 56.25\n",
      "Atış Sayısı: 128 --- Yazı Olasılığı: 50.78\n",
      "Atış Sayısı: 256 --- Yazı Olasılığı: 52.73\n",
      "Atış Sayısı: 512 --- Yazı Olasılığı: 52.93\n",
      "Atış Sayısı: 1024 --- Yazı Olasılığı: 50.20\n",
      "Atış Sayısı: 2048 --- Yazı Olasılığı: 48.58\n",
      "Atış Sayısı: 4096 --- Yazı Olasılığı: 49.49\n",
      "Atış Sayısı: 8192 --- Yazı Olasılığı: 49.58\n",
      "Atış Sayısı: 16384 --- Yazı Olasılığı: 49.96\n",
      "Atış Sayısı: 32768 --- Yazı Olasılığı: 50.00\n",
      "Atış Sayısı: 65536 --- Yazı Olasılığı: 49.68\n",
      "Atış Sayısı: 131072 --- Yazı Olasılığı: 49.97\n",
      "Atış Sayısı: 262144 --- Yazı Olasılığı: 50.13\n",
      "Atış Sayısı: 524288 --- Yazı Olasılığı: 50.01\n",
      "Atış Sayısı: 1048576 --- Yazı Olasılığı: 50.09\n"
     ]
    }
   ],
   "source": [
    "import numpy as np\n",
    "rng = np.random.RandomState(123)# RandomState random işlemleri sabitlemek kulanılır.\n",
    "for i in np.arange(1,21):\n",
    "    deney_sayisi = 2**i\n",
    "    yazi_turalar = rng.randint(0, 2, size = deney_sayisi)\n",
    "    yazi_olasiliklari = np.mean(yazi_turalar)\n",
    "    print(\"Atış Sayısı:\",deney_sayisi, \"---\", \"Yazı Olasılığı: %.2f\"%(yazi_olasiliklari*100))"
   ]
  },
  {
   "cell_type": "code",
   "execution_count": null,
   "id": "56d39a2d-2b92-4d19-8d2b-c2a5388c7f3c",
   "metadata": {
    "tags": []
   },
   "outputs": [],
   "source": [
    "1/5"
   ]
  },
  {
   "cell_type": "markdown",
   "id": "b25771b4-a070-4173-bab3-a09a5c9455c4",
   "metadata": {},
   "source": [
    "### Binom Dağılımı\n",
    "##### Binom dağılımı, bağımsız n deneme sonucu k başarılı olma olasılığı ile ilgilenildiğinde kullanılan dağılımdır.  \n",
    "$$\n",
    "f(x; n, p) = \\binom{n}{x} p^x (1-p)^{n-x}, \\quad x = 0, 1, 2, \\ldots, n\n",
    "$$\n",
    "\n",
    "$$\n",
    "E(X) = np \\quad \\text{Var}(X) = np(1-p)\n",
    "$$\n"
   ]
  },
  {
   "cell_type": "markdown",
   "id": "9973ecd6-d47e-473a-aaa1-ed4ac67fe2c6",
   "metadata": {},
   "source": [
    "### İş Uygullaması Reklam Harcaması Optimizasyonu\n",
    "##### Problem:Çeşitli mecralara reklam veriliyor, reklamların tıklanma ve geri dönüşüm oranları optimize edilmeye çalışılıyor. Buna yönelik olarak belirli bir mecrada çeşitli senaryolara göre reklama tıklama olasılıkları hesaplanmak isteniliyor.\n",
    "\n",
    "##### Detaylar:\n",
    "##### Bir mecrada reklam verilecek\n",
    "##### Dağılım ve reklama tıklama olasılığı biliniyor (0.01)\n",
    "##### Soru: Reklamı 100 kişi gördüğünde 1, 5, 10 tıklanması olasılığı nedir?"
   ]
  },
  {
   "cell_type": "code",
   "execution_count": null,
   "id": "39ffa02f-4a2d-4a09-a194-1db11e1a69a4",
   "metadata": {},
   "outputs": [],
   "source": [
    "from scipy.stats import binom"
   ]
  },
  {
   "cell_type": "code",
   "execution_count": null,
   "id": "ef09654c-6033-43e1-9184-fb61f2f129d9",
   "metadata": {},
   "outputs": [],
   "source": [
    "# p = probability of success \n",
    "# n =  number of trials(deneme sayisi)\n",
    "p = 0.01\n",
    "n = 100\n",
    "rv = binom(n, p)\n",
    "print(rv.pmf(1))\n",
    "print(rv.pmf(5))\n",
    "print(rv.pmf(10))"
   ]
  },
  {
   "cell_type": "markdown",
   "id": "82cd1559-15fc-49e1-a402-b51202ece9a6",
   "metadata": {},
   "source": [
    "### Poissin Dagilimi\n",
    "Belirli bir zaman aralığında belirli bir alanda nadiren rastlanan olayların olasılıklarını hesaplamak için kullanılır.\n",
    "\n",
    "$$\n",
    "f(x, \\lambda) = \\frac{\\lambda^x e^{-\\lambda}}{x!}, \\quad x = 0, 1, 2, \\ldots, n\n",
    "$$\n",
    "\n",
    "$$\n",
    "E(X) = \\lambda \\quad Var(X) = \\lambda\n",
    "$$\n"
   ]
  },
  {
   "cell_type": "markdown",
   "id": "ef904e32-bfc8-4371-ba56-fe048a6123bc",
   "metadata": {},
   "source": [
    "#### İş Uygulaması: İlan Girişi Hata Olasılıklarının Hesaplanması\n",
    "\n",
    "#### Problem:\n",
    "Hatalı ilan girişi olasılıkları hesaplanmak isteniyor.\n",
    "\n",
    "#### Detaylar:\n",
    "Bir yıl süresince ölçümler yapılıyor.\n",
    "Dağılım biliniyor (Poisson) ve Lambda 0.1 (ortalama hata sayısı).               \n",
    "Hiç hata olmaması, 3 hata olması ve 5 hata olması olasılıkları nedir?"
   ]
  },
  {
   "cell_type": "code",
   "execution_count": null,
   "id": "f190cecb-72da-403b-bda3-7809c141190b",
   "metadata": {},
   "outputs": [],
   "source": [
    "from scipy.stats import poisson"
   ]
  },
  {
   "cell_type": "code",
   "execution_count": null,
   "id": "4529b65d-95f8-4b0f-b48a-ef093a226973",
   "metadata": {},
   "outputs": [],
   "source": [
    "# pmf = probability mass function.\n",
    "lambda_value = 0.1\n",
    "rv = poisson(mu = lambda_value)\n",
    "print(rv.pmf(k = 0))\n",
    "print(rv.pmf(k = 3))\n",
    "print(rv.pmf(k = 5))"
   ]
  },
  {
   "cell_type": "markdown",
   "id": "96d33d0b-4ef5-447f-9153-515873607e51",
   "metadata": {},
   "source": [
    "### Normal Dağılım\n",
    "\n",
    "##### Normal dağıldığı bilinen sürekli rassal değişkenler için olasılık hesaplaması için kullanılır.\n",
    "\n",
    "\n",
    "\n",
    "\n"
   ]
  },
  {
   "cell_type": "markdown",
   "id": "352020d8-5428-46c0-83c2-315e68eb0138",
   "metadata": {},
   "source": [
    " ### Is uygulamasi: urun satis Olasiliklarinin Hesaplanmasi \n",
    "#### Bir yatırım veya toplantı öncesinde gelecek ayın satışlarının belirlideğerlerde gerçekleşme olasılıklarını hesaplamak istiyoruz. \n",
    "#### Elimizde aylık satış sayısının normal dağılıma sahip olduğu bilgisi var.\n",
    "#### Ortalama aylık satış sayısı 80K ve standart sapması 5K olarak verilmiş.\n",
    "#### Soru: 90K'dan fazla satış yapma olasılığı nedir?"
   ]
  },
  {
   "cell_type": "code",
   "execution_count": 122,
   "id": "a9573b8c-485d-46e2-a2bf-e6dd91de35c1",
   "metadata": {},
   "outputs": [],
   "source": [
    "from scipy.stats import norm"
   ]
  },
  {
   "cell_type": "code",
   "execution_count": 124,
   "id": "c61346e0-43bc-4112-ae19-bc75ce2b30fb",
   "metadata": {},
   "outputs": [
    {
     "data": {
      "text/plain": [
       "0.02275013194817921"
      ]
     },
     "execution_count": 124,
     "metadata": {},
     "output_type": "execute_result"
    }
   ],
   "source": [
    "# cdf = Cumulative Distribution Function(Kümülatif Dağılım Fonksiyonu)\n",
    " #cdf olmasinin sebebi bir alan taramis olacagiz bu Kümülatif bir yogunluk\n",
    "#olarak degerlendirilir.\n",
    "\"\"\"\n",
    "90 hesaplamak istedigimiz deger.\n",
    "80 ortalama\n",
    "5 standart sapma\n",
    "\n",
    "1 - norm.cdf(90, 80, 5) ifadesindeki 1den çıkarma işlemi, olasılık\n",
    "hesaplamaları bağlamında belirli bir değerin üzerinde olasılığı bulmak\n",
    "için yapılır.\n",
    "\"\"\"\n",
    "1-norm.cdf(90, 80, 5)"
   ]
  },
  {
   "cell_type": "code",
   "execution_count": 126,
   "id": "64f11c59-e101-40e4-9967-f97f50a2f117",
   "metadata": {},
   "outputs": [
    {
     "data": {
      "text/plain": [
       "0.9772498680518208"
      ]
     },
     "execution_count": 126,
     "metadata": {},
     "output_type": "execute_result"
    }
   ],
   "source": [
    "# 70'ten fazla olma olasiligi\n",
    "1-norm.cdf(70, 80, 5)"
   ]
  },
  {
   "cell_type": "code",
   "execution_count": 128,
   "id": "5e207aad-8293-44fb-8811-4536b0d85ec3",
   "metadata": {},
   "outputs": [
    {
     "data": {
      "text/plain": [
       "0.08075665923377107"
      ]
     },
     "execution_count": 128,
     "metadata": {},
     "output_type": "execute_result"
    }
   ],
   "source": [
    "# 73'ten az olma olasiligi\n",
    "norm.cdf(73, 80, 5)"
   ]
  },
  {
   "cell_type": "code",
   "execution_count": 130,
   "id": "29eadba8-5ae6-4465-bbb8-e45a1f5c588b",
   "metadata": {},
   "outputs": [
    {
     "data": {
      "text/plain": [
       "0.13590512198327787"
      ]
     },
     "execution_count": 130,
     "metadata": {},
     "output_type": "execute_result"
    }
   ],
   "source": [
    "# 85 ile 90 arasinda olma olasiligi\n",
    "norm.cdf(90, 80, 5) - norm.cdf(85, 80, 5)\n"
   ]
  },
  {
   "cell_type": "markdown",
   "id": "67e13838-5575-4b59-8bca-f77a8a583788",
   "metadata": {},
   "source": [
    "### Hipotez testi nedir?\n",
    "Bir savı, bir tahmini test etmek için kullanılan istatistiksel bir tekniktir.\n",
    "\n",
    "### Hipotez Türleri\n",
    "\n"
   ]
  },
  {
   "cell_type": "markdown",
   "id": "34b26678-a19c-41b6-9f3c-b34ed986f42d",
   "metadata": {},
   "source": [
    "#### Hata Tipleri\n"
   ]
  },
  {
   "cell_type": "markdown",
   "id": "c49aed2c-7e09-4654-9396-5bf66f2042b0",
   "metadata": {},
   "source": [
    "#### P-value\n",
    "#### Tek orneklem T Testi"
   ]
  },
  {
   "cell_type": "markdown",
   "id": "8b3fe94d-0891-4a55-86d0-41950330f1f3",
   "metadata": {},
   "source": [
    "#### İş Uygullaması: Ürün Satın Alma Adım Optimizasyonu\n",
    "##### Problem\n",
    "Sepete ürün ekleme işlemi sonrasında ödeme ekranında 5 adım vardır ve bu adımların birisi sorgulanmaktadır.\n",
    "\n",
    "##### Detaylar:\n",
    "- Her adımın 20'şer sn. olması hedefi var. 4. adım sorgulanıyor.\n",
    "- Bu durumu test etmek için 100 örnek alınıyor.\n",
    "- Örnek standart sapması 5 saniyedir. Örnek ortalaması ise 19 saniyedir.\n"
   ]
  },
  {
   "cell_type": "markdown",
   "id": "071c1b76-4017-4500-ac58-9a15b488cfd0",
   "metadata": {},
   "source": [
    "[![App Platorm](https://www.dummies.com/wp-content/uploads/z-score-table-1.png)"
   ]
  },
  {
   "cell_type": "markdown",
   "id": "bb60659e-8786-4c94-9c02-4a21d09f839d",
   "metadata": {},
   "source": [
    "#### İş Uygullaması: Web Sitesinde Gecirilen Surenin Testi\n",
    "##### Problem:\r\n",
    "Web sitemizde geçirilen ortalama süre gerçekten 170 saniy mi#\n",
    "##### Detaylar:\r\n",
    "- Yazılımlardan elde edilen web sitesinde geçirilen ort. süreler var.\r\n",
    "- Bu veriler incelendiğinde bir yönetici ya da çalışanımız bu değerlerin böyle olmadığına yönelik düşünceler taşıyor ve bu durumu test etmek istiyorlar.\r\n"
   ]
  },
  {
   "cell_type": "code",
   "execution_count": 42,
   "id": "e2cab785-aca6-4b9a-bb68-63eca0cdb2a4",
   "metadata": {},
   "outputs": [],
   "source": [
    "import numpy as np\n",
    "olcumler = np.array([17, 160, 234, 149, 145, 107, 197, 75, 201, 225, 211, 119,\n",
    "                    157, 145, 127, 244, 163, 114, 145, 65, 112, 185, 202, 146,\n",
    "                    203, 224, 203, 114, 188, 156, 187, 154, 177, 95, 165, 50, 110,\n",
    "                    216, 138, 151, 166, 135, 155, 84, 251, 173, 131, 207, 121, 120])"
   ]
  },
  {
   "cell_type": "code",
   "execution_count": 44,
   "id": "fa9b6b24-a4d6-4f3c-8854-c665bbf24aed",
   "metadata": {},
   "outputs": [
    {
     "data": {
      "text/plain": [
       "array([ 17, 160, 234, 149, 145, 107, 197,  75, 201, 225])"
      ]
     },
     "execution_count": 44,
     "metadata": {},
     "output_type": "execute_result"
    }
   ],
   "source": [
    "olcumler[0:10]"
   ]
  },
  {
   "cell_type": "code",
   "execution_count": 46,
   "id": "136e574e-86de-4a48-949c-df5e47424ab5",
   "metadata": {},
   "outputs": [],
   "source": [
    "import scipy.stats as stats"
   ]
  },
  {
   "cell_type": "code",
   "execution_count": 48,
   "id": "e8db356b-42e8-4ef1-b197-c55a0414f86e",
   "metadata": {},
   "outputs": [
    {
     "data": {
      "text/plain": [
       "DescribeResult(nobs=50, minmax=(17, 251), mean=154.38, variance=2578.0363265306123, skewness=-0.32398897278694483, kurtosis=-0.05849823498415985)"
      ]
     },
     "execution_count": 48,
     "metadata": {},
     "output_type": "execute_result"
    }
   ],
   "source": [
    "stats.describe(olcumler)"
   ]
  },
  {
   "cell_type": "raw",
   "id": "c571fd61-846d-4adc-8403-b7584a14d6b9",
   "metadata": {},
   "source": [
    "# varsayimlar\n",
    "\"\"\"\n",
    " normallik varsayimi\n",
    "2 turlu gerceklesir 1. grafik yontemlerle (histogram ve QQ Plot)\n",
    "# 2. bazi testler ile gerceklesir(Shapiro-Wilk, Kolmogorov-Smirnov,\n",
    "Lilliefors, Anderson-Darling )\n",
    "biz 1. test olan Shapiro-Wilk testi kullaniyor olacagiz..\n",
    "\"\"\""
   ]
  },
  {
   "cell_type": "code",
   "execution_count": 50,
   "id": "63f70af0-72d2-4f51-b890-64b272b48944",
   "metadata": {},
   "outputs": [
    {
     "data": {
      "image/png": "[encoded data removed]",
      "text/plain": [
       "<Figure size 640x480 with 1 Axes>"
      ]
     },
     "metadata": {},
     "output_type": "display_data"
    }
   ],
   "source": [
    "# histogram\n",
    "import pandas as pd\n",
    "pd.DataFrame(olcumler).plot.hist();"
   ]
  },
  {
   "cell_type": "code",
   "execution_count": 51,
   "id": "16707b6a-7c10-473b-8e28-2a47893d5c97",
   "metadata": {},
   "outputs": [
    {
     "data": {
      "image/png": "[encoded data removed]",
      "text/plain": [
       "<Figure size 640x480 with 1 Axes>"
      ]
     },
     "metadata": {},
     "output_type": "display_data"
    }
   ],
   "source": [
    "# qqplot\n",
    "import pylab\n",
    "stats.probplot(olcumler, dist = \"norm\", plot = pylab)\n",
    "pylab.show()"
   ]
  },
  {
   "cell_type": "markdown",
   "id": "b605c4cc-7260-4f61-8450-0f0bbb378212",
   "metadata": {},
   "source": [
    "#### Shapiro-Wilk Testi\n"
   ]
  },
  {
   "cell_type": "markdown",
   "id": "862fd511-aeab-4637-895b-78c8bc0ce660",
   "metadata": {},
   "source": [
    "H0: ornek dagilimi ile teorik normal dagilim arasinda istatisteksel olarak anlamli bir farklilik yoktur..\n",
    "    \n",
    "H1:ornek dagilimi ile teorik normal dagilim arasinda istatisteksel olarak anlamli bir farklilik vardir.."
   ]
  },
  {
   "cell_type": "code",
   "execution_count": 56,
   "id": "07c4c708-a106-4264-a373-c4e19a25fdc4",
   "metadata": {},
   "outputs": [],
   "source": [
    "from scipy.stats import shapiro"
   ]
  },
  {
   "cell_type": "code",
   "execution_count": 58,
   "id": "b3945ab9-02b8-4d2c-a745-1387fcb36d14",
   "metadata": {},
   "outputs": [
    {
     "data": {
      "text/plain": [
       "ShapiroResult(statistic=0.9853103897061022, pvalue=0.7848671719373956)"
      ]
     },
     "execution_count": 58,
     "metadata": {},
     "output_type": "execute_result"
    }
   ],
   "source": [
    "# soldaki deger Test istatistigini ifade ediyor \n",
    "# sagdaki  deger P-value degerini ifade ediyor\n",
    "shapiro(olcumler)"
   ]
  },
  {
   "cell_type": "code",
   "execution_count": 60,
   "id": "b9b4a41a-5a89-48b3-a46a-c389a59656a6",
   "metadata": {},
   "outputs": [
    {
     "name": "stdout",
     "output_type": "stream",
     "text": [
      "T Hesap Istatistigi: 0.9853103897061022\n",
      "T Hesaplanan P-value: 0.7848671719373956\n"
     ]
    }
   ],
   "source": [
    "# farkli bir kullanim digeri biraz karisik gelebiir...\n",
    "print(\"T Hesap Istatistigi: \" + str(shapiro(olcumler)[0]))\n",
    "print(\"T Hesaplanan P-value: \" + str(shapiro(olcumler)[1]))"
   ]
  },
  {
   "cell_type": "markdown",
   "id": "36023ce1-d259-4c0d-9fbe-5698700d3ef5",
   "metadata": {},
   "source": [
    "### Hipotez Testinin Uygulanmasi"
   ]
  },
  {
   "cell_type": "code",
   "execution_count": 63,
   "id": "dbc5457f-c558-46bd-b4fe-9b257db4776a",
   "metadata": {},
   "outputs": [
    {
     "data": {
      "text/plain": [
       "TtestResult(statistic=-2.1753117985877966, pvalue=0.034460415195071446, df=49)"
      ]
     },
     "execution_count": 63,
     "metadata": {},
     "output_type": "execute_result"
    }
   ],
   "source": [
    "#p-value degeri <0.05 oldugundan H0 redettik\n",
    "stats.ttest_1samp(olcumler, popmean = 170)"
   ]
  },
  {
   "cell_type": "markdown",
   "id": "5f80c5b2-b4cb-4585-8321-440bed7ed27f",
   "metadata": {},
   "source": [
    "H0:  Web sitemizde gecirilen ortalama sure 170sn dir.\n",
    "\n",
    "H1: ... degildir."
   ]
  },
  {
   "cell_type": "markdown",
   "id": "9f87f948-3ca8-42ab-b2f2-a8bc281ccc17",
   "metadata": {},
   "source": [
    "### Nonparametrik Tek Orneklem Testi"
   ]
  },
  {
   "cell_type": "code",
   "execution_count": 67,
   "id": "fedba1af-a6f5-4e68-99ba-e78b2e0892b2",
   "metadata": {},
   "outputs": [],
   "source": [
    "from statsmodels.stats.descriptivestats import sign_test\n"
   ]
  },
  {
   "cell_type": "code",
   "execution_count": 69,
   "id": "571f1676-6365-48c6-8c30-a60f91688ad2",
   "metadata": {},
   "outputs": [
    {
     "data": {
      "text/plain": [
       "(-7.0, 0.06490864707227217)"
      ]
     },
     "execution_count": 69,
     "metadata": {},
     "output_type": "execute_result"
    }
   ],
   "source": [
    "# sol=    test sag = p-value\n",
    "sign_test(olcumler, 170)"
   ]
  },
  {
   "cell_type": "markdown",
   "id": "48b0ac7c-fe94-40d3-a013-b38fc7577313",
   "metadata": {},
   "source": [
    "### Tek Orneklem Oran Testi \n",
    "Oransal bir ifade  test edilmek istenildiginde kullanilir."
   ]
  },
  {
   "cell_type": "markdown",
   "id": "7511bd6e-8d18-4d13-a061-701c79d4fa4b",
   "metadata": {},
   "source": [
    "#### İş Uygullaması:  Donusum Orani Testi\n",
    "##### Problem:\n",
    "\n",
    "Bir yazılım ile bir mecrada reklam verilmiş ve bu reklama ilişkin yazılım tarafından 0.125 dönüşüm oranı elde edildiği ifade edilmiş. Fakat bu durum kontrol edilmek isteniyor. Çünkü bu yüksek bir oran ve gelirler incelendiğinde örtüşmüyor.\n",
    "\n",
    "##### Detaylar:\n",
    "\n",
    "500 kişi dış mecrada reklamlara tıklamış, 40 tanesi sitemize gelip alışveriş yapmış.\n",
    "\n",
    "Örnek üzerinden elde edilen dönüşüm oranı: 40/500​=0.08"
   ]
  },
  {
   "cell_type": "code",
   "execution_count": 73,
   "id": "c0709760-4a66-426d-8569-82bfeaf05032",
   "metadata": {},
   "outputs": [],
   "source": [
    "from statsmodels.stats.proportion import proportions_ztest\n"
   ]
  },
  {
   "cell_type": "code",
   "execution_count": 75,
   "id": "9b8330d1-9d71-40ed-8ec6-8b9d2c35f967",
   "metadata": {},
   "outputs": [],
   "source": [
    "count = 40 \n",
    "nobs = 500\n",
    "value = 0.125\n"
   ]
  },
  {
   "cell_type": "code",
   "execution_count": 77,
   "id": "36d8ba73-ec75-4282-8be4-92dab5ce8ba1",
   "metadata": {},
   "outputs": [
    {
     "data": {
      "text/plain": [
       "(-3.7090151628513017, 0.0002080669689845979)"
      ]
     },
     "execution_count": 77,
     "metadata": {},
     "output_type": "execute_result"
    }
   ],
   "source": [
    "proportions_ztest(count, nobs, value)"
   ]
  },
  {
   "cell_type": "markdown",
   "id": "de0c3ec2-5f84-471e-bba6-79fed6c14e29",
   "metadata": {},
   "source": [
    "### Bagimsiz İki Orneklem T Testi (AB Testi)\n",
    "##### iki group ortalamasi arasinda  karsilastirma yapilmak istenildiginde kullanilir."
   ]
  },
  {
   "cell_type": "markdown",
   "id": "6ed3d96b-2a63-48b4-9081-b66c1a9bf4bc",
   "metadata": {},
   "source": [
    "#### İş Uygullaması: ML Modelin Testi (AB Testi)\n",
    "##### Problem:\n",
    "Bir makine öğrenimi projesine yatırım yapılmış. Bu proje, tahminler üreterek gelir elde ediyor. Eski sistemle karşılaştırıldığında yeni sistemle elde edilen gelir arasında anlamlı bir fark olup olmadığını test etmek istiyoruz.\n",
    "\n",
    "##### Detaylar:\n",
    "- Model geliştirilmiş ve web sitesine entegre edilmiş.\n",
    "- Site kullanıcıları belirli bir kurala göre ikiye bölünmüş olsun..\n",
    "-  A grubu eski sistemi kullanırken, B grubu yeni sistemi kullanıyor.\n",
    "- Gelir anlamında anlamlı bir fark olup olmadığı test edilmek isteniyor."
   ]
  },
  {
   "cell_type": "code",
   "execution_count": 81,
   "id": "f1789a6c-005b-4a30-8e8b-438f4ffb1072",
   "metadata": {},
   "outputs": [
    {
     "data": {
      "text/html": [
       "<div>\n",
       "<style scoped>\n",
       "    .dataframe tbody tr th:only-of-type {\n",
       "        vertical-align: middle;\n",
       "    }\n",
       "\n",
       "    .dataframe tbody tr th {\n",
       "        vertical-align: top;\n",
       "    }\n",
       "\n",
       "    .dataframe thead th {\n",
       "        text-align: right;\n",
       "    }\n",
       "</style>\n",
       "<table border=\"1\" class=\"dataframe\">\n",
       "  <thead>\n",
       "    <tr style=\"text-align: right;\">\n",
       "      <th></th>\n",
       "      <th>A</th>\n",
       "      <th>B</th>\n",
       "    </tr>\n",
       "  </thead>\n",
       "  <tbody>\n",
       "    <tr>\n",
       "      <th>0</th>\n",
       "      <td>30</td>\n",
       "      <td>37</td>\n",
       "    </tr>\n",
       "    <tr>\n",
       "      <th>1</th>\n",
       "      <td>27</td>\n",
       "      <td>39</td>\n",
       "    </tr>\n",
       "    <tr>\n",
       "      <th>2</th>\n",
       "      <td>21</td>\n",
       "      <td>31</td>\n",
       "    </tr>\n",
       "    <tr>\n",
       "      <th>3</th>\n",
       "      <td>27</td>\n",
       "      <td>31</td>\n",
       "    </tr>\n",
       "    <tr>\n",
       "      <th>4</th>\n",
       "      <td>29</td>\n",
       "      <td>34</td>\n",
       "    </tr>\n",
       "  </tbody>\n",
       "</table>\n",
       "</div>"
      ],
      "text/plain": [
       "    A   B\n",
       "0  30  37\n",
       "1  27  39\n",
       "2  21  31\n",
       "3  27  31\n",
       "4  29  34"
      ]
     },
     "execution_count": 81,
     "metadata": {},
     "output_type": "execute_result"
    }
   ],
   "source": [
    "# Tip I veri bu şekilde gelebilir\n",
    "A = pd.DataFrame([30, 27, 21, 27, 29, 30, 20, 20, 27, 32, 35, 22, 24, 23, 25, 27,\n",
    "                  23, 27, 23, 25, 21, 18, 24, 26, 33, 26, 27, 28, 19, 25])\n",
    "\n",
    "B = pd. DataFrame([37, 39, 31, 31, 34, 38, 30, 36, 29, 28, 38, 28, 37, 37, 30, 32,\n",
    "                  31, 31, 27, 32, 33, 33, 33, 31, 32, 33, 26, 32, 33, 29])\n",
    "\n",
    "\n",
    "A_B = pd.concat([A, B], axis = 1)\n",
    "A_B.columns = [\"A\", \"B\"]\n",
    "A_B.head()"
   ]
  },
  {
   "cell_type": "code",
   "execution_count": 83,
   "id": "f11e5208-f5cf-49dc-a8bc-d7815196fb8a",
   "metadata": {},
   "outputs": [
    {
     "name": "stdout",
     "output_type": "stream",
     "text": [
      "   gelir GRUP\n",
      "0     30    A\n",
      "1     27    A\n",
      "2     21    A\n",
      "3     27    A\n",
      "4     29    A\n",
      "    gelir GRUP\n",
      "25     33    B\n",
      "26     26    B\n",
      "27     32    B\n",
      "28     33    B\n",
      "29     29    B\n"
     ]
    }
   ],
   "source": [
    "# Tip II veri bu şekilde de  gelebilir excel'den farkli bir kaynaktan\n",
    "#bir veri geldiginde  en zor sekli ile boyle duzenleriz\n",
    "A = pd.DataFrame([30, 27, 21, 27, 29, 30, 20, 20, 27, 32, 35, 22, 24, 23, 25, 27,\n",
    "                  23, 27, 23, 25, 21, 18, 24, 26, 33, 26, 27, 28, 19, 25])\n",
    "\n",
    "B = pd. DataFrame([37, 39, 31, 31, 34, 38, 30, 36, 29, 28, 38, 28, 37, 37, 30, 32,\n",
    "                  31, 31, 27, 32, 33, 33, 33, 31, 32, 33, 26, 32, 33, 29])\n",
    "\n",
    "\n",
    "# A ve A'nin grubu\n",
    "GRUP_A = pd.DataFrame([\"A\"] * len(A))\n",
    "A = pd.concat([A, GRUP_A], axis=1)\n",
    "\n",
    "# B ve B'nin grubu\n",
    "GRUP_B = pd.DataFrame([\"B\"] * len(B))\n",
    "B = pd.concat([B, GRUP_B], axis=1)\n",
    "\n",
    "# Tum Veri \n",
    "AB = pd.concat([A, B])\n",
    "AB.columns =[\"gelir\", \"GRUP\"]\n",
    "print(AB.head())\n",
    "print(AB.tail())\n"
   ]
  },
  {
   "cell_type": "code",
   "execution_count": 85,
   "id": "ad17fd0f-6c7d-4034-9191-39c9550fab03",
   "metadata": {},
   "outputs": [
    {
     "data": {
      "image/png": "[encoded data removed]",
      "text/plain": [
       "<Figure size 640x480 with 1 Axes>"
      ]
     },
     "metadata": {},
     "output_type": "display_data"
    }
   ],
   "source": [
    "sns.boxplot(x = 'GRUP', y = 'gelir', data = AB);"
   ]
  },
  {
   "cell_type": "markdown",
   "id": "5c026c96-1c9f-4720-8ee5-b2249f746344",
   "metadata": {},
   "source": [
    "### Varsayim Kontrolu"
   ]
  },
  {
   "cell_type": "code",
   "execution_count": 88,
   "id": "043e9fe2-ad06-4644-a398-ae3cd95cc218",
   "metadata": {},
   "outputs": [
    {
     "data": {
      "text/html": [
       "<div>\n",
       "<style scoped>\n",
       "    .dataframe tbody tr th:only-of-type {\n",
       "        vertical-align: middle;\n",
       "    }\n",
       "\n",
       "    .dataframe tbody tr th {\n",
       "        vertical-align: top;\n",
       "    }\n",
       "\n",
       "    .dataframe thead th {\n",
       "        text-align: right;\n",
       "    }\n",
       "</style>\n",
       "<table border=\"1\" class=\"dataframe\">\n",
       "  <thead>\n",
       "    <tr style=\"text-align: right;\">\n",
       "      <th></th>\n",
       "      <th>A</th>\n",
       "      <th>B</th>\n",
       "    </tr>\n",
       "  </thead>\n",
       "  <tbody>\n",
       "    <tr>\n",
       "      <th>0</th>\n",
       "      <td>30</td>\n",
       "      <td>37</td>\n",
       "    </tr>\n",
       "    <tr>\n",
       "      <th>1</th>\n",
       "      <td>27</td>\n",
       "      <td>39</td>\n",
       "    </tr>\n",
       "    <tr>\n",
       "      <th>2</th>\n",
       "      <td>21</td>\n",
       "      <td>31</td>\n",
       "    </tr>\n",
       "    <tr>\n",
       "      <th>3</th>\n",
       "      <td>27</td>\n",
       "      <td>31</td>\n",
       "    </tr>\n",
       "    <tr>\n",
       "      <th>4</th>\n",
       "      <td>29</td>\n",
       "      <td>34</td>\n",
       "    </tr>\n",
       "  </tbody>\n",
       "</table>\n",
       "</div>"
      ],
      "text/plain": [
       "    A   B\n",
       "0  30  37\n",
       "1  27  39\n",
       "2  21  31\n",
       "3  27  31\n",
       "4  29  34"
      ]
     },
     "execution_count": 88,
     "metadata": {},
     "output_type": "execute_result"
    }
   ],
   "source": [
    "A_B.head()"
   ]
  },
  {
   "cell_type": "code",
   "execution_count": 90,
   "id": "c698398f-ddfd-41d8-a050-b54b1faddf07",
   "metadata": {},
   "outputs": [
    {
     "data": {
      "text/html": [
       "<div>\n",
       "<style scoped>\n",
       "    .dataframe tbody tr th:only-of-type {\n",
       "        vertical-align: middle;\n",
       "    }\n",
       "\n",
       "    .dataframe tbody tr th {\n",
       "        vertical-align: top;\n",
       "    }\n",
       "\n",
       "    .dataframe thead th {\n",
       "        text-align: right;\n",
       "    }\n",
       "</style>\n",
       "<table border=\"1\" class=\"dataframe\">\n",
       "  <thead>\n",
       "    <tr style=\"text-align: right;\">\n",
       "      <th></th>\n",
       "      <th>gelir</th>\n",
       "      <th>GRUP</th>\n",
       "    </tr>\n",
       "  </thead>\n",
       "  <tbody>\n",
       "    <tr>\n",
       "      <th>0</th>\n",
       "      <td>30</td>\n",
       "      <td>A</td>\n",
       "    </tr>\n",
       "    <tr>\n",
       "      <th>1</th>\n",
       "      <td>27</td>\n",
       "      <td>A</td>\n",
       "    </tr>\n",
       "    <tr>\n",
       "      <th>2</th>\n",
       "      <td>21</td>\n",
       "      <td>A</td>\n",
       "    </tr>\n",
       "    <tr>\n",
       "      <th>3</th>\n",
       "      <td>27</td>\n",
       "      <td>A</td>\n",
       "    </tr>\n",
       "    <tr>\n",
       "      <th>4</th>\n",
       "      <td>29</td>\n",
       "      <td>A</td>\n",
       "    </tr>\n",
       "  </tbody>\n",
       "</table>\n",
       "</div>"
      ],
      "text/plain": [
       "   gelir GRUP\n",
       "0     30    A\n",
       "1     27    A\n",
       "2     21    A\n",
       "3     27    A\n",
       "4     29    A"
      ]
     },
     "execution_count": 90,
     "metadata": {},
     "output_type": "execute_result"
    }
   ],
   "source": [
    "AB.head()"
   ]
  },
  {
   "cell_type": "markdown",
   "id": "7ae28017-ed5e-4b2f-a81c-67d79dbaec5f",
   "metadata": {},
   "source": [
    "#### normallik Varsayimi"
   ]
  },
  {
   "cell_type": "code",
   "execution_count": 93,
   "id": "6f04d70f-2a12-457e-922c-e27bda50d20f",
   "metadata": {},
   "outputs": [],
   "source": [
    "from scipy.stats import shapiro"
   ]
  },
  {
   "cell_type": "code",
   "execution_count": 134,
   "id": "3c3d4677-a31c-4df1-ac39-be92a7da7c46",
   "metadata": {},
   "outputs": [
    {
     "data": {
      "text/plain": [
       "ShapiroResult(statistic=0.97892437099949, pvalue=0.7962848069993307)"
      ]
     },
     "execution_count": 134,
     "metadata": {},
     "output_type": "execute_result"
    }
   ],
   "source": [
    "\"\"\"\n",
    "simdi shaprio testin icerisine ilgilendigimiz degiskeni yazdigimizda \n",
    "bu degiskenin normal dagilim varsayimini saglayip saglamadigini ifade \n",
    "etmis olacak.. Ama shapiro fonksiyonu bizden sadece degiskenin\n",
    "kendisini bekliyor ve bu sebep ile II veri yapisini kullanamiyoruz AB.head()\n",
    "ve ilk  veri olusturma icerisinden cagirmamiz gerekiyor..\n",
    "\"\"\"\n",
    "shapiro(A_B.A)"
   ]
  },
  {
   "cell_type": "code",
   "execution_count": 97,
   "id": "95deba69-775b-4864-898e-a5c0af634024",
   "metadata": {},
   "outputs": [
    {
     "data": {
      "text/plain": [
       "ShapiroResult(statistic=0.9561261367393356, pvalue=0.2458439374473953)"
      ]
     },
     "execution_count": 97,
     "metadata": {},
     "output_type": "execute_result"
    }
   ],
   "source": [
    "shapiro(A_B.B)"
   ]
  },
  {
   "cell_type": "markdown",
   "id": "1f2d954c-bd56-485c-8d36-49a1ef68f5d6",
   "metadata": {},
   "source": [
    "#### Varyans Homejenligi  Varsayimi"
   ]
  },
  {
   "cell_type": "markdown",
   "id": "4fcfed41-096b-41d5-b9b3-d77db64bc884",
   "metadata": {},
   "source": [
    "H0: Varyanslar Homojendir..\n",
    "\n",
    "H1: Varyanslar Homojen Degildir.."
   ]
  },
  {
   "cell_type": "code",
   "execution_count": 101,
   "id": "c851a5cf-62e2-47f2-bda0-f74d8104e7af",
   "metadata": {},
   "outputs": [
    {
     "data": {
      "text/plain": [
       "LeveneResult(statistic=1.1101802757158004, pvalue=0.2964124900636569)"
      ]
     },
     "execution_count": 101,
     "metadata": {},
     "output_type": "execute_result"
    }
   ],
   "source": [
    "stats.levene(A_B.A, A_B.B)"
   ]
  },
  {
   "cell_type": "markdown",
   "id": "b040479d-865f-4641-9155-8c3568ab8d28",
   "metadata": {},
   "source": [
    "#### Hipotez Testi"
   ]
  },
  {
   "cell_type": "code",
   "execution_count": 104,
   "id": "5908916d-abc9-4d03-92f8-da4481c21499",
   "metadata": {},
   "outputs": [
    {
     "data": {
      "text/plain": [
       "TtestResult(statistic=-7.028690967745927, pvalue=2.6233215605475075e-09, df=58.0)"
      ]
     },
     "execution_count": 104,
     "metadata": {},
     "output_type": "execute_result"
    }
   ],
   "source": [
    "# ttest_ind = Independent Two-Sample t-Test\n",
    "# equal_var = True varyans homojenligi varsayiminin saglanip saglanmadigi.\n",
    "stats.ttest_ind(A_B[\"A\"], A_B[\"B\"], equal_var = True)"
   ]
  },
  {
   "cell_type": "code",
   "execution_count": 106,
   "id": "e54b7f0b-8850-422b-87a0-e004c1c78729",
   "metadata": {},
   "outputs": [
    {
     "name": "stdout",
     "output_type": "stream",
     "text": [
      "Test istatistigi = -7.0287, p-value = 0.0000\n"
     ]
    }
   ],
   "source": [
    "test_istatistigi, pvalue = stats.ttest_ind(A_B[\"A\"], A_B[\"B\"], equal_var = True)\n",
    "print(\"Test istatistigi = %.4f, p-value = %.4f\" %(test_istatistigi,pvalue))"
   ]
  },
  {
   "cell_type": "code",
   "execution_count": 108,
   "id": "65e5f88d-5486-44c9-a9ba-0680a2820c3a",
   "metadata": {},
   "outputs": [
    {
     "name": "stdout",
     "output_type": "stream",
     "text": [
      "---------------------------------------------------------------------\n"
     ]
    }
   ],
   "source": [
    "print(\"---------------------------------------------------------------------\")"
   ]
  },
  {
   "cell_type": "markdown",
   "id": "85b1294d-bef8-4d72-8174-0ecc32a29435",
   "metadata": {},
   "source": [
    "### Nonparametrik  Bagimsiz Iki orneklem Testi"
   ]
  },
  {
   "cell_type": "code",
   "execution_count": 136,
   "id": "e7193c05-d789-407c-974f-c9b4f1665ba6",
   "metadata": {},
   "outputs": [
    {
     "data": {
      "text/plain": [
       "MannwhitneyuResult(statistic=89.5, pvalue=9.557950378612535e-08)"
      ]
     },
     "execution_count": 136,
     "metadata": {},
     "output_type": "execute_result"
    }
   ],
   "source": [
    "# eger normallik varsayimi ve varyans homojenligi varsayimi saglanmiyor ise.\n",
    "stats.mannwhitneyu(A_B[\"A\"], A_B[\"B\"])"
   ]
  },
  {
   "cell_type": "code",
   "execution_count": 138,
   "id": "3fc8b5fc-8dfb-423c-a89b-bb5433ed9430",
   "metadata": {},
   "outputs": [
    {
     "name": "stdout",
     "output_type": "stream",
     "text": [
      "Test Istatisgi = 89.5000, p-value = 0.0000\n"
     ]
    }
   ],
   "source": [
    "# p-value = 0.0000 yani alfadan cok kucuk anlaminda..\n",
    "test_istatistigi, pvalue = stats.mannwhitneyu(A_B[\"A\"], A_B[\"B\"])\n",
    "print(\"Test Istatisgi = %.4f, p-value = %.4f\" %(test_istatistigi, pvalue))"
   ]
  },
  {
   "cell_type": "markdown",
   "id": "a3acc0fe-1b3e-432b-a256-27af1ac995d8",
   "metadata": {},
   "source": [
    "#### Bagimli iki Orneklem T Testi\n",
    "##### Bagimli iki grup ortalamasi arasinda  karsilastirma yapilmak istenildiginde  kullanilir."
   ]
  },
  {
   "cell_type": "markdown",
   "id": "8e504790-6a84-4bf7-a8ce-4e67216e7709",
   "metadata": {},
   "source": [
    "#### İş Uygulaması: Şirket İçi Eğitmin Performans Etkisi ölçümü \n",
    "\n",
    "**Problem:**\r",
    " \n",
    "Belirli uğraşlar sonucunda alınan bir eğitimin katma değer sağlayıp sağlamadığı ölçülmek isteniyor.\r\n",
    "\r\n",
    "**Detaylar:**\r\n",
    "- Bir departman bir konuda eğitim talep ediyor\r\n",
    "- Gerekli/gereksiz değerlendirmeleri neticesinde eğitim alınıyor\r\n",
    "- Eğitimden önce ve sonra olacak şekilde gerekli ölçümler yapılıyor\r\n",
    "- Eğitim sonrasında eğitimin sağladığı katma değer test edilmek isteniyor\r\n"
   ]
  },
  {
   "cell_type": "code",
   "execution_count": 156,
   "id": "a82c6c8f-7a92-4082-aa7e-e6aa77479bd4",
   "metadata": {},
   "outputs": [],
   "source": [
    "oncesi = pd.DataFrame([123,119,119,116,123,123,121,120,117,118,121,121,123,119,\n",
    "            121,118,124,121,125,115,115,119,118,121,117,117,120,120,\n",
    "            121,117,118,117,123,118,124,121,115,118,125,115])\n",
    "\n",
    "sonrasi = pd.DataFrame([118,127,122,132,129,123,129,132,128,130,128,138,140,130,\n",
    "             134,134,124,140,134,129,129,138,134,124,122,126,133,127,\n",
    "             130,130,130,132,117,130,125,129,133,120,127,123])"
   ]
  },
  {
   "cell_type": "code",
   "execution_count": 158,
   "id": "d219f108-f0d8-4047-9d6a-54ff784790e5",
   "metadata": {},
   "outputs": [
    {
     "data": {
      "text/html": [
       "<div>\n",
       "<style scoped>\n",
       "    .dataframe tbody tr th:only-of-type {\n",
       "        vertical-align: middle;\n",
       "    }\n",
       "\n",
       "    .dataframe tbody tr th {\n",
       "        vertical-align: top;\n",
       "    }\n",
       "\n",
       "    .dataframe thead th {\n",
       "        text-align: right;\n",
       "    }\n",
       "</style>\n",
       "<table border=\"1\" class=\"dataframe\">\n",
       "  <thead>\n",
       "    <tr style=\"text-align: right;\">\n",
       "      <th></th>\n",
       "      <th>0</th>\n",
       "    </tr>\n",
       "  </thead>\n",
       "  <tbody>\n",
       "    <tr>\n",
       "      <th>0</th>\n",
       "      <td>123</td>\n",
       "    </tr>\n",
       "    <tr>\n",
       "      <th>1</th>\n",
       "      <td>119</td>\n",
       "    </tr>\n",
       "    <tr>\n",
       "      <th>2</th>\n",
       "      <td>119</td>\n",
       "    </tr>\n",
       "    <tr>\n",
       "      <th>3</th>\n",
       "      <td>116</td>\n",
       "    </tr>\n",
       "    <tr>\n",
       "      <th>4</th>\n",
       "      <td>123</td>\n",
       "    </tr>\n",
       "  </tbody>\n",
       "</table>\n",
       "</div>"
      ],
      "text/plain": [
       "     0\n",
       "0  123\n",
       "1  119\n",
       "2  119\n",
       "3  116\n",
       "4  123"
      ]
     },
     "execution_count": 158,
     "metadata": {},
     "output_type": "execute_result"
    }
   ],
   "source": [
    "oncesi[0:5]"
   ]
  },
  {
   "cell_type": "code",
   "execution_count": 160,
   "id": "e032c3c9-2932-4f0b-8ba4-4b96ac46bf2b",
   "metadata": {},
   "outputs": [
    {
     "data": {
      "text/html": [
       "<div>\n",
       "<style scoped>\n",
       "    .dataframe tbody tr th:only-of-type {\n",
       "        vertical-align: middle;\n",
       "    }\n",
       "\n",
       "    .dataframe tbody tr th {\n",
       "        vertical-align: top;\n",
       "    }\n",
       "\n",
       "    .dataframe thead th {\n",
       "        text-align: right;\n",
       "    }\n",
       "</style>\n",
       "<table border=\"1\" class=\"dataframe\">\n",
       "  <thead>\n",
       "    <tr style=\"text-align: right;\">\n",
       "      <th></th>\n",
       "      <th>0</th>\n",
       "    </tr>\n",
       "  </thead>\n",
       "  <tbody>\n",
       "    <tr>\n",
       "      <th>0</th>\n",
       "      <td>118</td>\n",
       "    </tr>\n",
       "    <tr>\n",
       "      <th>1</th>\n",
       "      <td>127</td>\n",
       "    </tr>\n",
       "    <tr>\n",
       "      <th>2</th>\n",
       "      <td>122</td>\n",
       "    </tr>\n",
       "    <tr>\n",
       "      <th>3</th>\n",
       "      <td>132</td>\n",
       "    </tr>\n",
       "    <tr>\n",
       "      <th>4</th>\n",
       "      <td>129</td>\n",
       "    </tr>\n",
       "  </tbody>\n",
       "</table>\n",
       "</div>"
      ],
      "text/plain": [
       "     0\n",
       "0  118\n",
       "1  127\n",
       "2  122\n",
       "3  132\n",
       "4  129"
      ]
     },
     "execution_count": 160,
     "metadata": {},
     "output_type": "execute_result"
    }
   ],
   "source": [
    "sonrasi[0:5]"
   ]
  },
  {
   "cell_type": "code",
   "execution_count": 166,
   "id": "f6b32d45-5660-4c1a-a77a-cf30b44634a1",
   "metadata": {},
   "outputs": [
    {
     "name": "stdout",
     "output_type": "stream",
     "text": [
      "'AYRIK' Veri Seti:\n",
      "\n",
      "    ONCESI  SONRASI\n",
      "0     123      118\n",
      "1     119      127\n",
      "2     119      122\n",
      "3     116      132\n",
      "4     123      129 \n",
      "\n",
      "\n",
      "'BIRLIKTE' Veri Seti: \n",
      "\n",
      "    PERFORMANS ONCESI_SONRASI\n",
      "0         123         ONCESI\n",
      "1         119         ONCESI\n",
      "2         119         ONCESI\n",
      "3         116         ONCESI\n",
      "4         123         ONCESI \n",
      "\n"
     ]
    }
   ],
   "source": [
    "# Birinci Veri Seti\n",
    "AYRIK = pd.concat([oncesi, sonrasi], axis = 1)\n",
    "AYRIK.columns = [\"ONCESI\", \"SONRASI\"]\n",
    "print(\"'AYRIK' Veri Seti:\\n\\n\", AYRIK.head(),\"\\n\\n\")\n",
    "\n",
    "# IKinci Veri Seti\n",
    "# ONCESI FLAG/TAG'INI OLUSTURMA\n",
    "GRUP_ONCESI = pd.DataFrame([\"ONCESI\"] * len(oncesi))\n",
    "# FLAG VE ONCESI DEGERLERINI BIR ARAYA GETIRME\n",
    "A = pd.concat([oncesi, GRUP_ONCESI], axis = 1)\n",
    "\n",
    "# SONRASI FLAG/TAG'INI OLUSTURMA\n",
    "GRUP_SONRASI =pd.DataFrame([\"SONRASI\"] * len(sonrasi)) \n",
    "# FLAG VE ONCESI DEGERLERINI BIR ARAYA GETIRME\n",
    "B = pd.concat([sonrasi, GRUP_SONRASI], axis = 1) \n",
    "\n",
    "# TUM VERIYI BIR ARAYA GETIRME\n",
    "birlikte= pd.concat([A,B])\n",
    "birlikte\n",
    "\n",
    "#ISIMLENDIRME\n",
    "birlikte.columns = [\"PERFORMANS\",\"ONCESI_SONRASI\"] \n",
    "print(\"'BIRLIKTE' Veri Seti: \\n\\n\", birlikte.head(), \"\\n\")\n"
   ]
  },
  {
   "cell_type": "code",
   "execution_count": 170,
   "id": "21ed531c-df7c-49de-94cd-55ab73fc8a19",
   "metadata": {},
   "outputs": [
    {
     "data": {
      "image/png": "[encoded data removed]",
      "text/plain": [
       "<Figure size 640x480 with 1 Axes>"
      ]
     },
     "metadata": {},
     "output_type": "display_data"
    }
   ],
   "source": [
    "sns.boxplot(x = \"ONCESI_SONRASI\", y = \"PERFORMANS\", data = birlikte );"
   ]
  },
  {
   "cell_type": "markdown",
   "id": "0d2417c0-a1fd-4bcf-aea1-303cd379ecec",
   "metadata": {},
   "source": [
    "### Bagimli iki ornklem T Testi Varsayimi kontrolu"
   ]
  },
  {
   "cell_type": "code",
   "execution_count": 176,
   "id": "dcf416ac-cd1b-4e87-aa0c-4c02dc11108e",
   "metadata": {},
   "outputs": [
    {
     "data": {
      "text/plain": [
       "ShapiroResult(statistic=0.9543651286601341, pvalue=0.10722012473424775)"
      ]
     },
     "execution_count": 176,
     "metadata": {},
     "output_type": "execute_result"
    }
   ],
   "source": [
    "from scipy.stats import shapiro\n",
    "# H0 degeri rededemiyoruz\n",
    "shapiro(AYRIK.ONCESI)"
   ]
  },
  {
   "cell_type": "code",
   "execution_count": 178,
   "id": "5c0f13a7-fb1a-48fd-919d-19926f4d0c91",
   "metadata": {},
   "outputs": [
    {
     "data": {
      "text/plain": [
       "ShapiroResult(statistic=0.9780089132335147, pvalue=0.6159508885102487)"
      ]
     },
     "execution_count": 178,
     "metadata": {},
     "output_type": "execute_result"
    }
   ],
   "source": [
    "# H0 degeri rededemiyoruz\n",
    "shapiro(AYRIK.SONRASI)"
   ]
  },
  {
   "cell_type": "code",
   "execution_count": 180,
   "id": "7f66e189-3416-4071-8b4f-cdcd29502965",
   "metadata": {},
   "outputs": [
    {
     "data": {
      "text/plain": [
       "LeveneResult(statistic=8.31303288672351, pvalue=0.0050844511807370246)"
      ]
     },
     "execution_count": 180,
     "metadata": {},
     "output_type": "execute_result"
    }
   ],
   "source": [
    "# H0 degeri red ediyoruz varyans homojenligi varsayimi saglanmamaktadir.\n",
    "stats.levene(AYRIK.ONCESI, AYRIK.SONRASI)"
   ]
  },
  {
   "cell_type": "markdown",
   "id": "434d09e4-ca59-4c8f-8649-d97e214d0928",
   "metadata": {},
   "source": [
    "#### Hipotez Testi"
   ]
  },
  {
   "cell_type": "code",
   "execution_count": 183,
   "id": "f4873f57-f132-4139-b6b2-1dd687586562",
   "metadata": {},
   "outputs": [
    {
     "data": {
      "text/plain": [
       "TtestResult(statistic=-9.281533480429937, pvalue=2.0235251764440722e-11, df=39)"
      ]
     },
     "execution_count": 183,
     "metadata": {},
     "output_type": "execute_result"
    }
   ],
   "source": [
    "stats.ttest_rel(AYRIK.ONCESI, AYRIK.SONRASI)"
   ]
  },
  {
   "cell_type": "code",
   "execution_count": 205,
   "id": "eb7862d4-62da-4169-b8c4-3d387fb9ca0d",
   "metadata": {},
   "outputs": [
    {
     "name": "stdout",
     "output_type": "stream",
     "text": [
      "test istatistigi = -9.2815,  p-value = 0.0000\n"
     ]
    }
   ],
   "source": [
    "test_istatistigi , pvalue =  stats.ttest_rel(AYRIK.ONCESI, AYRIK.SONRASI)\n",
    "print('test istatistigi = %.4f,  p-value = %.4f' % (test_istatistigi, pvalue))"
   ]
  },
  {
   "cell_type": "markdown",
   "id": "98362b35-0481-40c7-a0f2-48656468a1bc",
   "metadata": {},
   "source": [
    "### Nonparametrik  Bagimli Iki orneklem Testi"
   ]
  },
  {
   "cell_type": "code",
   "execution_count": 209,
   "id": "1ffdd9b8-b17e-4b22-8470-69c52220a0e8",
   "metadata": {},
   "outputs": [
    {
     "data": {
      "text/plain": [
       "WilcoxonResult(statistic=15.0, pvalue=2.491492033374464e-07)"
      ]
     },
     "execution_count": 209,
     "metadata": {},
     "output_type": "execute_result"
    }
   ],
   "source": [
    "stats.wilcoxon(AYRIK.ONCESI, AYRIK.SONRASI)"
   ]
  },
  {
   "cell_type": "code",
   "execution_count": 211,
   "id": "49c41589-dfc6-4775-9c97-9c135b7f5f3f",
   "metadata": {},
   "outputs": [
    {
     "name": "stdout",
     "output_type": "stream",
     "text": [
      "Test Istatistigi = 15.0000, p-value = 0.0000\n"
     ]
    }
   ],
   "source": [
    "test_istatistigi, pvalue = stats.wilcoxon(AYRIK.ONCESI, AYRIK.SONRASI)\n",
    "print('Test Istatistigi = %.4f, p-value = %.4f' %(test_istatistigi, pvalue))"
   ]
  },
  {
   "cell_type": "markdown",
   "id": "0a818c46-aa6b-484d-a007-c2bb1e0748c2",
   "metadata": {},
   "source": [
    "#### Iki orneklem oran Testi\n",
    "##### iki oran arasinda karsilastirma yapmak icin kullanilir."
   ]
  },
  {
   "cell_type": "markdown",
   "id": "3683bbf3-937d-4007-8078-997bd73d258e",
   "metadata": {},
   "source": [
    "### is uygulamasi: Kullanici arayuzu Deneyi(AB Testi)\n",
    "#### Kirmizi buton(1000 goruntuleme   300 tiklama) mu yesil buton(1100 goruntuleme 250 tiklama) mu?"
   ]
  },
  {
   "cell_type": "code",
   "execution_count": 218,
   "id": "7a75923a-f468-4fc7-9ca0-3474f2592bef",
   "metadata": {},
   "outputs": [],
   "source": [
    "# iki orneklem oran testi\n",
    "from statsmodels.stats.proportion import proportions_ztest"
   ]
  },
  {
   "cell_type": "code",
   "execution_count": 222,
   "id": "ca24356c-4583-4ce6-abd6-8780c9d6767f",
   "metadata": {},
   "outputs": [],
   "source": [
    "import numpy as np\n",
    "basari_sayisi = np.array([300, 250])\n",
    "gozlem_sayisi = np.array([1000, 1100])"
   ]
  },
  {
   "cell_type": "code",
   "execution_count": 224,
   "id": "dc0d943e-d84d-47a2-a394-7afb3656b0a6",
   "metadata": {},
   "outputs": [
    {
     "data": {
      "text/plain": [
       "(3.7857863233209255, 0.0001532232957772221)"
      ]
     },
     "execution_count": 224,
     "metadata": {},
     "output_type": "execute_result"
    }
   ],
   "source": [
    "# H0 hipotezi rededilir\n",
    "proportions_ztest(count = basari_sayisi, nobs = gozlem_sayisi)"
   ]
  },
  {
   "cell_type": "markdown",
   "id": "7ea2cb19-6eaf-422c-a4e1-2aa89085d4a4",
   "metadata": {},
   "source": [
    "### Varyans Analizi\n",
    "iki ya da daha fazla grup ortalamasi arasinda  istatistiksel olarak anlamli farklilik olup olmadigi ogrenilmek istenildiginde kullanilir. "
   ]
  },
  {
   "cell_type": "markdown",
   "id": "9ad7a9d6-e841-4315-8903-a0e8278f5c86",
   "metadata": {},
   "source": [
    "### is uygulamasi: Anasayfa icerik stratejisi belirlemek\n",
    "\n",
    "** Problem: **\n",
    "-Anasayfa'da geçirilen süre artırılmak isteniyor\n",
    "\n",
    "** Detaylar:**\n",
    "- Bir web sitesi için başarı kriterleri: ortalama ziyaret süresi, hemen çıkış oranı vb\n",
    "- Uzun zaman geçiren kullanıcıların reklamlara daha fazla tıkladığı ve markaya olan bağlılıklarının arttığı biliniyor.\n",
    "- Buna yönelik olarak benzer haberler farklı resimler ya da farklı formatlarda hazırlanarak oluşturulan test gruplarına gösteriliyor.\n",
    "  - **A:** Doğal Şekilde\n",
    "  - **B:** Yönlendirici\n",
    "  - **C:** İlgi Çekici\n"
   ]
  },
  {
   "cell_type": "code",
   "execution_count": 238,
   "id": "f13d68e8-432c-472e-b0b0-89c15754b09a",
   "metadata": {},
   "outputs": [
    {
     "data": {
      "text/html": [
       "<div>\n",
       "<style scoped>\n",
       "    .dataframe tbody tr th:only-of-type {\n",
       "        vertical-align: middle;\n",
       "    }\n",
       "\n",
       "    .dataframe tbody tr th {\n",
       "        vertical-align: top;\n",
       "    }\n",
       "\n",
       "    .dataframe thead th {\n",
       "        text-align: right;\n",
       "    }\n",
       "</style>\n",
       "<table border=\"1\" class=\"dataframe\">\n",
       "  <thead>\n",
       "    <tr style=\"text-align: right;\">\n",
       "      <th></th>\n",
       "      <th>GRUP_A</th>\n",
       "      <th>GRUP_B</th>\n",
       "      <th>GRUP_C</th>\n",
       "    </tr>\n",
       "  </thead>\n",
       "  <tbody>\n",
       "    <tr>\n",
       "      <th>0</th>\n",
       "      <td>28</td>\n",
       "      <td>31</td>\n",
       "      <td>40</td>\n",
       "    </tr>\n",
       "    <tr>\n",
       "      <th>1</th>\n",
       "      <td>33</td>\n",
       "      <td>32</td>\n",
       "      <td>33</td>\n",
       "    </tr>\n",
       "    <tr>\n",
       "      <th>2</th>\n",
       "      <td>30</td>\n",
       "      <td>30</td>\n",
       "      <td>38</td>\n",
       "    </tr>\n",
       "    <tr>\n",
       "      <th>3</th>\n",
       "      <td>29</td>\n",
       "      <td>30</td>\n",
       "      <td>41</td>\n",
       "    </tr>\n",
       "    <tr>\n",
       "      <th>4</th>\n",
       "      <td>28</td>\n",
       "      <td>33</td>\n",
       "      <td>42</td>\n",
       "    </tr>\n",
       "  </tbody>\n",
       "</table>\n",
       "</div>"
      ],
      "text/plain": [
       "   GRUP_A  GRUP_B  GRUP_C\n",
       "0      28      31      40\n",
       "1      33      32      33\n",
       "2      30      30      38\n",
       "3      29      30      41\n",
       "4      28      33      42"
      ]
     },
     "execution_count": 238,
     "metadata": {},
     "output_type": "execute_result"
    }
   ],
   "source": [
    "A = pd.DataFrame([28,33,30,29,28,29,27,31,30,32,28,33,25,29,27,31,31,30,31,34,30,32,31,34,28,32,31,28,33,29])\n",
    "\n",
    "B = pd.DataFrame([31,32,30,30,33,32,34,27,36,30,31,30,38,29,30,34,34,31,35,35,33,30,28,29,26,37,31,28,34,33])\n",
    "\n",
    "C = pd.DataFrame([40,33,38,41,42,43,38,35,39,39,36,34,35,40,38,36,39,36,33,35,38,35,40,40,39,38,38,43,40,42])\n",
    "\n",
    "dfs = [A, B, C]\n",
    "\n",
    "ABC = pd.concat(dfs, axis = 1)\n",
    "ABC.columns = [\"GRUP_A\",\"GRUP_B\",\"GRUP_C\"]\n",
    "ABC.head()\n"
   ]
  },
  {
   "cell_type": "markdown",
   "id": "ac6e79d2-6272-492d-b94f-571573114204",
   "metadata": {},
   "source": [
    "#### Varsayim Kontrolu"
   ]
  },
  {
   "cell_type": "code",
   "execution_count": 241,
   "id": "e4c8c6ea-f5ae-4fce-9a35-46efd41ac862",
   "metadata": {},
   "outputs": [
    {
     "data": {
      "text/plain": [
       "ShapiroResult(statistic=0.9697430293916081, pvalue=0.5321675250468361)"
      ]
     },
     "execution_count": 241,
     "metadata": {},
     "output_type": "execute_result"
    }
   ],
   "source": [
    "# Normallik varsayimi\n",
    "from scipy.stats import shapiro\n",
    "shapiro(ABC.GRUP_A)"
   ]
  },
  {
   "cell_type": "code",
   "execution_count": 253,
   "id": "c07e58b1-de24-48c0-95c6-fad56f60f25d",
   "metadata": {},
   "outputs": [
    {
     "data": {
      "text/plain": [
       "ShapiroResult(statistic=0.9789855288537495, pvalue=0.7979814669020528)"
      ]
     },
     "execution_count": 253,
     "metadata": {},
     "output_type": "execute_result"
    }
   ],
   "source": [
    "#normallik varsayimi\n",
    "shapiro(ABC[\"GRUP_B\"])"
   ]
  },
  {
   "cell_type": "code",
   "execution_count": 255,
   "id": "70258ed8-3d34-4a5a-b9f0-2d0b5b52fe20",
   "metadata": {},
   "outputs": [
    {
     "data": {
      "text/plain": [
       "ShapiroResult(statistic=0.9579198548620552, pvalue=0.27381521754487215)"
      ]
     },
     "execution_count": 255,
     "metadata": {},
     "output_type": "execute_result"
    }
   ],
   "source": [
    "shapiro(ABC[\"GRUP_C\"])"
   ]
  },
  {
   "cell_type": "code",
   "execution_count": 251,
   "id": "2ca1e941-a40e-4b4e-98dd-a7c9a5735aed",
   "metadata": {},
   "outputs": [
    {
     "data": {
      "text/plain": [
       "LeveneResult(statistic=1.0267403645055275, pvalue=0.3624711011741707)"
      ]
     },
     "execution_count": 251,
     "metadata": {},
     "output_type": "execute_result"
    }
   ],
   "source": [
    "# varyans Homojenligi\n",
    "stats.levene(ABC[\"GRUP_A\"], ABC[\"GRUP_B\"], ABC[\"GRUP_C\"])"
   ]
  },
  {
   "cell_type": "markdown",
   "id": "1da108e7-6407-4fab-9ce1-46d78b45d23d",
   "metadata": {},
   "source": [
    "### Hipotez Testi"
   ]
  },
  {
   "cell_type": "code",
   "execution_count": 258,
   "id": "355e7a3c-b031-402b-bf41-636e86255351",
   "metadata": {},
   "outputs": [],
   "source": [
    "from scipy.stats import f_oneway"
   ]
  },
  {
   "cell_type": "code",
   "execution_count": 262,
   "id": "10188b54-b701-42a0-9f19-3b5ca3cb404d",
   "metadata": {},
   "outputs": [
    {
     "data": {
      "text/plain": [
       "F_onewayResult(statistic=74.69278140730431, pvalue=1.307905074681148e-19)"
      ]
     },
     "execution_count": 262,
     "metadata": {},
     "output_type": "execute_result"
    }
   ],
   "source": [
    "f_oneway(ABC[\"GRUP_A\"], ABC[\"GRUP_B\"], ABC[\"GRUP_C\"])"
   ]
  },
  {
   "cell_type": "code",
   "execution_count": 264,
   "id": "6648cdb7-6444-45cb-8d54-4b4005433c1f",
   "metadata": {},
   "outputs": [
    {
     "name": "stdout",
     "output_type": "stream",
     "text": [
      "0.00000\n"
     ]
    }
   ],
   "source": [
    "print('{:.5f}'.format(f_oneway(ABC[\"GRUP_A\"],ABC[\"GRUP_B\"], ABC[\"GRUP_C\"])[1]))"
   ]
  },
  {
   "cell_type": "code",
   "execution_count": 266,
   "id": "d66b2442-0233-4cf0-ae74-4e21b57c821b",
   "metadata": {},
   "outputs": [
    {
     "data": {
      "text/html": [
       "<div>\n",
       "<style scoped>\n",
       "    .dataframe tbody tr th:only-of-type {\n",
       "        vertical-align: middle;\n",
       "    }\n",
       "\n",
       "    .dataframe tbody tr th {\n",
       "        vertical-align: top;\n",
       "    }\n",
       "\n",
       "    .dataframe thead th {\n",
       "        text-align: right;\n",
       "    }\n",
       "</style>\n",
       "<table border=\"1\" class=\"dataframe\">\n",
       "  <thead>\n",
       "    <tr style=\"text-align: right;\">\n",
       "      <th></th>\n",
       "      <th>count</th>\n",
       "      <th>mean</th>\n",
       "      <th>std</th>\n",
       "      <th>min</th>\n",
       "      <th>25%</th>\n",
       "      <th>50%</th>\n",
       "      <th>75%</th>\n",
       "      <th>max</th>\n",
       "    </tr>\n",
       "  </thead>\n",
       "  <tbody>\n",
       "    <tr>\n",
       "      <th>GRUP_A</th>\n",
       "      <td>30.0</td>\n",
       "      <td>30.133333</td>\n",
       "      <td>2.224214</td>\n",
       "      <td>25.0</td>\n",
       "      <td>28.25</td>\n",
       "      <td>30.0</td>\n",
       "      <td>31.75</td>\n",
       "      <td>34.0</td>\n",
       "    </tr>\n",
       "    <tr>\n",
       "      <th>GRUP_B</th>\n",
       "      <td>30.0</td>\n",
       "      <td>31.700000</td>\n",
       "      <td>2.937862</td>\n",
       "      <td>26.0</td>\n",
       "      <td>30.00</td>\n",
       "      <td>31.0</td>\n",
       "      <td>34.00</td>\n",
       "      <td>38.0</td>\n",
       "    </tr>\n",
       "    <tr>\n",
       "      <th>GRUP_C</th>\n",
       "      <td>30.0</td>\n",
       "      <td>38.100000</td>\n",
       "      <td>2.808239</td>\n",
       "      <td>33.0</td>\n",
       "      <td>36.00</td>\n",
       "      <td>38.0</td>\n",
       "      <td>40.00</td>\n",
       "      <td>43.0</td>\n",
       "    </tr>\n",
       "  </tbody>\n",
       "</table>\n",
       "</div>"
      ],
      "text/plain": [
       "        count       mean       std   min    25%   50%    75%   max\n",
       "GRUP_A   30.0  30.133333  2.224214  25.0  28.25  30.0  31.75  34.0\n",
       "GRUP_B   30.0  31.700000  2.937862  26.0  30.00  31.0  34.00  38.0\n",
       "GRUP_C   30.0  38.100000  2.808239  33.0  36.00  38.0  40.00  43.0"
      ]
     },
     "execution_count": 266,
     "metadata": {},
     "output_type": "execute_result"
    }
   ],
   "source": [
    "ABC.describe().T"
   ]
  },
  {
   "cell_type": "markdown",
   "id": "b665525b-4be7-4abf-9a45-26b208de77f4",
   "metadata": {},
   "source": [
    "### Nonparametrik Hipotez Testi"
   ]
  },
  {
   "cell_type": "code",
   "execution_count": 271,
   "id": "e6f345c0-494d-4ded-ae5b-cdab30a096ae",
   "metadata": {},
   "outputs": [],
   "source": [
    "#\n",
    "from scipy.stats import kruskal"
   ]
  },
  {
   "cell_type": "code",
   "execution_count": 275,
   "id": "fa9b5c9d-16e9-41dd-971e-d284f48e1b43",
   "metadata": {},
   "outputs": [
    {
     "data": {
      "text/plain": [
       "KruskalResult(statistic=54.19819735523783, pvalue=1.7022015426175926e-12)"
      ]
     },
     "execution_count": 275,
     "metadata": {},
     "output_type": "execute_result"
    }
   ],
   "source": [
    "# H0 red edilir.\n",
    "kruskal(ABC[\"GRUP_A\"], ABC[\"GRUP_B\"],ABC[\"GRUP_C\"])"
   ]
  },
  {
   "cell_type": "markdown",
   "id": "8f7c0061-b91d-49c7-830d-5b62a8891366",
   "metadata": {},
   "source": [
    "### Korelasyon Analizi\n",
    "##### degiskenler arasindaki iliski, bu iliskinin yonu ve siddeti ile ilgili bilgiler saglayan istatistiksel bir yontemdir."
   ]
  },
  {
   "cell_type": "markdown",
   "id": "0a8a4722-9f9c-44cf-ae82-7a89ec63f498",
   "metadata": {},
   "source": [
    "#### Is Uygulamasi: Bahsis ile Hesap Arasindaki Iliskinin Incelenmesi\n",
    "bahsis ile odenen hesap arasinda korelasyon var mi?"
   ]
  },
  {
   "cell_type": "code",
   "execution_count": 357,
   "id": "c3680afc-9685-4229-b61f-28b72e8bf2e7",
   "metadata": {},
   "outputs": [
    {
     "data": {
      "text/html": [
       "<div>\n",
       "<style scoped>\n",
       "    .dataframe tbody tr th:only-of-type {\n",
       "        vertical-align: middle;\n",
       "    }\n",
       "\n",
       "    .dataframe tbody tr th {\n",
       "        vertical-align: top;\n",
       "    }\n",
       "\n",
       "    .dataframe thead th {\n",
       "        text-align: right;\n",
       "    }\n",
       "</style>\n",
       "<table border=\"1\" class=\"dataframe\">\n",
       "  <thead>\n",
       "    <tr style=\"text-align: right;\">\n",
       "      <th></th>\n",
       "      <th>total_bill</th>\n",
       "      <th>tip</th>\n",
       "      <th>sex</th>\n",
       "      <th>smoker</th>\n",
       "      <th>day</th>\n",
       "      <th>time</th>\n",
       "      <th>size</th>\n",
       "    </tr>\n",
       "  </thead>\n",
       "  <tbody>\n",
       "    <tr>\n",
       "      <th>0</th>\n",
       "      <td>16.99</td>\n",
       "      <td>1.01</td>\n",
       "      <td>Female</td>\n",
       "      <td>No</td>\n",
       "      <td>Sun</td>\n",
       "      <td>Dinner</td>\n",
       "      <td>2</td>\n",
       "    </tr>\n",
       "    <tr>\n",
       "      <th>1</th>\n",
       "      <td>10.34</td>\n",
       "      <td>1.66</td>\n",
       "      <td>Male</td>\n",
       "      <td>No</td>\n",
       "      <td>Sun</td>\n",
       "      <td>Dinner</td>\n",
       "      <td>3</td>\n",
       "    </tr>\n",
       "    <tr>\n",
       "      <th>2</th>\n",
       "      <td>21.01</td>\n",
       "      <td>3.50</td>\n",
       "      <td>Male</td>\n",
       "      <td>No</td>\n",
       "      <td>Sun</td>\n",
       "      <td>Dinner</td>\n",
       "      <td>3</td>\n",
       "    </tr>\n",
       "    <tr>\n",
       "      <th>3</th>\n",
       "      <td>23.68</td>\n",
       "      <td>3.31</td>\n",
       "      <td>Male</td>\n",
       "      <td>No</td>\n",
       "      <td>Sun</td>\n",
       "      <td>Dinner</td>\n",
       "      <td>2</td>\n",
       "    </tr>\n",
       "    <tr>\n",
       "      <th>4</th>\n",
       "      <td>24.59</td>\n",
       "      <td>3.61</td>\n",
       "      <td>Female</td>\n",
       "      <td>No</td>\n",
       "      <td>Sun</td>\n",
       "      <td>Dinner</td>\n",
       "      <td>4</td>\n",
       "    </tr>\n",
       "  </tbody>\n",
       "</table>\n",
       "</div>"
      ],
      "text/plain": [
       "   total_bill   tip     sex smoker  day    time  size\n",
       "0       16.99  1.01  Female     No  Sun  Dinner     2\n",
       "1       10.34  1.66    Male     No  Sun  Dinner     3\n",
       "2       21.01  3.50    Male     No  Sun  Dinner     3\n",
       "3       23.68  3.31    Male     No  Sun  Dinner     2\n",
       "4       24.59  3.61  Female     No  Sun  Dinner     4"
      ]
     },
     "execution_count": 357,
     "metadata": {},
     "output_type": "execute_result"
    }
   ],
   "source": [
    "import seaborn as sns\n",
    "tips = sns.load_dataset(\"tips\")\n",
    "df = tips.copy()\n",
    "df.head()"
   ]
  },
  {
   "cell_type": "code",
   "execution_count": 359,
   "id": "abacee26-c13a-47ea-9829-b894e87fb80c",
   "metadata": {},
   "outputs": [],
   "source": [
    "df[\"total_bill\"] = df[\"total_bill\"] - df[\"tip\"]"
   ]
  },
  {
   "cell_type": "code",
   "execution_count": 361,
   "id": "65a36a6a-84b9-41f6-867e-8bf5f0659e04",
   "metadata": {},
   "outputs": [
    {
     "data": {
      "text/html": [
       "<div>\n",
       "<style scoped>\n",
       "    .dataframe tbody tr th:only-of-type {\n",
       "        vertical-align: middle;\n",
       "    }\n",
       "\n",
       "    .dataframe tbody tr th {\n",
       "        vertical-align: top;\n",
       "    }\n",
       "\n",
       "    .dataframe thead th {\n",
       "        text-align: right;\n",
       "    }\n",
       "</style>\n",
       "<table border=\"1\" class=\"dataframe\">\n",
       "  <thead>\n",
       "    <tr style=\"text-align: right;\">\n",
       "      <th></th>\n",
       "      <th>total_bill</th>\n",
       "      <th>tip</th>\n",
       "      <th>sex</th>\n",
       "      <th>smoker</th>\n",
       "      <th>day</th>\n",
       "      <th>time</th>\n",
       "      <th>size</th>\n",
       "    </tr>\n",
       "  </thead>\n",
       "  <tbody>\n",
       "    <tr>\n",
       "      <th>0</th>\n",
       "      <td>15.98</td>\n",
       "      <td>1.01</td>\n",
       "      <td>Female</td>\n",
       "      <td>No</td>\n",
       "      <td>Sun</td>\n",
       "      <td>Dinner</td>\n",
       "      <td>2</td>\n",
       "    </tr>\n",
       "    <tr>\n",
       "      <th>1</th>\n",
       "      <td>8.68</td>\n",
       "      <td>1.66</td>\n",
       "      <td>Male</td>\n",
       "      <td>No</td>\n",
       "      <td>Sun</td>\n",
       "      <td>Dinner</td>\n",
       "      <td>3</td>\n",
       "    </tr>\n",
       "    <tr>\n",
       "      <th>2</th>\n",
       "      <td>17.51</td>\n",
       "      <td>3.50</td>\n",
       "      <td>Male</td>\n",
       "      <td>No</td>\n",
       "      <td>Sun</td>\n",
       "      <td>Dinner</td>\n",
       "      <td>3</td>\n",
       "    </tr>\n",
       "    <tr>\n",
       "      <th>3</th>\n",
       "      <td>20.37</td>\n",
       "      <td>3.31</td>\n",
       "      <td>Male</td>\n",
       "      <td>No</td>\n",
       "      <td>Sun</td>\n",
       "      <td>Dinner</td>\n",
       "      <td>2</td>\n",
       "    </tr>\n",
       "    <tr>\n",
       "      <th>4</th>\n",
       "      <td>20.98</td>\n",
       "      <td>3.61</td>\n",
       "      <td>Female</td>\n",
       "      <td>No</td>\n",
       "      <td>Sun</td>\n",
       "      <td>Dinner</td>\n",
       "      <td>4</td>\n",
       "    </tr>\n",
       "  </tbody>\n",
       "</table>\n",
       "</div>"
      ],
      "text/plain": [
       "   total_bill   tip     sex smoker  day    time  size\n",
       "0       15.98  1.01  Female     No  Sun  Dinner     2\n",
       "1        8.68  1.66    Male     No  Sun  Dinner     3\n",
       "2       17.51  3.50    Male     No  Sun  Dinner     3\n",
       "3       20.37  3.31    Male     No  Sun  Dinner     2\n",
       "4       20.98  3.61  Female     No  Sun  Dinner     4"
      ]
     },
     "execution_count": 361,
     "metadata": {},
     "output_type": "execute_result"
    }
   ],
   "source": [
    "df.head()"
   ]
  },
  {
   "cell_type": "code",
   "execution_count": 367,
   "id": "91cfc162-178e-46b1-bf74-cb994c5915ad",
   "metadata": {},
   "outputs": [
    {
     "data": {
      "image/png": "[encoded data removed]",
      "text/plain": [
       "<Figure size 640x480 with 1 Axes>"
      ]
     },
     "metadata": {},
     "output_type": "display_data"
    }
   ],
   "source": [
    "df.plot.scatter(\"total_bill\", \"tip\");"
   ]
  },
  {
   "cell_type": "markdown",
   "id": "59f42abd-2769-49c7-aa19-d15278c81605",
   "metadata": {},
   "source": [
    "#### Korelasyon Varsayimi Kontrolu"
   ]
  },
  {
   "cell_type": "code",
   "execution_count": 370,
   "id": "50678bed-d857-45fe-9505-afc2af9b9d9b",
   "metadata": {},
   "outputs": [],
   "source": [
    "from scipy.stats import shapiro"
   ]
  },
  {
   "cell_type": "code",
   "execution_count": 381,
   "id": "73ad3799-ad47-4546-babe-64f3cc9ace0e",
   "metadata": {},
   "outputs": [
    {
     "data": {
      "text/plain": [
       "ShapiroResult(statistic=0.8978110496018736, pvalue=8.200360128656659e-12)"
      ]
     },
     "execution_count": 381,
     "metadata": {},
     "output_type": "execute_result"
    }
   ],
   "source": [
    "shapiro(df.tip)"
   ]
  },
  {
   "cell_type": "code",
   "execution_count": 392,
   "id": "a1fac86d-7115-4d2c-9296-1bf25b5c1543",
   "metadata": {},
   "outputs": [
    {
     "name": "stdout",
     "output_type": "stream",
     "text": [
      "test_istatistigi = 0.8978, p-value = 0.0000\n"
     ]
    }
   ],
   "source": [
    "#normallik varsayimi saglanmadi H0 rededildi\n",
    "test_istatistigi, pvalue = shapiro(df[\"tip\"])\n",
    "print(\"test_istatistigi = %.4f, p-value = %.4f\" %(test_istatistigi, pvalue))"
   ]
  },
  {
   "cell_type": "code",
   "execution_count": 394,
   "id": "e4afa288-bb1b-4fef-ad8a-24765a9deaa9",
   "metadata": {},
   "outputs": [
    {
     "data": {
      "text/plain": [
       "ShapiroResult(statistic=0.9135647251969665, pvalue=1.1059404008058959e-10)"
      ]
     },
     "execution_count": 394,
     "metadata": {},
     "output_type": "execute_result"
    }
   ],
   "source": [
    "shapiro(df[\"total_bill\"])"
   ]
  },
  {
   "cell_type": "code",
   "execution_count": 396,
   "id": "ba305bfd-c43f-482c-9fd6-b0d2305ae583",
   "metadata": {},
   "outputs": [
    {
     "name": "stdout",
     "output_type": "stream",
     "text": [
      "test_istatistigi = 0.9136, p-value = 0.0000\n"
     ]
    }
   ],
   "source": [
    "#normallik varsayimi saglanmadi H0 rededildi\n",
    "test_istatistigi, pvalue = shapiro(df.total_bill)\n",
    "print('test_istatistigi = %.4f, p-value = %.4f' % (test_istatistigi, pvalue))"
   ]
  },
  {
   "cell_type": "markdown",
   "id": "1cbe1fe2-e00e-413a-98b5-512ff9d82141",
   "metadata": {},
   "source": [
    "### Hipotez Testi"
   ]
  },
  {
   "cell_type": "markdown",
   "id": "b7e30724-2eed-4d9b-9e67-1533ad35317b",
   "metadata": {},
   "source": [
    "#### Korelsayon Katsayisi"
   ]
  },
  {
   "cell_type": "code",
   "execution_count": 407,
   "id": "72e630d0-a883-4e6c-929f-c98deed85913",
   "metadata": {},
   "outputs": [
    {
     "data": {
      "text/plain": [
       "0.5766634471096374"
      ]
     },
     "execution_count": 407,
     "metadata": {},
     "output_type": "execute_result"
    }
   ],
   "source": [
    "\"\"\"\n",
    ".corr fonksiyonu on tanimli olarak Pearson Korelasyon Katsayısıni  bize verir\n",
    "fakat Pearson's correlation coefficient ancak degiskenler icin normallik \n",
    "varsayimi saglandiginda hesaplanabilir fakat biz \n",
    "gozlemledigimizde bu saglamiyordu bu sebep ile corr'un icersine bir arguman \n",
    "aracigiyla spearman kullaniriz.\n",
    "\n",
    "\"\"\"\n",
    "df[\"tip\"].corr(df[\"total_bill\"])"
   ]
  },
  {
   "cell_type": "code",
   "execution_count": 409,
   "id": "da3d9836-e049-4a0b-a0f6-a37ec3976c0b",
   "metadata": {},
   "outputs": [
    {
     "data": {
      "text/plain": [
       "0.593691939408997"
      ]
     },
     "execution_count": 409,
     "metadata": {},
     "output_type": "execute_result"
    }
   ],
   "source": [
    "df[\"tip\"].corr(df[\"total_bill\"], method = \"spearman\")"
   ]
  },
  {
   "cell_type": "markdown",
   "id": "35667709-331c-4bc6-a501-71d0a529451b",
   "metadata": {},
   "source": [
    "#### Korelasyon Anlamliginin Testi"
   ]
  },
  {
   "cell_type": "code",
   "execution_count": 413,
   "id": "6366503f-37d9-4040-845e-aeaf4178005e",
   "metadata": {},
   "outputs": [],
   "source": [
    "from scipy.stats import pearsonr"
   ]
  },
  {
   "cell_type": "code",
   "execution_count": 419,
   "id": "365e58ea-7f04-4d85-a762-d6111050f912",
   "metadata": {},
   "outputs": [
    {
     "name": "stdout",
     "output_type": "stream",
     "text": [
      "test istatistigi = 0.5767, p-value = 0.0000\n"
     ]
    }
   ],
   "source": [
    "# H0 red ediyoruz yani degiskenler arasinda anlamli bir korealsyon vardir..\n",
    "test_istatistigi, pvalue = pearsonr(df[\"tip\"], df[\"total_bill\"])\n",
    "print('test istatistigi = %.4f, p-value = %.4f' % (test_istatistigi, pvalue))"
   ]
  },
  {
   "cell_type": "markdown",
   "id": "2697c115-2b91-4695-9825-6ed4f14ea75f",
   "metadata": {},
   "source": [
    "### Nonparametrik Hipotez Testi"
   ]
  },
  {
   "cell_type": "code",
   "execution_count": 424,
   "id": "a40ebbd3-7d92-4c2c-b8ff-f8ffa0a01b39",
   "metadata": {},
   "outputs": [
    {
     "data": {
      "text/plain": [
       "SignificanceResult(statistic=0.593691939408997, pvalue=1.2452285137560276e-24)"
      ]
     },
     "execution_count": 424,
     "metadata": {},
     "output_type": "execute_result"
    }
   ],
   "source": [
    "\n",
    "stats.spearmanr(df[\"tip\"], df[\"total_bill\"])"
   ]
  },
  {
   "cell_type": "code",
   "execution_count": 426,
   "id": "88b72afd-bc75-4eb6-a227-619bdc220219",
   "metadata": {},
   "outputs": [
    {
     "name": "stdout",
     "output_type": "stream",
     "text": [
      "Korelasyon katsayisi = 0.5937, p-value = 0.0000\n"
     ]
    }
   ],
   "source": [
    "test_istatistigi, pvalue = stats.spearmanr(df[\"tip\"], df[\"total_bill\"])\n",
    "print('Korelasyon katsayisi = %.4f, p-value = %.4f' % (test_istatistigi, pvalue))"
   ]
  },
  {
   "cell_type": "code",
   "execution_count": 428,
   "id": "2ab096ee-6452-49a8-8fb0-83a6c615ce23",
   "metadata": {},
   "outputs": [
    {
     "name": "stdout",
     "output_type": "stream",
     "text": [
      "Korelasyon katsayisi = 0.4401, p-value = 0.0000\n"
     ]
    }
   ],
   "source": [
    "# spearmanr ismizi gorur ama isteresek bunuda kullanabiliriz\n",
    "test_istatistigi, pvalue = stats.kendalltau(df[\"tip\"], df[\"total_bill\"])\n",
    "print('Korelasyon katsayisi = %.4f, p-value = %.4f' % (test_istatistigi, pvalue))"
   ]
  },
  {
   "cell_type": "code",
   "execution_count": null,
   "id": "f6b97c15-6fd1-484d-b726-ac41a122755a",
   "metadata": {},
   "outputs": [],
   "source": []
  }
 ],
 "metadata": {
  "kernelspec": {
   "display_name": "Python 3 (ipykernel)",
   "language": "python",
   "name": "python3"
  },
  "language_info": {
   "codemirror_mode": {
    "name": "ipython",
    "version": 3
   },
   "file_extension": ".py",
   "mimetype": "text/x-python",
   "name": "python",
   "nbconvert_exporter": "python",
   "pygments_lexer": "ipython3",
   "version": "3.12.4"
  }
 },
 "nbformat": 4,
 "nbformat_minor": 5
}
